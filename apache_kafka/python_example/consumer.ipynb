{
 "cells": [
  {
   "cell_type": "code",
   "execution_count": null,
   "metadata": {},
   "outputs": [],
   "source": [
    "from aiokafka import AIOKafkaConsumer\n",
    "import asyncio"
   ]
  },
  {
   "cell_type": "code",
   "execution_count": null,
   "metadata": {},
   "outputs": [],
   "source": [
    "async def consume():\n",
    "    consumer = AIOKafkaConsumer(\n",
    "        \"message\",\n",
    "        bootstrap_servers=\"localhost:9092\",\n",
    "    )\n",
    "    await consumer.start()\n",
    "    try:\n",
    "        async for msg in consumer:\n",
    "            print(\n",
    "                \"consumed: \",\n",
    "                msg.topic,\n",
    "                msg.partition,\n",
    "                msg.offset,\n",
    "                msg.key,\n",
    "                msg.value,\n",
    "                msg.timestamp,\n",
    "            )\n",
    "    finally:\n",
    "        await consumer.stop()"
   ]
  },
  {
   "cell_type": "code",
   "execution_count": null,
   "metadata": {},
   "outputs": [],
   "source": [
    "await consume()"
   ]
  }
 ],
 "metadata": {
  "kernelspec": {
   "display_name": "Python 3",
   "language": "python",
   "name": "python3"
  },
  "language_info": {
   "codemirror_mode": {
    "name": "ipython",
    "version": 3
   },
   "file_extension": ".py",
   "mimetype": "text/x-python",
   "name": "python",
   "nbconvert_exporter": "python",
   "pygments_lexer": "ipython3",
   "version": "3.10.12"
  }
 },
 "nbformat": 4,
 "nbformat_minor": 2
}
