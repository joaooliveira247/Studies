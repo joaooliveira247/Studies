{
 "cells": [
  {
   "cell_type": "code",
   "execution_count": 8,
   "metadata": {},
   "outputs": [],
   "source": [
    "from pathlib import Path\n",
    "from pyspark.sql import SparkSession, DataFrame\n",
    "from pyspark.ml.regression import LinearRegression\n",
    "from pyspark.ml.feature import VectorAssembler\n",
    "from pyspark.ml import Pipeline\n",
    "\n",
    "\n",
    "BASE_DATA_DIR = Path().home() / \"Documents/PySparkCurso/download\"\n",
    "\n",
    "spark: SparkSession = (\n",
    "    SparkSession.builder.master(\"local\").appName(\"Ml with spark\").getOrCreate()\n",
    ")"
   ]
  },
  {
   "cell_type": "code",
   "execution_count": 4,
   "metadata": {},
   "outputs": [
    {
     "name": "stdout",
     "output_type": "stream",
     "text": [
      "+-------+---------+-----------+---------------+----+-----+---------+-----------+-------+-----------+---+\n",
      "|Consumo|Cilindros|Cilindradas|RelEixoTraseiro|Peso|Tempo|TipoMotor|Transmissao|Marchas|Carburadors| HP|\n",
      "+-------+---------+-----------+---------------+----+-----+---------+-----------+-------+-----------+---+\n",
      "|     21|        6|        160|             39| 262| 1646|        0|          1|      4|          4|110|\n",
      "|     21|        6|        160|             39|2875| 1702|        0|          1|      4|          4|110|\n",
      "|    228|        4|        108|            385| 232| 1861|        1|          1|      4|          1| 93|\n",
      "|    214|        6|        258|            308|3215| 1944|        1|          0|      3|          1|110|\n",
      "|    187|        8|        360|            315| 344| 1702|        0|          0|      3|          2|175|\n",
      "+-------+---------+-----------+---------------+----+-----+---------+-----------+-------+-----------+---+\n",
      "only showing top 5 rows\n",
      "\n"
     ]
    }
   ],
   "source": [
    "cars_temp: DataFrame = spark.read.csv(\n",
    "    str(BASE_DATA_DIR / \"Carros.csv\"), inferSchema=True, header=True, sep=\";\"\n",
    ")\n",
    "cars_temp.show(5)"
   ]
  },
  {
   "cell_type": "code",
   "execution_count": 5,
   "metadata": {},
   "outputs": [
    {
     "name": "stdout",
     "output_type": "stream",
     "text": [
      "+-------+---------+-----------+---+\n",
      "|Consumo|Cilindros|Cilindradas| HP|\n",
      "+-------+---------+-----------+---+\n",
      "|     21|        6|        160|110|\n",
      "|     21|        6|        160|110|\n",
      "|    228|        4|        108| 93|\n",
      "|    214|        6|        258|110|\n",
      "|    187|        8|        360|175|\n",
      "+-------+---------+-----------+---+\n",
      "only showing top 5 rows\n",
      "\n"
     ]
    }
   ],
   "source": [
    "cars = cars_temp.select(\"Consumo\", \"Cilindros\", \"Cilindradas\", \"HP\")\n",
    "cars.show(5)"
   ]
  },
  {
   "cell_type": "code",
   "execution_count": 6,
   "metadata": {},
   "outputs": [
    {
     "name": "stdout",
     "output_type": "stream",
     "text": [
      "+-------+---------+-----------+---+-----------------+\n",
      "|Consumo|Cilindros|Cilindradas| HP|  caracteristicas|\n",
      "+-------+---------+-----------+---+-----------------+\n",
      "|     21|        6|        160|110| [21.0,6.0,160.0]|\n",
      "|     21|        6|        160|110| [21.0,6.0,160.0]|\n",
      "|    228|        4|        108| 93|[228.0,4.0,108.0]|\n",
      "|    214|        6|        258|110|[214.0,6.0,258.0]|\n",
      "|    187|        8|        360|175|[187.0,8.0,360.0]|\n",
      "+-------+---------+-----------+---+-----------------+\n",
      "only showing top 5 rows\n",
      "\n"
     ]
    }
   ],
   "source": [
    "vec_carac = VectorAssembler(\n",
    "    inputCols=[(\"Consumo\"), (\"Cilindros\"), (\"Cilindradas\")],\n",
    "    outputCol=\"caracteristicas\",\n",
    ")\n",
    "\n",
    "vec_car_traine = vec_carac.transform(cars)\n",
    "vec_car_traine.show(5)"
   ]
  },
  {
   "cell_type": "code",
   "execution_count": 7,
   "metadata": {},
   "outputs": [
    {
     "name": "stderr",
     "output_type": "stream",
     "text": [
      "24/04/15 15:56:32 WARN Instrumentation: [41a8e95d] regParam is zero, which might cause numerical instability and overfitting.\n"
     ]
    }
   ],
   "source": [
    "reglin = LinearRegression(featuresCol=\"caracteristicas\", labelCol=\"HP\")\n",
    "model = reglin.fit(vec_car_traine)"
   ]
  },
  {
   "cell_type": "code",
   "execution_count": 9,
   "metadata": {},
   "outputs": [
    {
     "name": "stderr",
     "output_type": "stream",
     "text": [
      "24/04/15 15:58:09 WARN Instrumentation: [e9227fc9] regParam is zero, which might cause numerical instability and overfitting.\n"
     ]
    }
   ],
   "source": [
    "pipeline = Pipeline(stages=[vec_carac, reglin])\n",
    "pipeline_model = pipeline.fit(cars)"
   ]
  },
  {
   "cell_type": "code",
   "execution_count": 10,
   "metadata": {},
   "outputs": [
    {
     "name": "stdout",
     "output_type": "stream",
     "text": [
      "+-------+---------+-----------+---+------------------+------------------+\n",
      "|Consumo|Cilindros|Cilindradas| HP|   caracteristicas|        prediction|\n",
      "+-------+---------+-----------+---+------------------+------------------+\n",
      "|     21|        6|        160|110|  [21.0,6.0,160.0]|162.32154816816646|\n",
      "|     21|        6|        160|110|  [21.0,6.0,160.0]|162.32154816816646|\n",
      "|    228|        4|        108| 93| [228.0,4.0,108.0]| 82.51715587712931|\n",
      "|    214|        6|        258|110| [214.0,6.0,258.0]|141.86680518718754|\n",
      "|    187|        8|        360|175| [187.0,8.0,360.0]|202.93528239714834|\n",
      "|    181|        6|        225|105| [181.0,6.0,225.0]| 145.4980634611832|\n",
      "|    143|        8|        360|245| [143.0,8.0,360.0]|   207.41448530972|\n",
      "|    244|        4|       1467| 62|[244.0,4.0,1467.0]| 69.69282676584851|\n",
      "|    228|        4|       1408| 95|[228.0,4.0,1408.0]| 71.80767356085781|\n",
      "|    192|        6|       1676|123|[192.0,6.0,1676.0]|132.42483285541724|\n",
      "|    178|        6|       1676|123|[178.0,6.0,1676.0]| 133.8500337821446|\n",
      "|    164|        8|       2758|180|[164.0,8.0,2758.0]|185.52180807776818|\n",
      "|    173|        8|       2758|180|[173.0,8.0,2758.0]|184.60560748201488|\n",
      "|    152|        8|       2758|180|[152.0,8.0,2758.0]| 186.7434088721059|\n",
      "|    104|        8|        472|205| [104.0,8.0,472.0]| 210.4620247994542|\n",
      "|    104|        8|        460|215| [104.0,8.0,460.0]|210.56088155929672|\n",
      "|    147|        8|        440|230| [147.0,8.0,440.0]|206.34823997932406|\n",
      "|    324|        4|        787| 66| [324.0,4.0,787.0]| 67.15070452800569|\n",
      "|    304|        4|        757| 52| [304.0,4.0,757.0]| 69.43384775150815|\n",
      "|    339|        4|        711| 65| [339.0,4.0,711.0]| 66.24979634741939|\n",
      "+-------+---------+-----------+---+------------------+------------------+\n",
      "only showing top 20 rows\n",
      "\n"
     ]
    }
   ],
   "source": [
    "prev = pipeline_model.transform(cars)\n",
    "prev.show()"
   ]
  }
 ],
 "metadata": {
  "kernelspec": {
   "display_name": "Python 3",
   "language": "python",
   "name": "python3"
  },
  "language_info": {
   "codemirror_mode": {
    "name": "ipython",
    "version": 3
   },
   "file_extension": ".py",
   "mimetype": "text/x-python",
   "name": "python",
   "nbconvert_exporter": "python",
   "pygments_lexer": "ipython3",
   "version": "3.10.12"
  }
 },
 "nbformat": 4,
 "nbformat_minor": 2
}
