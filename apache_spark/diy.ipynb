{
 "cells": [
  {
   "cell_type": "code",
   "execution_count": 20,
   "metadata": {},
   "outputs": [],
   "source": [
    "from pyspark.sql import SparkSession, DataFrame\n",
    "from pyspark.sql import functions as func\n",
    "from pathlib import Path\n",
    "from collections import defaultdict\n",
    "\n",
    "spark = (\n",
    "    SparkSession.builder.master(\"local\").appName(\"Do It Youself - One\").getOrCreate()\n",
    ")\n",
    "\n",
    "path = Path().home() / \"Documents/PySparkCurso/download/Atividades\""
   ]
  },
  {
   "cell_type": "code",
   "execution_count": 15,
   "metadata": {},
   "outputs": [
    {
     "data": {
      "text/plain": [
       "defaultdict(pyspark.sql.dataframe.DataFrame,\n",
       "            {'itensvendas': DataFrame[ProdutoID: bigint, VendasID: bigint, Quantidade: bigint, ValorUnitario: double, ValorTotal: double, Desconto: string, TotalComDesconto: double],\n",
       "             'vendas': DataFrame[VendasID: bigint, VendedorID: bigint, ClienteID: bigint, Data: string, Total: double],\n",
       "             'clientes': DataFrame[ClienteID: bigint, Cliente: string, Estado: string, Genero: string, Status: string],\n",
       "             'vendedores': DataFrame[VendedorID: bigint, Vendedor: string],\n",
       "             'produtos': DataFrame[ProdutoID: bigint, Produto: string, Preco: string]})"
      ]
     },
     "execution_count": 15,
     "metadata": {},
     "output_type": "execute_result"
    }
   ],
   "source": [
    "def gen_vars(path: Path, session: SparkSession) -> defaultdict[str, DataFrame]:\n",
    "    vars = defaultdict(\n",
    "        DataFrame,\n",
    "    )\n",
    "    for file in path.iterdir():\n",
    "        vars[file.name.split(\".\")[0].lower()] = spark.read.load(\n",
    "            str(file), header=True, format=\"parquet\", inferSchema=True\n",
    "        )\n",
    "    return vars\n",
    "\n",
    "\n",
    "vars = gen_vars(path, spark)\n",
    "vars"
   ]
  },
  {
   "cell_type": "code",
   "execution_count": 22,
   "metadata": {},
   "outputs": [
    {
     "name": "stdout",
     "output_type": "stream",
     "text": [
      "+--------------------+------+--------+\n",
      "|                Nome|Estado|  Status|\n",
      "+--------------------+------+--------+\n",
      "|Adelina Buenaventura|    RJ|  Silver|\n",
      "|        Adelino Gago|    RJ|  Silver|\n",
      "|     Adolfo Patrício|    PE|  Silver|\n",
      "|    Adriana Guedelha|    RO|Platinum|\n",
      "|       Adélio Lisboa|    SE|  Silver|\n",
      "|       Adérito Bahía|    MA|  Silver|\n",
      "|       Aida Dorneles|    RN|  Silver|\n",
      "|   Alarico Quinterno|    AC|  Silver|\n",
      "|    Alberto Cezimbra|    AM|  Silver|\n",
      "|    Alberto Monsanto|    RN|    Gold|\n",
      "|       Albino Canela|    AC|  Silver|\n",
      "|     Alceste Varanda|    RR|  Silver|\n",
      "|  Alcides Carvalhais|    RO|  Silver|\n",
      "|        Aldo Martins|    GO|  Silver|\n",
      "|   Alexandra Tabares|    MG|  Silver|\n",
      "|      Alfredo Cotrim|    SC|  Silver|\n",
      "|     Almeno Figueira|    SC|  Silver|\n",
      "|      Alvito Peralta|    AM|  Silver|\n",
      "|     Amadeu Martinho|    RN|  Silver|\n",
      "|      Amélia Estévez|    PE|  Silver|\n",
      "+--------------------+------+--------+\n",
      "only showing top 20 rows\n",
      "\n"
     ]
    }
   ],
   "source": [
    "vars[\"clientes\"].select(\n",
    "    func.col(\"Cliente\").alias(\"Nome\"),\n",
    "    \"Estado\",\n",
    "    \"Status\",\n",
    ").show()"
   ]
  },
  {
   "cell_type": "code",
   "execution_count": 24,
   "metadata": {},
   "outputs": [
    {
     "name": "stdout",
     "output_type": "stream",
     "text": [
      "+-------------------+--------+\n",
      "|               Nome|  Status|\n",
      "+-------------------+--------+\n",
      "|   Adriana Guedelha|Platinum|\n",
      "|   Alberto Monsanto|    Gold|\n",
      "|      Anna Carvajal|    Gold|\n",
      "|      Bento Quintão|    Gold|\n",
      "|      Carminda Dias|    Gold|\n",
      "|      Cláudio Jorge|    Gold|\n",
      "|    Dionísio Saltão|    Gold|\n",
      "|   Firmino Meireles|    Gold|\n",
      "|      Flor Vilanova|Platinum|\n",
      "|Honorina Villaverde|    Gold|\n",
      "|    Ibijara Botelho|Platinum|\n",
      "|  Iracema Rodríguez|    Gold|\n",
      "|         Joana Ataí|Platinum|\n",
      "+-------------------+--------+\n",
      "\n"
     ]
    }
   ],
   "source": [
    "vars[\"clientes\"].select(func.col(\"Cliente\").alias(\"Nome\"), \"Status\").where(\n",
    "    func.col(\"Status\") != \"Silver\"\n",
    ").show()"
   ]
  },
  {
   "cell_type": "markdown",
   "metadata": {},
   "source": [
    " ### Join clientes in vendas"
   ]
  },
  {
   "cell_type": "code",
   "execution_count": 37,
   "metadata": {},
   "outputs": [
    {
     "name": "stdout",
     "output_type": "stream",
     "text": [
      "+--------+--------------------+------+\n",
      "|VendasID|                Nome|Status|\n",
      "+--------+--------------------+------+\n",
      "|     382|Adelina Buenaventura|Silver|\n",
      "|     254|        Adelino Gago|Silver|\n",
      "|     336|     Adolfo Patrício|Silver|\n",
      "|     374|       Adélio Lisboa|Silver|\n",
      "|     355|       Adélio Lisboa|Silver|\n",
      "|     292|       Adélio Lisboa|Silver|\n",
      "|     378|   Alarico Quinterno|Silver|\n",
      "|     316|        Aldo Martins|Silver|\n",
      "|     258|        Aldo Martins|Silver|\n",
      "|     154|   Alexandra Tabares|Silver|\n",
      "|     147|   Alexandra Tabares|Silver|\n",
      "|     136|   Alexandra Tabares|Silver|\n",
      "|     149|      Alfredo Cotrim|Silver|\n",
      "|      91|      Alfredo Cotrim|Silver|\n",
      "|     351|     Almeno Figueira|Silver|\n",
      "|     312|     Amadeu Martinho|Silver|\n",
      "|     331|           Ana Homem|Silver|\n",
      "|     313|   Anacleto Guterres|Silver|\n",
      "|     204|           Anna Beça|Silver|\n",
      "|     108|           Anna Beça|Silver|\n",
      "+--------+--------------------+------+\n",
      "only showing top 20 rows\n",
      "\n"
     ]
    }
   ],
   "source": [
    "vendas_clientes = (\n",
    "    vars[\"vendas\"]\n",
    "    .join(\n",
    "        vars[\"clientes\"],\n",
    "        \"ClienteID\",\n",
    "        \"inner\",\n",
    "    )\n",
    "    .select(\"VendasID\", func.col(\"Cliente\").alias(\"Nome\"), \"Status\")\n",
    ")\n",
    "vendas_clientes.show()"
   ]
  },
  {
   "cell_type": "markdown",
   "metadata": {},
   "source": [
    "### Join vendas_clientes on itens venda"
   ]
  },
  {
   "cell_type": "code",
   "execution_count": 47,
   "metadata": {},
   "outputs": [
    {
     "name": "stdout",
     "output_type": "stream",
     "text": [
      "+------+----------+-------+\n",
      "|Status|Quantidade|  Total|\n",
      "+------+----------+-------+\n",
      "|Silver|         1|7820.85|\n",
      "|Silver|         1|  97.75|\n",
      "|Silver|         1|  135.0|\n",
      "|Silver|         1|  150.4|\n",
      "|Silver|         1|  155.0|\n",
      "|Silver|         2| 5932.0|\n",
      "|Silver|         1|7820.85|\n",
      "|Silver|         1|  97.75|\n",
      "|Silver|         2| 5910.0|\n",
      "|Silver|         1| 2955.0|\n",
      "|Silver|         1| 7658.0|\n",
      "|Silver|         1| 8852.0|\n",
      "|Silver|         1|  121.5|\n",
      "|Silver|         2|6510.16|\n",
      "|Silver|         2|18402.0|\n",
      "|Silver|         1| 7524.2|\n",
      "|Silver|         2|  376.0|\n",
      "|Silver|         1|3616.75|\n",
      "|Silver|         1|  108.0|\n",
      "|Silver|         1|  115.0|\n",
      "+------+----------+-------+\n",
      "only showing top 20 rows\n",
      "\n"
     ]
    }
   ],
   "source": [
    "status_vendas = vendas_clientes.join(vars[\"itensvendas\"], \"VendasID\", \"inner\").select(\n",
    "    \"Status\", \"Quantidade\", func.col(\"ValorTotal\").alias(\"Total\")\n",
    ")\n",
    "status_vendas.show()"
   ]
  },
  {
   "cell_type": "code",
   "execution_count": 49,
   "metadata": {},
   "outputs": [
    {
     "name": "stdout",
     "output_type": "stream",
     "text": [
      "+--------+------------+---------+\n",
      "|  Status|Total Vendas|    Total|\n",
      "+--------+------------+---------+\n",
      "|Platinum|           7|  12585.0|\n",
      "|  Silver|        1046|3014291.0|\n",
      "|    Gold|           7|  27287.0|\n",
      "+--------+------------+---------+\n",
      "\n"
     ]
    }
   ],
   "source": [
    "status_vendas.groupBy(\"Status\").agg(\n",
    "    func.sum(\"Quantidade\").alias(\"Total Vendas\"),\n",
    "    func.round(func.sum(\"Total\")).alias(\"Total\"),\n",
    ").show()"
   ]
  }
 ],
 "metadata": {
  "kernelspec": {
   "display_name": "Python 3",
   "language": "python",
   "name": "python3"
  },
  "language_info": {
   "codemirror_mode": {
    "name": "ipython",
    "version": 3
   },
   "file_extension": ".py",
   "mimetype": "text/x-python",
   "name": "python",
   "nbconvert_exporter": "python",
   "pygments_lexer": "ipython3",
   "version": "3.10.12"
  }
 },
 "nbformat": 4,
 "nbformat_minor": 2
}
