{
 "cells": [
  {
   "cell_type": "markdown",
   "metadata": {},
   "source": [
    "### Postgres connection\n"
   ]
  },
  {
   "cell_type": "code",
   "execution_count": 2,
   "metadata": {},
   "outputs": [
    {
     "name": "stderr",
     "output_type": "stream",
     "text": [
      "24/04/05 14:03:01 WARN Utils: Your hostname, IdeaPad-Gaming-3-15IHU6 resolves to a loopback address: 127.0.1.1; using 192.168.1.5 instead (on interface wlp0s20f3)\n",
      "24/04/05 14:03:01 WARN Utils: Set SPARK_LOCAL_IP if you need to bind to another address\n",
      "24/04/05 14:03:01 WARN NativeCodeLoader: Unable to load native-hadoop library for your platform... using builtin-java classes where applicable\n",
      "Setting default log level to \"WARN\".\n",
      "To adjust logging level use sc.setLogLevel(newLevel). For SparkR, use setLogLevel(newLevel).\n"
     ]
    }
   ],
   "source": [
    "from pyspark.sql import SparkSession, DataFrame\n",
    "from pyspark.sql import functions as func\n",
    "from pathlib import Path\n",
    "\n",
    "path = Path().home() / \"Documents/PySparkCurso/download\"\n",
    "\n",
    "spark = (\n",
    "    SparkSession.builder.master(\"local\")\n",
    "    .config(\"spark.jars\", str(path / \"postgresql-42.7.3.jar\"))\n",
    "    .appName(\"Do It Youself - One\")\n",
    "    .getOrCreate()\n",
    ")"
   ]
  },
  {
   "cell_type": "code",
   "execution_count": 6,
   "metadata": {},
   "outputs": [],
   "source": [
    "resume: DataFrame = (\n",
    "    spark.read.format(\"jdbc\")\n",
    "    .option(\"url\", \"jdbc:postgresql://localhost:5432/postgres\")\n",
    "    .option(\"dbtable\", \"Vendas\")\n",
    "    .option(\"user\", \"user\")\n",
    "    .option(\"password\", \"passwd\")\n",
    "    .option(\"driver\", \"org.postgresql.Driver\")\n",
    "    .load()\n",
    ")"
   ]
  },
  {
   "cell_type": "code",
   "execution_count": 7,
   "metadata": {},
   "outputs": [
    {
     "name": "stdout",
     "output_type": "stream",
     "text": [
      "+----------+--------+\n",
      "|      data|   total|\n",
      "+----------+--------+\n",
      "|2016-01-01| 8053.60|\n",
      "|2016-01-01|  150.40|\n",
      "|2016-01-02| 6087.00|\n",
      "|2016-01-02|13828.60|\n",
      "|2016-01-03|26096.66|\n",
      "|2016-01-04|18402.00|\n",
      "|2016-01-06| 7524.20|\n",
      "|2016-01-06|12036.60|\n",
      "|2016-01-06| 2804.75|\n",
      "|2016-01-06| 8852.00|\n",
      "|2016-01-08|16545.25|\n",
      "|2016-01-09|11411.88|\n",
      "|2016-01-10|15829.70|\n",
      "|2016-01-12| 6154.36|\n",
      "|2016-01-12| 3255.08|\n",
      "|2016-01-13| 2901.25|\n",
      "|2016-01-13|15829.70|\n",
      "|2016-01-14|16996.36|\n",
      "|2016-01-14|  155.00|\n",
      "|2016-01-15|  131.75|\n",
      "+----------+--------+\n",
      "only showing top 20 rows\n",
      "\n"
     ]
    }
   ],
   "source": [
    "vendadata = resume.select(\"data\", \"total\")\n",
    "vendadata.show()"
   ]
  },
  {
   "cell_type": "code",
   "execution_count": 8,
   "metadata": {},
   "outputs": [],
   "source": [
    "vendadata.write.format(\"jdbc\").option(\n",
    "    \"url\", \"jdbc:postgresql://localhost:5432/postgres\"\n",
    ").option(\"dbtable\", \"VendaData\").option(\"user\", \"user\").option(\n",
    "    \"password\", \"passwd\"\n",
    ").option(\"driver\", \"org.postgresql.Driver\").save()"
   ]
  }
 ],
 "metadata": {
  "kernelspec": {
   "display_name": "Python 3",
   "language": "python",
   "name": "python3"
  },
  "language_info": {
   "codemirror_mode": {
    "name": "ipython",
    "version": 3
   },
   "file_extension": ".py",
   "mimetype": "text/x-python",
   "name": "python",
   "nbconvert_exporter": "python",
   "pygments_lexer": "ipython3",
   "version": "3.10.12"
  }
 },
 "nbformat": 4,
 "nbformat_minor": 2
}
