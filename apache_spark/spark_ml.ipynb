{
 "cells": [
  {
   "cell_type": "code",
   "execution_count": 11,
   "metadata": {},
   "outputs": [],
   "source": [
    "from pathlib import Path\n",
    "from pyspark.sql import SparkSession, DataFrame\n",
    "from pyspark.ml.regression import LinearRegression, RandomForestRegressor\n",
    "from pyspark.ml.evaluation import RegressionEvaluator\n",
    "from pyspark.ml.feature import VectorAssembler\n",
    "\n",
    "\n",
    "BASE_DATA_DIR = Path().home() / \"Documents/PySparkCurso/download\"\n",
    "\n",
    "spark: SparkSession = (\n",
    "    SparkSession.builder.master(\"local\").appName(\"Ml with spark\").getOrCreate()\n",
    ")"
   ]
  },
  {
   "cell_type": "code",
   "execution_count": 3,
   "metadata": {},
   "outputs": [
    {
     "name": "stdout",
     "output_type": "stream",
     "text": [
      "+-------+---------+-----------+---------------+----+-----+---------+-----------+-------+-----------+---+\n",
      "|Consumo|Cilindros|Cilindradas|RelEixoTraseiro|Peso|Tempo|TipoMotor|Transmissao|Marchas|Carburadors| HP|\n",
      "+-------+---------+-----------+---------------+----+-----+---------+-----------+-------+-----------+---+\n",
      "|     21|        6|        160|             39| 262| 1646|        0|          1|      4|          4|110|\n",
      "|     21|        6|        160|             39|2875| 1702|        0|          1|      4|          4|110|\n",
      "|    228|        4|        108|            385| 232| 1861|        1|          1|      4|          1| 93|\n",
      "|    214|        6|        258|            308|3215| 1944|        1|          0|      3|          1|110|\n",
      "|    187|        8|        360|            315| 344| 1702|        0|          0|      3|          2|175|\n",
      "+-------+---------+-----------+---------------+----+-----+---------+-----------+-------+-----------+---+\n",
      "only showing top 5 rows\n",
      "\n"
     ]
    }
   ],
   "source": [
    "cars_temp: DataFrame = spark.read.csv(\n",
    "    str(BASE_DATA_DIR / \"Carros.csv\"), inferSchema=True, header=True, sep=\";\"\n",
    ")\n",
    "\n",
    "cars_temp.show(5)"
   ]
  },
  {
   "cell_type": "code",
   "execution_count": 4,
   "metadata": {},
   "outputs": [
    {
     "name": "stdout",
     "output_type": "stream",
     "text": [
      "+-------+---------+-----------+---+\n",
      "|Consumo|Cilindros|Cilindradas| HP|\n",
      "+-------+---------+-----------+---+\n",
      "|     21|        6|        160|110|\n",
      "|     21|        6|        160|110|\n",
      "|    228|        4|        108| 93|\n",
      "|    214|        6|        258|110|\n",
      "|    187|        8|        360|175|\n",
      "+-------+---------+-----------+---+\n",
      "only showing top 5 rows\n",
      "\n"
     ]
    }
   ],
   "source": [
    "cars: DataFrame = cars_temp.select(\"Consumo\", \"Cilindros\", \"Cilindradas\", \"HP\")\n",
    "cars.show(5)"
   ]
  },
  {
   "cell_type": "code",
   "execution_count": 5,
   "metadata": {},
   "outputs": [],
   "source": [
    "vec_carac = VectorAssembler(\n",
    "    inputCols=[(\"Consumo\"), (\"Cilindros\"), (\"Cilindradas\")],\n",
    "    outputCol=\"characteristics\",\n",
    ")"
   ]
  },
  {
   "cell_type": "code",
   "execution_count": 6,
   "metadata": {},
   "outputs": [
    {
     "name": "stdout",
     "output_type": "stream",
     "text": [
      "+-------+---------+-----------+---+-----------------+\n",
      "|Consumo|Cilindros|Cilindradas| HP|  characteristics|\n",
      "+-------+---------+-----------+---+-----------------+\n",
      "|     21|        6|        160|110| [21.0,6.0,160.0]|\n",
      "|     21|        6|        160|110| [21.0,6.0,160.0]|\n",
      "|    228|        4|        108| 93|[228.0,4.0,108.0]|\n",
      "|    214|        6|        258|110|[214.0,6.0,258.0]|\n",
      "|    187|        8|        360|175|[187.0,8.0,360.0]|\n",
      "+-------+---------+-----------+---+-----------------+\n",
      "only showing top 5 rows\n",
      "\n"
     ]
    }
   ],
   "source": [
    "cars = vec_carac.transform(cars)\n",
    "cars.show(5)"
   ]
  },
  {
   "cell_type": "code",
   "execution_count": 7,
   "metadata": {},
   "outputs": [
    {
     "name": "stdout",
     "output_type": "stream",
     "text": [
      "22 10\n"
     ]
    }
   ],
   "source": [
    "cars_traine, car_test = cars.randomSplit([0.7, 0.3])\n",
    "\n",
    "print(cars_traine.count(), car_test.count())"
   ]
  },
  {
   "cell_type": "markdown",
   "metadata": {},
   "source": [
    "### Modelo Regressão linear"
   ]
  },
  {
   "cell_type": "code",
   "execution_count": 8,
   "metadata": {},
   "outputs": [
    {
     "name": "stderr",
     "output_type": "stream",
     "text": [
      "24/04/15 14:20:26 WARN Instrumentation: [cd13b401] regParam is zero, which might cause numerical instability and overfitting.\n"
     ]
    }
   ],
   "source": [
    "reglin = LinearRegression(featuresCol=\"characteristics\", labelCol=\"HP\")\n",
    "model = reglin.fit(cars_traine)"
   ]
  },
  {
   "cell_type": "code",
   "execution_count": 9,
   "metadata": {},
   "outputs": [
    {
     "name": "stdout",
     "output_type": "stream",
     "text": [
      "+-------+---------+-----------+---+------------------+------------------+\n",
      "|Consumo|Cilindros|Cilindradas| HP|   characteristics|        prediction|\n",
      "+-------+---------+-----------+---+------------------+------------------+\n",
      "|    133|        8|        350|245| [133.0,8.0,350.0]|215.40613079110423|\n",
      "|    152|        8|        304|150| [152.0,8.0,304.0]| 213.8041142265771|\n",
      "|    152|        8|       2758|180|[152.0,8.0,2758.0]|186.72919714566717|\n",
      "|    155|        8|        318|150| [155.0,8.0,318.0]|213.31656838415577|\n",
      "|    158|        8|        351|264| [158.0,8.0,351.0]|212.61939604436802|\n",
      "+-------+---------+-----------+---+------------------+------------------+\n",
      "only showing top 5 rows\n",
      "\n"
     ]
    }
   ],
   "source": [
    "prev: DataFrame = model.transform(car_test)\n",
    "prev.show(5)"
   ]
  },
  {
   "cell_type": "code",
   "execution_count": 10,
   "metadata": {},
   "outputs": [
    {
     "name": "stdout",
     "output_type": "stream",
     "text": [
      "41.26235225342907\n"
     ]
    }
   ],
   "source": [
    "aval = RegressionEvaluator(\n",
    "    predictionCol=\"prediction\",\n",
    "    labelCol=\"HP\",\n",
    "    metricName=\"rmse\",\n",
    ")\n",
    "\n",
    "rmse = aval.evaluate(prev)\n",
    "print(rmse)"
   ]
  },
  {
   "cell_type": "markdown",
   "metadata": {},
   "source": [
    "### RandomForestRegression"
   ]
  },
  {
   "cell_type": "code",
   "execution_count": 12,
   "metadata": {},
   "outputs": [
    {
     "name": "stderr",
     "output_type": "stream",
     "text": [
      "24/04/15 14:25:42 WARN DecisionTreeMetadata: DecisionTree reducing maxBins from 32 to 22 (= number of training instances)\n"
     ]
    }
   ],
   "source": [
    "rfr = RandomForestRegressor(featuresCol=\"characteristics\", labelCol=\"HP\")\n",
    "model_2 = rfr.fit(cars_traine)"
   ]
  },
  {
   "cell_type": "code",
   "execution_count": 13,
   "metadata": {},
   "outputs": [
    {
     "name": "stderr",
     "output_type": "stream",
     "text": [
      "WARNING: An illegal reflective access operation has occurred\n",
      "WARNING: Illegal reflective access by org.apache.spark.util.SizeEstimator$ (file:/opt/spark/jars/spark-core_2.12-3.5.1.jar) to field java.nio.charset.Charset.name\n",
      "WARNING: Please consider reporting this to the maintainers of org.apache.spark.util.SizeEstimator$\n",
      "WARNING: Use --illegal-access=warn to enable warnings of further illegal reflective access operations\n",
      "WARNING: All illegal access operations will be denied in a future release\n"
     ]
    },
    {
     "name": "stdout",
     "output_type": "stream",
     "text": [
      "+-------+---------+-----------+---+------------------+------------------+\n",
      "|Consumo|Cilindros|Cilindradas| HP|   characteristics|        prediction|\n",
      "+-------+---------+-----------+---+------------------+------------------+\n",
      "|    133|        8|        350|245| [133.0,8.0,350.0]|207.91118326118325|\n",
      "|    152|        8|        304|150| [152.0,8.0,304.0]| 214.3695165945166|\n",
      "|    152|        8|       2758|180|[152.0,8.0,2758.0]| 195.8945165945166|\n",
      "|    155|        8|        318|150| [155.0,8.0,318.0]| 214.3695165945166|\n",
      "|    158|        8|        351|264| [158.0,8.0,351.0]|192.23618326118327|\n",
      "+-------+---------+-----------+---+------------------+------------------+\n",
      "only showing top 5 rows\n",
      "\n"
     ]
    }
   ],
   "source": [
    "prev_2: DataFrame = model_2.transform(car_test)\n",
    "prev_2.show(5)"
   ]
  },
  {
   "cell_type": "code",
   "execution_count": 14,
   "metadata": {},
   "outputs": [
    {
     "name": "stdout",
     "output_type": "stream",
     "text": [
      "45.82873897758248 41.26235225342907\n"
     ]
    }
   ],
   "source": [
    "rmse_2 = aval.evaluate(prev_2)\n",
    "\n",
    "print(rmse_2, rmse)"
   ]
  }
 ],
 "metadata": {
  "kernelspec": {
   "display_name": "Python 3",
   "language": "python",
   "name": "python3"
  },
  "language_info": {
   "codemirror_mode": {
    "name": "ipython",
    "version": 3
   },
   "file_extension": ".py",
   "mimetype": "text/x-python",
   "name": "python",
   "nbconvert_exporter": "python",
   "pygments_lexer": "ipython3",
   "version": "3.10.12"
  }
 },
 "nbformat": 4,
 "nbformat_minor": 2
}
