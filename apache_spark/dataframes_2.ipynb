{
 "cells": [
  {
   "cell_type": "code",
   "execution_count": 1,
   "metadata": {},
   "outputs": [
    {
     "name": "stderr",
     "output_type": "stream",
     "text": [
      "24/04/01 09:46:13 WARN Utils: Your hostname, IdeaPad-Gaming-3-15IHU6 resolves to a loopback address: 127.0.1.1; using 192.168.1.5 instead (on interface wlp0s20f3)\n",
      "24/04/01 09:46:13 WARN Utils: Set SPARK_LOCAL_IP if you need to bind to another address\n",
      "Setting default log level to \"WARN\".\n",
      "To adjust logging level use sc.setLogLevel(newLevel). For SparkR, use setLogLevel(newLevel).\n",
      "24/04/01 09:46:14 WARN NativeCodeLoader: Unable to load native-hadoop library for your platform... using builtin-java classes where applicable\n",
      "                                                                                \r"
     ]
    },
    {
     "name": "stdout",
     "output_type": "stream",
     "text": [
      "+-----+---+\n",
      "|   _1| _2|\n",
      "+-----+---+\n",
      "|Pedro| 10|\n",
      "|Maria| 20|\n",
      "| José| 40|\n",
      "+-----+---+\n",
      "\n"
     ]
    }
   ],
   "source": [
    "from pyspark.sql import SparkSession\n",
    "\n",
    "spark = SparkSession.builder.master(\"local\").appName(\"fist dataframe\").getOrCreate()\n",
    "\n",
    "dataframe_1 = spark.createDataFrame([(\"Pedro\", 10), (\"Maria\", 20), (\"José\", 40)])\n",
    "dataframe_1.show()"
   ]
  },
  {
   "cell_type": "code",
   "execution_count": 2,
   "metadata": {},
   "outputs": [
    {
     "name": "stdout",
     "output_type": "stream",
     "text": [
      "+---+-----+\n",
      "| Id| Name|\n",
      "+---+-----+\n",
      "|  1|Pedro|\n",
      "|  2|Maria|\n",
      "+---+-----+\n",
      "\n"
     ]
    }
   ],
   "source": [
    "schema = \"Id INT, Name STRING\"\n",
    "data = [[1, \"Pedro\"], [2, \"Maria\"]]\n",
    "dataframe_2 = spark.createDataFrame(data, schema)\n",
    "dataframe_2.show()"
   ]
  },
  {
   "cell_type": "code",
   "execution_count": 3,
   "metadata": {},
   "outputs": [
    {
     "name": "stdout",
     "output_type": "stream",
     "text": [
      "+--------+------+\n",
      "|Produtos|Vendas|\n",
      "+--------+------+\n",
      "|  Pencil|    10|\n",
      "|     Pen|    20|\n",
      "|  Pencil|    15|\n",
      "+--------+------+\n",
      "\n",
      "+--------+-----------+\n",
      "|Produtos|sum(Vendas)|\n",
      "+--------+-----------+\n",
      "|     Pen|         20|\n",
      "|  Pencil|         25|\n",
      "+--------+-----------+\n",
      "\n"
     ]
    }
   ],
   "source": [
    "from pyspark.sql.functions import sum\n",
    "\n",
    "schema_2 = \"Produtos String, Vendas INT\"\n",
    "vendas = [[\"Pencil\", 10], [\"Pen\", 20], [\"Pencil\", 15]]\n",
    "dataframe_3 = spark.createDataFrame(vendas, schema_2)\n",
    "dataframe_3.show()\n",
    "\n",
    "agg = dataframe_3.groupBy(\"Produtos\").agg(sum(\"Vendas\"))\n",
    "agg.show()"
   ]
  },
  {
   "cell_type": "code",
   "execution_count": 4,
   "metadata": {},
   "outputs": [
    {
     "name": "stdout",
     "output_type": "stream",
     "text": [
      "+--------+\n",
      "|Produtos|\n",
      "+--------+\n",
      "|  Pencil|\n",
      "|     Pen|\n",
      "|  Pencil|\n",
      "+--------+\n",
      "\n"
     ]
    }
   ],
   "source": [
    "dataframe_3.select(\"Produtos\").show()"
   ]
  },
  {
   "cell_type": "code",
   "execution_count": 5,
   "metadata": {},
   "outputs": [
    {
     "name": "stdout",
     "output_type": "stream",
     "text": [
      "+--------+------+--------------+\n",
      "|Produtos|Vendas|(Vendas * 0.2)|\n",
      "+--------+------+--------------+\n",
      "|  Pencil|    10|           2.0|\n",
      "|     Pen|    20|           4.0|\n",
      "|  Pencil|    15|           3.0|\n",
      "+--------+------+--------------+\n",
      "\n"
     ]
    }
   ],
   "source": [
    "from pyspark.sql.functions import expr\n",
    "\n",
    "dataframe_3.select(\"Produtos\", \"Vendas\", expr(\"Vendas * 0.2\")).show()"
   ]
  },
  {
   "cell_type": "code",
   "execution_count": 7,
   "metadata": {},
   "outputs": [
    {
     "name": "stdout",
     "output_type": "stream",
     "text": [
      "StructType([StructField('Produtos', StringType(), True), StructField('Vendas', IntegerType(), True)])\n"
     ]
    },
    {
     "data": {
      "text/plain": [
       "['Produtos', 'Vendas']"
      ]
     },
     "execution_count": 7,
     "metadata": {},
     "output_type": "execute_result"
    }
   ],
   "source": [
    "print(dataframe_3.schema)\n",
    "dataframe_3.columns"
   ]
  },
  {
   "cell_type": "code",
   "execution_count": 17,
   "metadata": {},
   "outputs": [
    {
     "name": "stdout",
     "output_type": "stream",
     "text": [
      "+---+-------------------+------+-------------+-----+----------+\n",
      "| id|               name|status|         city|sales|      date|\n",
      "+---+-------------------+------+-------------+-----+----------+\n",
      "|  1|   Carminda Pestana| Ativo|  Santa Maria|   23|2020-08-11|\n",
      "|  2|    Deolinda Vilela| Ativo|Novo Hamburgo|   34|2020-03-05|\n",
      "|  3|   Emídio Dornelles| Ativo| Porto Alegre|   34|2020-02-05|\n",
      "|  4|Felisbela Dornelles| Ativo| Porto Alegre|   36|2020-02-05|\n",
      "|  5|     Graça Ornellas| Ativo| Porto Alegre|   12|2020-02-05|\n",
      "|  6|   Matilde Rebouças| Ativo| Porto Alegre|   22|2019-01-05|\n",
      "|  7|    Noêmia   Orriça| Ativo|  Santa Maria|   45|2019-10-05|\n",
      "|  8|      Roque Vásquez| Ativo| Porto Alegre|   65|2020-03-05|\n",
      "|  9|      Uriel Queiroz| Ativo| Porto Alegre|   54|2018-05-05|\n",
      "| 10|   Viviana Sequeira| Ativo| Porto Alegre|    0|2020-09-05|\n",
      "+---+-------------------+------+-------------+-----+----------+\n",
      "\n",
      "StructType([StructField('id', StringType(), True), StructField('name', StringType(), True), StructField('status', StringType(), True), StructField('city', StringType(), True), StructField('sales', IntegerType(), True), StructField('date', StringType(), True)])\n"
     ]
    }
   ],
   "source": [
    "from pathlib import Path\n",
    "from pyspark.sql.types import *\n",
    "\n",
    "path = Path().home() / \"Documents/PySparkCurso/download/despachantes.csv\"\n",
    "\n",
    "arq_schema = (\n",
    "    \"id STRING, name STRING, status STRING, city STRING, \" \"sales INT, date STRING\"\n",
    ")\n",
    "\n",
    "despachantes = spark.read.csv(str(path), schema=arq_schema)\n",
    "despachantes.show()\n",
    "print(despachantes.schema)"
   ]
  },
  {
   "cell_type": "code",
   "execution_count": 16,
   "metadata": {},
   "outputs": [
    {
     "name": "stdout",
     "output_type": "stream",
     "text": [
      "+---+-------------------+-----+-------------+---+----------+\n",
      "|_c0|                _c1|  _c2|          _c3|_c4|       _c5|\n",
      "+---+-------------------+-----+-------------+---+----------+\n",
      "|  1|   Carminda Pestana|Ativo|  Santa Maria| 23|2020-08-11|\n",
      "|  2|    Deolinda Vilela|Ativo|Novo Hamburgo| 34|2020-03-05|\n",
      "|  3|   Emídio Dornelles|Ativo| Porto Alegre| 34|2020-02-05|\n",
      "|  4|Felisbela Dornelles|Ativo| Porto Alegre| 36|2020-02-05|\n",
      "|  5|     Graça Ornellas|Ativo| Porto Alegre| 12|2020-02-05|\n",
      "|  6|   Matilde Rebouças|Ativo| Porto Alegre| 22|2019-01-05|\n",
      "|  7|    Noêmia   Orriça|Ativo|  Santa Maria| 45|2019-10-05|\n",
      "|  8|      Roque Vásquez|Ativo| Porto Alegre| 65|2020-03-05|\n",
      "|  9|      Uriel Queiroz|Ativo| Porto Alegre| 54|2018-05-05|\n",
      "| 10|   Viviana Sequeira|Ativo| Porto Alegre|  0|2020-09-05|\n",
      "+---+-------------------+-----+-------------+---+----------+\n",
      "\n",
      "StructType([StructField('_c0', IntegerType(), True), StructField('_c1', StringType(), True), StructField('_c2', StringType(), True), StructField('_c3', StringType(), True), StructField('_c4', IntegerType(), True), StructField('_c5', DateType(), True)])\n"
     ]
    }
   ],
   "source": [
    "desp_autoshcema = spark.read.load(\n",
    "    str(path), header=False, format=\"csv\", sep=\",\", inferSchema=True\n",
    ")\n",
    "\n",
    "desp_autoshcema.show()\n",
    "print(desp_autoshcema.schema)"
   ]
  },
  {
   "cell_type": "code",
   "execution_count": 19,
   "metadata": {},
   "outputs": [
    {
     "name": "stdout",
     "output_type": "stream",
     "text": [
      "+---+-------------------+-----+\n",
      "| id|               name|sales|\n",
      "+---+-------------------+-----+\n",
      "|  1|   Carminda Pestana|   23|\n",
      "|  2|    Deolinda Vilela|   34|\n",
      "|  3|   Emídio Dornelles|   34|\n",
      "|  4|Felisbela Dornelles|   36|\n",
      "|  6|   Matilde Rebouças|   22|\n",
      "|  7|    Noêmia   Orriça|   45|\n",
      "|  8|      Roque Vásquez|   65|\n",
      "|  9|      Uriel Queiroz|   54|\n",
      "+---+-------------------+-----+\n",
      "\n"
     ]
    }
   ],
   "source": [
    "from pyspark.sql import functions as func\n",
    "\n",
    "despachantes.select(\"id\", \"name\", \"sales\").where(func.col(\"sales\") > 20).show()"
   ]
  },
  {
   "cell_type": "code",
   "execution_count": 20,
   "metadata": {},
   "outputs": [
    {
     "name": "stdout",
     "output_type": "stream",
     "text": [
      "+---+-------------------+-----+\n",
      "| id|               name|sales|\n",
      "+---+-------------------+-----+\n",
      "|  1|   Carminda Pestana|   23|\n",
      "|  2|    Deolinda Vilela|   34|\n",
      "|  3|   Emídio Dornelles|   34|\n",
      "|  4|Felisbela Dornelles|   36|\n",
      "|  6|   Matilde Rebouças|   22|\n",
      "+---+-------------------+-----+\n",
      "\n"
     ]
    }
   ],
   "source": [
    "despachantes.select(\"id\", \"name\", \"sales\").where(\n",
    "    (func.col(\"sales\") > 20) & (func.col(\"sales\") < 40)\n",
    ").show()"
   ]
  },
  {
   "cell_type": "code",
   "execution_count": 21,
   "metadata": {},
   "outputs": [
    {
     "data": {
      "text/plain": [
       "['id', 'names', 'status', 'city', 'sales', 'date']"
      ]
     },
     "execution_count": 21,
     "metadata": {},
     "output_type": "execute_result"
    }
   ],
   "source": [
    "new_df = despachantes.withColumnRenamed(\"name\", \"names\")\n",
    "new_df.columns"
   ]
  },
  {
   "cell_type": "code",
   "execution_count": 22,
   "metadata": {},
   "outputs": [
    {
     "data": {
      "text/plain": [
       "StructType([StructField('id', StringType(), True), StructField('name', StringType(), True), StructField('status', StringType(), True), StructField('city', StringType(), True), StructField('sales', IntegerType(), True), StructField('date', StringType(), True), StructField('data_2', TimestampType(), True)])"
      ]
     },
     "execution_count": 22,
     "metadata": {},
     "output_type": "execute_result"
    }
   ],
   "source": [
    "despachantes_2 = despachantes.withColumn(\n",
    "    \"data_2\", func.to_timestamp(func.col(\"date\"), \"yyyy-MM-dd\")\n",
    ")\n",
    "\n",
    "despachantes_2.schema"
   ]
  },
  {
   "cell_type": "code",
   "execution_count": 26,
   "metadata": {},
   "outputs": [
    {
     "name": "stdout",
     "output_type": "stream",
     "text": [
      "+------------+\n",
      "|year(data_2)|\n",
      "+------------+\n",
      "|        2018|\n",
      "|        2019|\n",
      "|        2020|\n",
      "+------------+\n",
      "\n"
     ]
    }
   ],
   "source": [
    "despachantes_2.select(func.year(\"data_2\")).distinct().show()"
   ]
  },
  {
   "cell_type": "code",
   "execution_count": 27,
   "metadata": {},
   "outputs": [
    {
     "name": "stdout",
     "output_type": "stream",
     "text": [
      "+-------------------+------------+\n",
      "|               name|year(data_2)|\n",
      "+-------------------+------------+\n",
      "|   Carminda Pestana|        2020|\n",
      "|    Deolinda Vilela|        2020|\n",
      "|   Emídio Dornelles|        2020|\n",
      "|Felisbela Dornelles|        2020|\n",
      "|     Graça Ornellas|        2020|\n",
      "|   Matilde Rebouças|        2019|\n",
      "|    Noêmia   Orriça|        2019|\n",
      "|      Roque Vásquez|        2020|\n",
      "|      Uriel Queiroz|        2018|\n",
      "|   Viviana Sequeira|        2020|\n",
      "+-------------------+------------+\n",
      "\n"
     ]
    }
   ],
   "source": [
    "despachantes_2.select(\"name\", func.year(\"data_2\")).orderBy(\"name\").show()"
   ]
  },
  {
   "cell_type": "code",
   "execution_count": 28,
   "metadata": {},
   "outputs": [
    {
     "name": "stdout",
     "output_type": "stream",
     "text": [
      "+------------+-----+\n",
      "|year(data_2)|count|\n",
      "+------------+-----+\n",
      "|        2018|    1|\n",
      "|        2019|    2|\n",
      "|        2020|    7|\n",
      "+------------+-----+\n",
      "\n"
     ]
    }
   ],
   "source": [
    "despachantes_2.select(\"data_2\").groupBy(func.year(\"data_2\")).count().show()"
   ]
  },
  {
   "cell_type": "code",
   "execution_count": 29,
   "metadata": {},
   "outputs": [
    {
     "name": "stdout",
     "output_type": "stream",
     "text": [
      "+----------+\n",
      "|sum(sales)|\n",
      "+----------+\n",
      "|       325|\n",
      "+----------+\n",
      "\n"
     ]
    }
   ],
   "source": [
    "despachantes_2.select(func.sum(\"sales\")).show()"
   ]
  },
  {
   "cell_type": "code",
   "execution_count": 30,
   "metadata": {},
   "outputs": [
    {
     "data": {
      "text/plain": [
       "[Row(id='1', name='Carminda Pestana', status='Ativo', city='Santa Maria', sales=23, date='2020-08-11')]"
      ]
     },
     "execution_count": 30,
     "metadata": {},
     "output_type": "execute_result"
    }
   ],
   "source": [
    "despachantes.take(1)"
   ]
  },
  {
   "cell_type": "code",
   "execution_count": 31,
   "metadata": {},
   "outputs": [
    {
     "data": {
      "text/plain": [
       "[Row(id='1', name='Carminda Pestana', status='Ativo', city='Santa Maria', sales=23, date='2020-08-11'),\n",
       " Row(id='2', name='Deolinda Vilela', status='Ativo', city='Novo Hamburgo', sales=34, date='2020-03-05'),\n",
       " Row(id='3', name='Emídio Dornelles', status='Ativo', city='Porto Alegre', sales=34, date='2020-02-05'),\n",
       " Row(id='4', name='Felisbela Dornelles', status='Ativo', city='Porto Alegre', sales=36, date='2020-02-05'),\n",
       " Row(id='5', name='Graça Ornellas', status='Ativo', city='Porto Alegre', sales=12, date='2020-02-05'),\n",
       " Row(id='6', name='Matilde Rebouças', status='Ativo', city='Porto Alegre', sales=22, date='2019-01-05'),\n",
       " Row(id='7', name='Noêmia   Orriça', status='Ativo', city='Santa Maria', sales=45, date='2019-10-05'),\n",
       " Row(id='8', name='Roque Vásquez', status='Ativo', city='Porto Alegre', sales=65, date='2020-03-05'),\n",
       " Row(id='9', name='Uriel Queiroz', status='Ativo', city='Porto Alegre', sales=54, date='2018-05-05'),\n",
       " Row(id='10', name='Viviana Sequeira', status='Ativo', city='Porto Alegre', sales=0, date='2020-09-05')]"
      ]
     },
     "execution_count": 31,
     "metadata": {},
     "output_type": "execute_result"
    }
   ],
   "source": [
    "despachantes.collect()"
   ]
  },
  {
   "cell_type": "code",
   "execution_count": 32,
   "metadata": {},
   "outputs": [
    {
     "data": {
      "text/plain": [
       "10"
      ]
     },
     "execution_count": 32,
     "metadata": {},
     "output_type": "execute_result"
    }
   ],
   "source": [
    "despachantes.count()"
   ]
  },
  {
   "cell_type": "code",
   "execution_count": 38,
   "metadata": {},
   "outputs": [
    {
     "data": {
      "text/plain": [
       "6"
      ]
     },
     "execution_count": 38,
     "metadata": {},
     "output_type": "execute_result"
    }
   ],
   "source": [
    "len(despachantes.columns)"
   ]
  },
  {
   "cell_type": "code",
   "execution_count": 39,
   "metadata": {},
   "outputs": [
    {
     "name": "stdout",
     "output_type": "stream",
     "text": [
      "+---+-------------------+------+-------------+-----+----------+\n",
      "| id|               name|status|         city|sales|      date|\n",
      "+---+-------------------+------+-------------+-----+----------+\n",
      "|  1|   Carminda Pestana| Ativo|  Santa Maria|   23|2020-08-11|\n",
      "|  2|    Deolinda Vilela| Ativo|Novo Hamburgo|   34|2020-03-05|\n",
      "|  3|   Emídio Dornelles| Ativo| Porto Alegre|   34|2020-02-05|\n",
      "|  4|Felisbela Dornelles| Ativo| Porto Alegre|   36|2020-02-05|\n",
      "|  5|     Graça Ornellas| Ativo| Porto Alegre|   12|2020-02-05|\n",
      "|  6|   Matilde Rebouças| Ativo| Porto Alegre|   22|2019-01-05|\n",
      "|  7|    Noêmia   Orriça| Ativo|  Santa Maria|   45|2019-10-05|\n",
      "|  8|      Roque Vásquez| Ativo| Porto Alegre|   65|2020-03-05|\n",
      "|  9|      Uriel Queiroz| Ativo| Porto Alegre|   54|2018-05-05|\n",
      "| 10|   Viviana Sequeira| Ativo| Porto Alegre|    0|2020-09-05|\n",
      "+---+-------------------+------+-------------+-----+----------+\n",
      "\n"
     ]
    }
   ],
   "source": [
    "despachantes.show()"
   ]
  },
  {
   "cell_type": "code",
   "execution_count": 42,
   "metadata": {},
   "outputs": [
    {
     "name": "stdout",
     "output_type": "stream",
     "text": [
      "+---+-------------------+------+-------------+-----+----------+\n",
      "| id|               name|status|         city|sales|      date|\n",
      "+---+-------------------+------+-------------+-----+----------+\n",
      "|  8|      Roque Vásquez| Ativo| Porto Alegre|   65|2020-03-05|\n",
      "|  9|      Uriel Queiroz| Ativo| Porto Alegre|   54|2018-05-05|\n",
      "|  7|    Noêmia   Orriça| Ativo|  Santa Maria|   45|2019-10-05|\n",
      "|  4|Felisbela Dornelles| Ativo| Porto Alegre|   36|2020-02-05|\n",
      "|  2|    Deolinda Vilela| Ativo|Novo Hamburgo|   34|2020-03-05|\n",
      "|  3|   Emídio Dornelles| Ativo| Porto Alegre|   34|2020-02-05|\n",
      "|  1|   Carminda Pestana| Ativo|  Santa Maria|   23|2020-08-11|\n",
      "|  6|   Matilde Rebouças| Ativo| Porto Alegre|   22|2019-01-05|\n",
      "|  5|     Graça Ornellas| Ativo| Porto Alegre|   12|2020-02-05|\n",
      "| 10|   Viviana Sequeira| Ativo| Porto Alegre|    0|2020-09-05|\n",
      "+---+-------------------+------+-------------+-----+----------+\n",
      "\n"
     ]
    }
   ],
   "source": [
    "despachantes.orderBy(func.col(\"sales\").desc()).show()"
   ]
  },
  {
   "cell_type": "code",
   "execution_count": 43,
   "metadata": {},
   "outputs": [
    {
     "name": "stdout",
     "output_type": "stream",
     "text": [
      "+---+-------------------+------+-------------+-----+----------+\n",
      "| id|               name|status|         city|sales|      date|\n",
      "+---+-------------------+------+-------------+-----+----------+\n",
      "|  7|    Noêmia   Orriça| Ativo|  Santa Maria|   45|2019-10-05|\n",
      "|  1|   Carminda Pestana| Ativo|  Santa Maria|   23|2020-08-11|\n",
      "|  8|      Roque Vásquez| Ativo| Porto Alegre|   65|2020-03-05|\n",
      "|  9|      Uriel Queiroz| Ativo| Porto Alegre|   54|2018-05-05|\n",
      "|  4|Felisbela Dornelles| Ativo| Porto Alegre|   36|2020-02-05|\n",
      "|  3|   Emídio Dornelles| Ativo| Porto Alegre|   34|2020-02-05|\n",
      "|  6|   Matilde Rebouças| Ativo| Porto Alegre|   22|2019-01-05|\n",
      "|  5|     Graça Ornellas| Ativo| Porto Alegre|   12|2020-02-05|\n",
      "| 10|   Viviana Sequeira| Ativo| Porto Alegre|    0|2020-09-05|\n",
      "|  2|    Deolinda Vilela| Ativo|Novo Hamburgo|   34|2020-03-05|\n",
      "+---+-------------------+------+-------------+-----+----------+\n",
      "\n"
     ]
    }
   ],
   "source": [
    "despachantes.orderBy(func.col(\"city\").desc(), func.col(\"sales\").desc()).show()"
   ]
  },
  {
   "cell_type": "code",
   "execution_count": 46,
   "metadata": {},
   "outputs": [
    {
     "name": "stdout",
     "output_type": "stream",
     "text": [
      "+-------------+----------+\n",
      "|         city|sum(sales)|\n",
      "+-------------+----------+\n",
      "|  Santa Maria|        68|\n",
      "|Novo Hamburgo|        34|\n",
      "| Porto Alegre|       223|\n",
      "+-------------+----------+\n",
      "\n"
     ]
    }
   ],
   "source": [
    "despachantes.groupBy(\"city\").agg(func.sum(\"sales\")).show()"
   ]
  },
  {
   "cell_type": "code",
   "execution_count": 48,
   "metadata": {},
   "outputs": [
    {
     "name": "stdout",
     "output_type": "stream",
     "text": [
      "+-------------+-----------+\n",
      "|         city|total_sales|\n",
      "+-------------+-----------+\n",
      "| Porto Alegre|        223|\n",
      "|  Santa Maria|         68|\n",
      "|Novo Hamburgo|         34|\n",
      "+-------------+-----------+\n",
      "\n"
     ]
    }
   ],
   "source": [
    "despachantes.groupBy(\"city\").agg(func.sum(\"sales\").alias(\"total_sales\")).orderBy(\n",
    "    func.col(\"total_sales\").desc()\n",
    ").show()"
   ]
  },
  {
   "cell_type": "code",
   "execution_count": 50,
   "metadata": {},
   "outputs": [
    {
     "name": "stdout",
     "output_type": "stream",
     "text": [
      "+---+-------------------+------+------------+-----+----------+\n",
      "| id|               name|status|        city|sales|      date|\n",
      "+---+-------------------+------+------------+-----+----------+\n",
      "|  3|   Emídio Dornelles| Ativo|Porto Alegre|   34|2020-02-05|\n",
      "|  4|Felisbela Dornelles| Ativo|Porto Alegre|   36|2020-02-05|\n",
      "|  6|   Matilde Rebouças| Ativo|Porto Alegre|   22|2019-01-05|\n",
      "|  8|      Roque Vásquez| Ativo|Porto Alegre|   65|2020-03-05|\n",
      "|  9|      Uriel Queiroz| Ativo|Porto Alegre|   54|2018-05-05|\n",
      "+---+-------------------+------+------------+-----+----------+\n",
      "\n"
     ]
    }
   ],
   "source": [
    "despachantes.filter(func.col(\"city\") == \"Porto Alegre\").where(\n",
    "    func.col(\"sales\") > 20\n",
    ").show()"
   ]
  }
 ],
 "metadata": {
  "kernelspec": {
   "display_name": "Python 3",
   "language": "python",
   "name": "python3"
  },
  "language_info": {
   "codemirror_mode": {
    "name": "ipython",
    "version": 3
   },
   "file_extension": ".py",
   "mimetype": "text/x-python",
   "name": "python",
   "nbconvert_exporter": "python",
   "pygments_lexer": "ipython3",
   "version": "3.10.12"
  }
 },
 "nbformat": 4,
 "nbformat_minor": 2
}
