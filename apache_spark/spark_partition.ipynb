{
 "cells": [
  {
   "cell_type": "code",
   "execution_count": 1,
   "metadata": {},
   "outputs": [
    {
     "name": "stderr",
     "output_type": "stream",
     "text": [
      "24/04/17 16:16:19 WARN Utils: Your hostname, IdeaPad-Gaming-3-15IHU6 resolves to a loopback address: 127.0.1.1; using 192.168.1.5 instead (on interface wlp0s20f3)\n",
      "24/04/17 16:16:19 WARN Utils: Set SPARK_LOCAL_IP if you need to bind to another address\n",
      "Setting default log level to \"WARN\".\n",
      "To adjust logging level use sc.setLogLevel(newLevel). For SparkR, use setLogLevel(newLevel).\n",
      "24/04/17 16:16:19 WARN NativeCodeLoader: Unable to load native-hadoop library for your platform... using builtin-java classes where applicable\n"
     ]
    }
   ],
   "source": [
    "from pyspark.sql import SparkSession\n",
    "from pathlib import Path\n",
    "from os.path import abspath\n",
    "\n",
    "\n",
    "BASE_DATA_DIR = Path().home() / \"Documents/PySparkCurso/download\"\n",
    "BASE_DIR = Path().resolve()\n",
    "\n",
    "spark: SparkSession = (\n",
    "    SparkSession.builder.master(\"local\")\n",
    "    .appName(\"streaming with spark saving postgres\")\n",
    "    .config(\"spark.sql.warehouse.dir\", abspath(\"spark-warehouse\"))\n",
    "    .enableHiveSupport()\n",
    "    .getOrCreate()\n",
    ")"
   ]
  },
  {
   "cell_type": "code",
   "execution_count": 14,
   "metadata": {},
   "outputs": [
    {
     "name": "stdout",
     "output_type": "stream",
     "text": [
      "+---+-------------------+------+-------------+-----+----------+\n",
      "| id|               name|status|         city|sales|      data|\n",
      "+---+-------------------+------+-------------+-----+----------+\n",
      "|  1|   Carminda Pestana| Ativo|  Santa Maria|   23|2020-08-11|\n",
      "|  2|    Deolinda Vilela| Ativo|Novo Hamburgo|   34|2020-03-05|\n",
      "|  3|   Emídio Dornelles| Ativo| Porto Alegre|   34|2020-02-05|\n",
      "|  4|Felisbela Dornelles| Ativo| Porto Alegre|   36|2020-02-05|\n",
      "|  5|     Graça Ornellas| Ativo| Porto Alegre|   12|2020-02-05|\n",
      "+---+-------------------+------+-------------+-----+----------+\n",
      "only showing top 5 rows\n",
      "\n"
     ]
    }
   ],
   "source": [
    "despachantes_schema = (\n",
    "    \"id INT, name STRING, status STRING, city STRING, sales STRING, data DATE\"\n",
    ")\n",
    "\n",
    "df = spark.read.csv(\n",
    "    str(BASE_DATA_DIR / \"despachantes.csv\"),\n",
    "    schema=despachantes_schema,\n",
    "    header=False,\n",
    "    sep=\",\",\n",
    ")\n",
    "df.show(5)"
   ]
  },
  {
   "cell_type": "code",
   "execution_count": 5,
   "metadata": {},
   "outputs": [
    {
     "name": "stdout",
     "output_type": "stream",
     "text": [
      "+---------+\n",
      "|namespace|\n",
      "+---------+\n",
      "|  default|\n",
      "|     desp|\n",
      "+---------+\n",
      "\n"
     ]
    },
    {
     "name": "stderr",
     "output_type": "stream",
     "text": [
      "24/04/17 16:21:43 WARN ObjectStore: Failed to get database desp, returning NoSuchObjectException\n",
      "24/04/17 16:21:43 WARN ObjectStore: Failed to get database desp, returning NoSuchObjectException\n",
      "24/04/17 16:21:43 WARN ObjectStore: Failed to get database global_temp, returning NoSuchObjectException\n",
      "24/04/17 16:21:43 WARN ObjectStore: Failed to get database desp, returning NoSuchObjectException\n"
     ]
    }
   ],
   "source": [
    "spark.sql(\"CREATE DATABASE IF NOT EXISTS desp;\")\n",
    "spark.sql(\"SHOW DATABASES;\").show()"
   ]
  },
  {
   "cell_type": "code",
   "execution_count": 15,
   "metadata": {},
   "outputs": [
    {
     "data": {
      "text/plain": [
       "DataFrame[]"
      ]
     },
     "execution_count": 15,
     "metadata": {},
     "output_type": "execute_result"
    }
   ],
   "source": [
    "spark.sql(\"USE desp;\")"
   ]
  },
  {
   "cell_type": "code",
   "execution_count": 16,
   "metadata": {},
   "outputs": [
    {
     "name": "stdout",
     "output_type": "stream",
     "text": [
      "+---------+---------+-----------+\n",
      "|namespace|tableName|isTemporary|\n",
      "+---------+---------+-----------+\n",
      "+---------+---------+-----------+\n",
      "\n"
     ]
    }
   ],
   "source": [
    "spark.sql(\"SHOW TABLES;\").show()"
   ]
  },
  {
   "cell_type": "code",
   "execution_count": 18,
   "metadata": {},
   "outputs": [
    {
     "name": "stderr",
     "output_type": "stream",
     "text": [
      "24/04/17 16:27:46 WARN SessionState: METASTORE_FILTER_HOOK will be ignored, since hive.security.authorization.manager is set to instance of HiveAuthorizerFactory.\n",
      "24/04/17 16:27:46 WARN HiveConf: HiveConf of name hive.internal.ss.authz.settings.applied.marker does not exist\n",
      "24/04/17 16:27:46 WARN HiveConf: HiveConf of name hive.stats.jdbc.timeout does not exist\n",
      "24/04/17 16:27:46 WARN HiveConf: HiveConf of name hive.stats.retries.wait does not exist\n"
     ]
    }
   ],
   "source": [
    "df.write.saveAsTable(\"despachantes\")"
   ]
  },
  {
   "cell_type": "code",
   "execution_count": 19,
   "metadata": {},
   "outputs": [
    {
     "name": "stdout",
     "output_type": "stream",
     "text": [
      "+---------+------------+-----------+\n",
      "|namespace|   tableName|isTemporary|\n",
      "+---------+------------+-----------+\n",
      "|     desp|despachantes|      false|\n",
      "+---------+------------+-----------+\n",
      "\n"
     ]
    }
   ],
   "source": [
    "spark.sql(\"SHOW TABLES;\").show()"
   ]
  },
  {
   "cell_type": "code",
   "execution_count": 21,
   "metadata": {},
   "outputs": [
    {
     "name": "stdout",
     "output_type": "stream",
     "text": [
      "+---+-------------------+------+-------------+-----+----------+\n",
      "| id|               name|status|         city|sales|      data|\n",
      "+---+-------------------+------+-------------+-----+----------+\n",
      "|  1|   Carminda Pestana| Ativo|  Santa Maria|   23|2020-08-11|\n",
      "|  2|    Deolinda Vilela| Ativo|Novo Hamburgo|   34|2020-03-05|\n",
      "|  3|   Emídio Dornelles| Ativo| Porto Alegre|   34|2020-02-05|\n",
      "|  4|Felisbela Dornelles| Ativo| Porto Alegre|   36|2020-02-05|\n",
      "|  5|     Graça Ornellas| Ativo| Porto Alegre|   12|2020-02-05|\n",
      "+---+-------------------+------+-------------+-----+----------+\n",
      "only showing top 5 rows\n",
      "\n"
     ]
    }
   ],
   "source": [
    "spark.sql(\"SELECT * FROM despachantes;\").show(5)"
   ]
  },
  {
   "cell_type": "code",
   "execution_count": 22,
   "metadata": {},
   "outputs": [
    {
     "name": "stdout",
     "output_type": "stream",
     "text": [
      "+-----------+---------+------+---+------+--------+-------------+---------+--------------+---------------+------+\n",
      "|CreditScore|Geography|Gender|Age|Tenure| Balance|NumOfProducts|HasCrCard|IsActiveMember|EstimatedSalary|Exited|\n",
      "+-----------+---------+------+---+------+--------+-------------+---------+--------------+---------------+------+\n",
      "|        619|   France|Female| 42|     2|       0|            1|        1|             1|       10134888|     1|\n",
      "|        608|    Spain|Female| 41|     1| 8380786|            1|        0|             1|       11254258|     0|\n",
      "|        502|   France|Female| 42|     8| 1596608|            3|        1|             0|       11393157|     1|\n",
      "|        699|   France|Female| 39|     1|       0|            2|        0|             0|        9382663|     0|\n",
      "|        850|    Spain|Female| 43|     2|12551082|            1|        1|             1|         790841|     0|\n",
      "+-----------+---------+------+---+------+--------+-------------+---------+--------------+---------------+------+\n",
      "only showing top 5 rows\n",
      "\n"
     ]
    }
   ],
   "source": [
    "churn = spark.read.csv(\n",
    "    str(BASE_DATA_DIR / \"Churn.csv\"),\n",
    "    header=True,\n",
    "    inferSchema=True,\n",
    "    sep=\";\",\n",
    ")\n",
    "churn.show(5)"
   ]
  },
  {
   "cell_type": "code",
   "execution_count": 23,
   "metadata": {},
   "outputs": [],
   "source": [
    "churn.write.partitionBy(\"Geography\").saveAsTable(\"churn_geo\")"
   ]
  },
  {
   "cell_type": "code",
   "execution_count": 25,
   "metadata": {},
   "outputs": [
    {
     "name": "stdout",
     "output_type": "stream",
     "text": [
      "+---------+------------+-----------+\n",
      "|namespace|   tableName|isTemporary|\n",
      "+---------+------------+-----------+\n",
      "|     desp|   churn_geo|      false|\n",
      "|     desp|despachantes|      false|\n",
      "+---------+------------+-----------+\n",
      "\n"
     ]
    }
   ],
   "source": [
    "spark.sql(\"SHOW TABLES;\").show()"
   ]
  },
  {
   "cell_type": "code",
   "execution_count": 26,
   "metadata": {},
   "outputs": [
    {
     "name": "stdout",
     "output_type": "stream",
     "text": [
      "+-----------+------+---+------+--------+-------------+---------+--------------+---------------+------+---------+\n",
      "|CreditScore|Gender|Age|Tenure| Balance|NumOfProducts|HasCrCard|IsActiveMember|EstimatedSalary|Exited|Geography|\n",
      "+-----------+------+---+------+--------+-------------+---------+--------------+---------------+------+---------+\n",
      "|        619|Female| 42|     2|       0|            1|        1|             1|       10134888|     1|   France|\n",
      "|        502|Female| 42|     8| 1596608|            3|        1|             0|       11393157|     1|   France|\n",
      "|        699|Female| 39|     1|       0|            2|        0|             0|        9382663|     0|   France|\n",
      "|        822|  Male| 50|     7|       0|            2|        1|             1|         100628|     0|   France|\n",
      "|        501|  Male| 44|     4|14205107|            2|        0|             1|         749405|     0|   France|\n",
      "+-----------+------+---+------+--------+-------------+---------+--------------+---------------+------+---------+\n",
      "only showing top 5 rows\n",
      "\n"
     ]
    }
   ],
   "source": [
    "spark.sql(\"SELECT * FROM churn_geo;\").show(5)"
   ]
  },
  {
   "cell_type": "markdown",
   "metadata": {},
   "source": [
    "bucket(use case when cardinal is high)"
   ]
  },
  {
   "cell_type": "code",
   "execution_count": 27,
   "metadata": {},
   "outputs": [],
   "source": [
    "churn.write.bucketBy(3, \"Geography\").saveAsTable(\"churn_geo_2\")"
   ]
  }
 ],
 "metadata": {
  "kernelspec": {
   "display_name": "Python 3",
   "language": "python",
   "name": "python3"
  },
  "language_info": {
   "codemirror_mode": {
    "name": "ipython",
    "version": 3
   },
   "file_extension": ".py",
   "mimetype": "text/x-python",
   "name": "python",
   "nbconvert_exporter": "python",
   "pygments_lexer": "ipython3",
   "version": "3.10.12"
  }
 },
 "nbformat": 4,
 "nbformat_minor": 2
}
