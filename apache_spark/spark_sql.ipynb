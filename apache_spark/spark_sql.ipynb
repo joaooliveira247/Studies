{
 "cells": [
  {
   "cell_type": "code",
   "execution_count": 1,
   "metadata": {},
   "outputs": [
    {
     "name": "stderr",
     "output_type": "stream",
     "text": [
      "24/04/02 16:19:58 WARN Utils: Your hostname, IdeaPad-Gaming-3-15IHU6 resolves to a loopback address: 127.0.1.1; using 192.168.1.5 instead (on interface wlp0s20f3)\n",
      "24/04/02 16:19:58 WARN Utils: Set SPARK_LOCAL_IP if you need to bind to another address\n",
      "Setting default log level to \"WARN\".\n",
      "To adjust logging level use sc.setLogLevel(newLevel). For SparkR, use setLogLevel(newLevel).\n",
      "24/04/02 16:19:58 WARN NativeCodeLoader: Unable to load native-hadoop library for your platform... using builtin-java classes where applicable\n"
     ]
    }
   ],
   "source": [
    "from pyspark.sql import SparkSession\n",
    "from pyspark.sql import functions as func\n",
    "from pyspark.sql import types as T\n",
    "\n",
    "spark = SparkSession.builder.master(\"local\").appName(\"Spark SQL Section\").getOrCreate()"
   ]
  },
  {
   "cell_type": "code",
   "execution_count": 2,
   "metadata": {},
   "outputs": [
    {
     "name": "stdout",
     "output_type": "stream",
     "text": [
      "+---------+\n",
      "|namespace|\n",
      "+---------+\n",
      "|  default|\n",
      "+---------+\n",
      "\n"
     ]
    }
   ],
   "source": [
    "spark.sql(\"SHOW DATABASES;\").show()"
   ]
  },
  {
   "cell_type": "code",
   "execution_count": 3,
   "metadata": {},
   "outputs": [
    {
     "data": {
      "text/plain": [
       "DataFrame[]"
      ]
     },
     "execution_count": 3,
     "metadata": {},
     "output_type": "execute_result"
    }
   ],
   "source": [
    "spark.sql(\"CREATE DATABASE desp;\")"
   ]
  },
  {
   "cell_type": "code",
   "execution_count": 4,
   "metadata": {},
   "outputs": [
    {
     "name": "stdout",
     "output_type": "stream",
     "text": [
      "+---------+\n",
      "|namespace|\n",
      "+---------+\n",
      "|  default|\n",
      "|     desp|\n",
      "+---------+\n",
      "\n"
     ]
    }
   ],
   "source": [
    "spark.sql(\"SHOW DATABASES;\").show()"
   ]
  },
  {
   "cell_type": "code",
   "execution_count": 5,
   "metadata": {},
   "outputs": [
    {
     "data": {
      "text/plain": [
       "DataFrame[]"
      ]
     },
     "execution_count": 5,
     "metadata": {},
     "output_type": "execute_result"
    }
   ],
   "source": [
    "spark.sql(\"USE desp;\")"
   ]
  },
  {
   "cell_type": "code",
   "execution_count": 6,
   "metadata": {},
   "outputs": [],
   "source": [
    "from pathlib import Path\n",
    "\n",
    "path = Path().home() / \"Documents/PySparkCurso/download/despachantes.csv\""
   ]
  },
  {
   "cell_type": "code",
   "execution_count": 7,
   "metadata": {},
   "outputs": [
    {
     "data": {
      "text/plain": [
       "StructType([StructField('id', IntegerType(), True), StructField('name', StringType(), True), StructField('status', StringType(), True), StructField('city', StringType(), True), StructField('sales', StringType(), True), StructField('data', DateType(), True)])"
      ]
     },
     "execution_count": 7,
     "metadata": {},
     "output_type": "execute_result"
    }
   ],
   "source": [
    "despachantes_schema = (\n",
    "    \"id INT, name STRING, status STRING, city STRING, sales STRING, data DATE\"\n",
    ")\n",
    "\n",
    "despachantes = spark.read.csv(\n",
    "    str(path), header=False, sep=\",\", schema=despachantes_schema\n",
    ")\n",
    "\n",
    "despachantes.schema"
   ]
  },
  {
   "cell_type": "code",
   "execution_count": 8,
   "metadata": {},
   "outputs": [
    {
     "name": "stderr",
     "output_type": "stream",
     "text": [
      "                                                                                \r"
     ]
    }
   ],
   "source": [
    "despachantes.write.saveAsTable(\"despachantes\")"
   ]
  },
  {
   "cell_type": "code",
   "execution_count": 9,
   "metadata": {},
   "outputs": [
    {
     "name": "stdout",
     "output_type": "stream",
     "text": [
      "+---+-------------------+------+-------------+-----+----------+\n",
      "| id|               name|status|         city|sales|      data|\n",
      "+---+-------------------+------+-------------+-----+----------+\n",
      "|  1|   Carminda Pestana| Ativo|  Santa Maria|   23|2020-08-11|\n",
      "|  2|    Deolinda Vilela| Ativo|Novo Hamburgo|   34|2020-03-05|\n",
      "|  3|   Emídio Dornelles| Ativo| Porto Alegre|   34|2020-02-05|\n",
      "|  4|Felisbela Dornelles| Ativo| Porto Alegre|   36|2020-02-05|\n",
      "|  5|     Graça Ornellas| Ativo| Porto Alegre|   12|2020-02-05|\n",
      "|  6|   Matilde Rebouças| Ativo| Porto Alegre|   22|2019-01-05|\n",
      "|  7|    Noêmia   Orriça| Ativo|  Santa Maria|   45|2019-10-05|\n",
      "|  8|      Roque Vásquez| Ativo| Porto Alegre|   65|2020-03-05|\n",
      "|  9|      Uriel Queiroz| Ativo| Porto Alegre|   54|2018-05-05|\n",
      "| 10|   Viviana Sequeira| Ativo| Porto Alegre|    0|2020-09-05|\n",
      "+---+-------------------+------+-------------+-----+----------+\n",
      "\n"
     ]
    }
   ],
   "source": [
    "spark.sql(\"SELECT * FROM despachantes;\").show()"
   ]
  },
  {
   "cell_type": "code",
   "execution_count": 10,
   "metadata": {},
   "outputs": [],
   "source": [
    "despachantes.write.mode(\"overwrite\").saveAsTable(\"despachantes\")"
   ]
  },
  {
   "cell_type": "markdown",
   "metadata": {},
   "source": [
    "### to load a hive db in spark session you'll need load a new session like this:"
   ]
  },
  {
   "cell_type": "code",
   "execution_count": 11,
   "metadata": {},
   "outputs": [],
   "source": [
    "# from pyspark.sql import SparkSession\n",
    "# from pyspark.sql import functions as func\n",
    "# from pyspark.sql import types as T\n",
    "# from pathlib import Path\n",
    "\n",
    "# spark_warehouse_path = Path().resolve() / \"spark-warehouse\"\n",
    "\n",
    "# spark = (\n",
    "#     SparkSession.builder.master(\"local\")\n",
    "#     .appName(\"load hive warehouse\")\n",
    "#     .config(\"spark.sql.warehouse.dir\", spark_warehouse_path)\n",
    "#     .enableHiveSupport()\n",
    "#     .getOrCreate()\n",
    "# )"
   ]
  },
  {
   "cell_type": "code",
   "execution_count": 12,
   "metadata": {},
   "outputs": [
    {
     "name": "stdout",
     "output_type": "stream",
     "text": [
      "+---------+\n",
      "|namespace|\n",
      "+---------+\n",
      "|  default|\n",
      "|     desp|\n",
      "+---------+\n",
      "\n"
     ]
    }
   ],
   "source": [
    "spark.sql(\"SHOW DATABASES;\").show()"
   ]
  },
  {
   "cell_type": "code",
   "execution_count": 13,
   "metadata": {},
   "outputs": [
    {
     "name": "stdout",
     "output_type": "stream",
     "text": [
      "+---+-------------------+------+-------------+-----+----------+\n",
      "| id|               name|status|         city|sales|      data|\n",
      "+---+-------------------+------+-------------+-----+----------+\n",
      "|  1|   Carminda Pestana| Ativo|  Santa Maria|   23|2020-08-11|\n",
      "|  2|    Deolinda Vilela| Ativo|Novo Hamburgo|   34|2020-03-05|\n",
      "|  3|   Emídio Dornelles| Ativo| Porto Alegre|   34|2020-02-05|\n",
      "|  4|Felisbela Dornelles| Ativo| Porto Alegre|   36|2020-02-05|\n",
      "|  5|     Graça Ornellas| Ativo| Porto Alegre|   12|2020-02-05|\n",
      "|  6|   Matilde Rebouças| Ativo| Porto Alegre|   22|2019-01-05|\n",
      "|  7|    Noêmia   Orriça| Ativo|  Santa Maria|   45|2019-10-05|\n",
      "|  8|      Roque Vásquez| Ativo| Porto Alegre|   65|2020-03-05|\n",
      "|  9|      Uriel Queiroz| Ativo| Porto Alegre|   54|2018-05-05|\n",
      "| 10|   Viviana Sequeira| Ativo| Porto Alegre|    0|2020-09-05|\n",
      "+---+-------------------+------+-------------+-----+----------+\n",
      "\n"
     ]
    }
   ],
   "source": [
    "spark.sql(\"SELECT * FROM despachantes;\").show()"
   ]
  },
  {
   "cell_type": "code",
   "execution_count": 15,
   "metadata": {},
   "outputs": [
    {
     "name": "stdout",
     "output_type": "stream",
     "text": [
      "+---+-------------------+------+-------------+-----+----------+\n",
      "| id|               name|status|         city|sales|      data|\n",
      "+---+-------------------+------+-------------+-----+----------+\n",
      "|  1|   Carminda Pestana| Ativo|  Santa Maria|   23|2020-08-11|\n",
      "|  2|    Deolinda Vilela| Ativo|Novo Hamburgo|   34|2020-03-05|\n",
      "|  3|   Emídio Dornelles| Ativo| Porto Alegre|   34|2020-02-05|\n",
      "|  4|Felisbela Dornelles| Ativo| Porto Alegre|   36|2020-02-05|\n",
      "|  5|     Graça Ornellas| Ativo| Porto Alegre|   12|2020-02-05|\n",
      "|  6|   Matilde Rebouças| Ativo| Porto Alegre|   22|2019-01-05|\n",
      "|  7|    Noêmia   Orriça| Ativo|  Santa Maria|   45|2019-10-05|\n",
      "|  8|      Roque Vásquez| Ativo| Porto Alegre|   65|2020-03-05|\n",
      "|  9|      Uriel Queiroz| Ativo| Porto Alegre|   54|2018-05-05|\n",
      "| 10|   Viviana Sequeira| Ativo| Porto Alegre|    0|2020-09-05|\n",
      "+---+-------------------+------+-------------+-----+----------+\n",
      "\n"
     ]
    }
   ],
   "source": [
    "despachantes.show()"
   ]
  },
  {
   "cell_type": "markdown",
   "metadata": {},
   "source": [
    "## Criando Tabela não gerenciada"
   ]
  },
  {
   "cell_type": "code",
   "execution_count": 16,
   "metadata": {},
   "outputs": [],
   "source": [
    "parquet_path = Path().resolve()\n",
    "\n",
    "despachantes.write.format(\"parquet\").save(str(parquet_path / \"desparquet\"))"
   ]
  },
  {
   "cell_type": "code",
   "execution_count": 18,
   "metadata": {},
   "outputs": [],
   "source": [
    "despachantes.write.mode(\"overwrite\").option(\n",
    "    \"path\", str(parquet_path / \"desparquet\")\n",
    ").saveAsTable(\"despachantes_ng\")"
   ]
  },
  {
   "cell_type": "code",
   "execution_count": 20,
   "metadata": {},
   "outputs": [
    {
     "name": "stdout",
     "output_type": "stream",
     "text": [
      "+---------+---------------+-----------+\n",
      "|namespace|      tableName|isTemporary|\n",
      "+---------+---------------+-----------+\n",
      "|     desp|   despachantes|      false|\n",
      "|     desp|despachantes_ng|      false|\n",
      "+---------+---------------+-----------+\n",
      "\n"
     ]
    }
   ],
   "source": [
    "spark.sql(\"SHOW TABLES;\").show()"
   ]
  },
  {
   "cell_type": "code",
   "execution_count": 21,
   "metadata": {},
   "outputs": [
    {
     "name": "stdout",
     "output_type": "stream",
     "text": [
      "+-----------------------------------------------------------------------------------------------------------------------------------------------------------+\n",
      "|createtab_stmt                                                                                                                                             |\n",
      "+-----------------------------------------------------------------------------------------------------------------------------------------------------------+\n",
      "|CREATE TABLE spark_catalog.desp.despachantes (\\n  id INT,\\n  name STRING,\\n  status STRING,\\n  city STRING,\\n  sales STRING,\\n  data DATE)\\nUSING parquet\\n|\n",
      "+-----------------------------------------------------------------------------------------------------------------------------------------------------------+\n",
      "\n"
     ]
    }
   ],
   "source": [
    "spark.sql(\"SHOW CREATE TABLE despachantes;\").show(truncate=False)"
   ]
  },
  {
   "cell_type": "code",
   "execution_count": 22,
   "metadata": {},
   "outputs": [
    {
     "data": {
      "text/plain": [
       "[Table(name='despachantes', catalog='spark_catalog', namespace=['desp'], description=None, tableType='MANAGED', isTemporary=False),\n",
       " Table(name='despachantes_ng', catalog='spark_catalog', namespace=['desp'], description=None, tableType='EXTERNAL', isTemporary=False)]"
      ]
     },
     "execution_count": 22,
     "metadata": {},
     "output_type": "execute_result"
    }
   ],
   "source": [
    "spark.catalog.listTables()"
   ]
  },
  {
   "cell_type": "code",
   "execution_count": null,
   "metadata": {},
   "outputs": [],
   "source": []
  }
 ],
 "metadata": {
  "kernelspec": {
   "display_name": "Python 3",
   "language": "python",
   "name": "python3"
  },
  "language_info": {
   "codemirror_mode": {
    "name": "ipython",
    "version": 3
   },
   "file_extension": ".py",
   "mimetype": "text/x-python",
   "name": "python",
   "nbconvert_exporter": "python",
   "pygments_lexer": "ipython3",
   "version": "3.10.12"
  }
 },
 "nbformat": 4,
 "nbformat_minor": 2
}
