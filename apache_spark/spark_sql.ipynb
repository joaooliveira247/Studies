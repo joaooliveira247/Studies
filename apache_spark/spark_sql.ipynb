{
 "cells": [
  {
   "cell_type": "code",
   "execution_count": 1,
   "metadata": {},
   "outputs": [
    {
     "name": "stderr",
     "output_type": "stream",
     "text": [
      "24/04/02 16:19:58 WARN Utils: Your hostname, IdeaPad-Gaming-3-15IHU6 resolves to a loopback address: 127.0.1.1; using 192.168.1.5 instead (on interface wlp0s20f3)\n",
      "24/04/02 16:19:58 WARN Utils: Set SPARK_LOCAL_IP if you need to bind to another address\n",
      "Setting default log level to \"WARN\".\n",
      "To adjust logging level use sc.setLogLevel(newLevel). For SparkR, use setLogLevel(newLevel).\n",
      "24/04/02 16:19:58 WARN NativeCodeLoader: Unable to load native-hadoop library for your platform... using builtin-java classes where applicable\n"
     ]
    }
   ],
   "source": [
    "from pyspark.sql import SparkSession\n",
    "from pyspark.sql import functions as func\n",
    "from pyspark.sql import types as T\n",
    "\n",
    "spark = SparkSession.builder.master(\"local\").appName(\"Spark SQL Section\").getOrCreate()"
   ]
  },
  {
   "cell_type": "code",
   "execution_count": 2,
   "metadata": {},
   "outputs": [
    {
     "name": "stdout",
     "output_type": "stream",
     "text": [
      "+---------+\n",
      "|namespace|\n",
      "+---------+\n",
      "|  default|\n",
      "+---------+\n",
      "\n"
     ]
    }
   ],
   "source": [
    "spark.sql(\"SHOW DATABASES;\").show()"
   ]
  },
  {
   "cell_type": "code",
   "execution_count": 3,
   "metadata": {},
   "outputs": [
    {
     "data": {
      "text/plain": [
       "DataFrame[]"
      ]
     },
     "execution_count": 3,
     "metadata": {},
     "output_type": "execute_result"
    }
   ],
   "source": [
    "spark.sql(\"CREATE DATABASE desp;\")"
   ]
  },
  {
   "cell_type": "code",
   "execution_count": 4,
   "metadata": {},
   "outputs": [
    {
     "name": "stdout",
     "output_type": "stream",
     "text": [
      "+---------+\n",
      "|namespace|\n",
      "+---------+\n",
      "|  default|\n",
      "|     desp|\n",
      "+---------+\n",
      "\n"
     ]
    }
   ],
   "source": [
    "spark.sql(\"SHOW DATABASES;\").show()"
   ]
  },
  {
   "cell_type": "code",
   "execution_count": 5,
   "metadata": {},
   "outputs": [
    {
     "data": {
      "text/plain": [
       "DataFrame[]"
      ]
     },
     "execution_count": 5,
     "metadata": {},
     "output_type": "execute_result"
    }
   ],
   "source": [
    "spark.sql(\"USE desp;\")"
   ]
  },
  {
   "cell_type": "code",
   "execution_count": 6,
   "metadata": {},
   "outputs": [],
   "source": [
    "from pathlib import Path\n",
    "\n",
    "path = Path().home() / \"Documents/PySparkCurso/download/despachantes.csv\""
   ]
  },
  {
   "cell_type": "code",
   "execution_count": 7,
   "metadata": {},
   "outputs": [
    {
     "data": {
      "text/plain": [
       "StructType([StructField('id', IntegerType(), True), StructField('name', StringType(), True), StructField('status', StringType(), True), StructField('city', StringType(), True), StructField('sales', StringType(), True), StructField('data', DateType(), True)])"
      ]
     },
     "execution_count": 7,
     "metadata": {},
     "output_type": "execute_result"
    }
   ],
   "source": [
    "despachantes_schema = (\n",
    "    \"id INT, name STRING, status STRING, city STRING, sales STRING, data DATE\"\n",
    ")\n",
    "\n",
    "despachantes = spark.read.csv(\n",
    "    str(path), header=False, sep=\",\", schema=despachantes_schema\n",
    ")\n",
    "\n",
    "despachantes.schema"
   ]
  },
  {
   "cell_type": "code",
   "execution_count": 8,
   "metadata": {},
   "outputs": [
    {
     "name": "stderr",
     "output_type": "stream",
     "text": [
      "                                                                                \r"
     ]
    }
   ],
   "source": [
    "despachantes.write.saveAsTable(\"despachantes\")"
   ]
  },
  {
   "cell_type": "code",
   "execution_count": 9,
   "metadata": {},
   "outputs": [
    {
     "name": "stdout",
     "output_type": "stream",
     "text": [
      "+---+-------------------+------+-------------+-----+----------+\n",
      "| id|               name|status|         city|sales|      data|\n",
      "+---+-------------------+------+-------------+-----+----------+\n",
      "|  1|   Carminda Pestana| Ativo|  Santa Maria|   23|2020-08-11|\n",
      "|  2|    Deolinda Vilela| Ativo|Novo Hamburgo|   34|2020-03-05|\n",
      "|  3|   Emídio Dornelles| Ativo| Porto Alegre|   34|2020-02-05|\n",
      "|  4|Felisbela Dornelles| Ativo| Porto Alegre|   36|2020-02-05|\n",
      "|  5|     Graça Ornellas| Ativo| Porto Alegre|   12|2020-02-05|\n",
      "|  6|   Matilde Rebouças| Ativo| Porto Alegre|   22|2019-01-05|\n",
      "|  7|    Noêmia   Orriça| Ativo|  Santa Maria|   45|2019-10-05|\n",
      "|  8|      Roque Vásquez| Ativo| Porto Alegre|   65|2020-03-05|\n",
      "|  9|      Uriel Queiroz| Ativo| Porto Alegre|   54|2018-05-05|\n",
      "| 10|   Viviana Sequeira| Ativo| Porto Alegre|    0|2020-09-05|\n",
      "+---+-------------------+------+-------------+-----+----------+\n",
      "\n"
     ]
    }
   ],
   "source": [
    "spark.sql(\"SELECT * FROM despachantes;\").show()"
   ]
  },
  {
   "cell_type": "code",
   "execution_count": 10,
   "metadata": {},
   "outputs": [],
   "source": [
    "despachantes.write.mode(\"overwrite\").saveAsTable(\"despachantes\")"
   ]
  },
  {
   "cell_type": "markdown",
   "metadata": {},
   "source": [
    "### to load a hive db in spark session you'll need load a new session like this:"
   ]
  },
  {
   "cell_type": "code",
   "execution_count": 11,
   "metadata": {},
   "outputs": [],
   "source": [
    "# from pyspark.sql import SparkSession\n",
    "# from pyspark.sql import functions as func\n",
    "# from pyspark.sql import types as T\n",
    "# from pathlib import Path\n",
    "\n",
    "# spark_warehouse_path = Path().resolve() / \"spark-warehouse\"\n",
    "\n",
    "# spark = (\n",
    "#     SparkSession.builder.master(\"local\")\n",
    "#     .appName(\"load hive warehouse\")\n",
    "#     .config(\"spark.sql.warehouse.dir\", spark_warehouse_path)\n",
    "#     .enableHiveSupport()\n",
    "#     .getOrCreate()\n",
    "# )"
   ]
  },
  {
   "cell_type": "code",
   "execution_count": 12,
   "metadata": {},
   "outputs": [
    {
     "name": "stdout",
     "output_type": "stream",
     "text": [
      "+---------+\n",
      "|namespace|\n",
      "+---------+\n",
      "|  default|\n",
      "|     desp|\n",
      "+---------+\n",
      "\n"
     ]
    }
   ],
   "source": [
    "spark.sql(\"SHOW DATABASES;\").show()"
   ]
  },
  {
   "cell_type": "code",
   "execution_count": 13,
   "metadata": {},
   "outputs": [
    {
     "name": "stdout",
     "output_type": "stream",
     "text": [
      "+---+-------------------+------+-------------+-----+----------+\n",
      "| id|               name|status|         city|sales|      data|\n",
      "+---+-------------------+------+-------------+-----+----------+\n",
      "|  1|   Carminda Pestana| Ativo|  Santa Maria|   23|2020-08-11|\n",
      "|  2|    Deolinda Vilela| Ativo|Novo Hamburgo|   34|2020-03-05|\n",
      "|  3|   Emídio Dornelles| Ativo| Porto Alegre|   34|2020-02-05|\n",
      "|  4|Felisbela Dornelles| Ativo| Porto Alegre|   36|2020-02-05|\n",
      "|  5|     Graça Ornellas| Ativo| Porto Alegre|   12|2020-02-05|\n",
      "|  6|   Matilde Rebouças| Ativo| Porto Alegre|   22|2019-01-05|\n",
      "|  7|    Noêmia   Orriça| Ativo|  Santa Maria|   45|2019-10-05|\n",
      "|  8|      Roque Vásquez| Ativo| Porto Alegre|   65|2020-03-05|\n",
      "|  9|      Uriel Queiroz| Ativo| Porto Alegre|   54|2018-05-05|\n",
      "| 10|   Viviana Sequeira| Ativo| Porto Alegre|    0|2020-09-05|\n",
      "+---+-------------------+------+-------------+-----+----------+\n",
      "\n"
     ]
    }
   ],
   "source": [
    "spark.sql(\"SELECT * FROM despachantes;\").show()"
   ]
  },
  {
   "cell_type": "code",
   "execution_count": 15,
   "metadata": {},
   "outputs": [
    {
     "name": "stdout",
     "output_type": "stream",
     "text": [
      "+---+-------------------+------+-------------+-----+----------+\n",
      "| id|               name|status|         city|sales|      data|\n",
      "+---+-------------------+------+-------------+-----+----------+\n",
      "|  1|   Carminda Pestana| Ativo|  Santa Maria|   23|2020-08-11|\n",
      "|  2|    Deolinda Vilela| Ativo|Novo Hamburgo|   34|2020-03-05|\n",
      "|  3|   Emídio Dornelles| Ativo| Porto Alegre|   34|2020-02-05|\n",
      "|  4|Felisbela Dornelles| Ativo| Porto Alegre|   36|2020-02-05|\n",
      "|  5|     Graça Ornellas| Ativo| Porto Alegre|   12|2020-02-05|\n",
      "|  6|   Matilde Rebouças| Ativo| Porto Alegre|   22|2019-01-05|\n",
      "|  7|    Noêmia   Orriça| Ativo|  Santa Maria|   45|2019-10-05|\n",
      "|  8|      Roque Vásquez| Ativo| Porto Alegre|   65|2020-03-05|\n",
      "|  9|      Uriel Queiroz| Ativo| Porto Alegre|   54|2018-05-05|\n",
      "| 10|   Viviana Sequeira| Ativo| Porto Alegre|    0|2020-09-05|\n",
      "+---+-------------------+------+-------------+-----+----------+\n",
      "\n"
     ]
    }
   ],
   "source": [
    "despachantes.show()"
   ]
  },
  {
   "cell_type": "markdown",
   "metadata": {},
   "source": [
    "## Criando Tabela não gerenciada"
   ]
  },
  {
   "cell_type": "code",
   "execution_count": 16,
   "metadata": {},
   "outputs": [],
   "source": [
    "parquet_path = Path().resolve()\n",
    "\n",
    "despachantes.write.format(\"parquet\").save(str(parquet_path / \"desparquet\"))"
   ]
  },
  {
   "cell_type": "code",
   "execution_count": 18,
   "metadata": {},
   "outputs": [],
   "source": [
    "despachantes.write.mode(\"overwrite\").option(\n",
    "    \"path\", str(parquet_path / \"desparquet\")\n",
    ").saveAsTable(\"despachantes_ng\")"
   ]
  },
  {
   "cell_type": "code",
   "execution_count": 20,
   "metadata": {},
   "outputs": [
    {
     "name": "stdout",
     "output_type": "stream",
     "text": [
      "+---------+---------------+-----------+\n",
      "|namespace|      tableName|isTemporary|\n",
      "+---------+---------------+-----------+\n",
      "|     desp|   despachantes|      false|\n",
      "|     desp|despachantes_ng|      false|\n",
      "+---------+---------------+-----------+\n",
      "\n"
     ]
    }
   ],
   "source": [
    "spark.sql(\"SHOW TABLES;\").show()"
   ]
  },
  {
   "cell_type": "code",
   "execution_count": 21,
   "metadata": {},
   "outputs": [
    {
     "name": "stdout",
     "output_type": "stream",
     "text": [
      "+-----------------------------------------------------------------------------------------------------------------------------------------------------------+\n",
      "|createtab_stmt                                                                                                                                             |\n",
      "+-----------------------------------------------------------------------------------------------------------------------------------------------------------+\n",
      "|CREATE TABLE spark_catalog.desp.despachantes (\\n  id INT,\\n  name STRING,\\n  status STRING,\\n  city STRING,\\n  sales STRING,\\n  data DATE)\\nUSING parquet\\n|\n",
      "+-----------------------------------------------------------------------------------------------------------------------------------------------------------+\n",
      "\n"
     ]
    }
   ],
   "source": [
    "spark.sql(\"SHOW CREATE TABLE despachantes;\").show(truncate=False)"
   ]
  },
  {
   "cell_type": "code",
   "execution_count": 22,
   "metadata": {},
   "outputs": [
    {
     "data": {
      "text/plain": [
       "[Table(name='despachantes', catalog='spark_catalog', namespace=['desp'], description=None, tableType='MANAGED', isTemporary=False),\n",
       " Table(name='despachantes_ng', catalog='spark_catalog', namespace=['desp'], description=None, tableType='EXTERNAL', isTemporary=False)]"
      ]
     },
     "execution_count": 22,
     "metadata": {},
     "output_type": "execute_result"
    }
   ],
   "source": [
    "spark.catalog.listTables()"
   ]
  },
  {
   "cell_type": "markdown",
   "metadata": {},
   "source": [
    "# Views"
   ]
  },
  {
   "cell_type": "code",
   "execution_count": 23,
   "metadata": {},
   "outputs": [
    {
     "name": "stdout",
     "output_type": "stream",
     "text": [
      "+---+-------------------+------+-------------+-----+----------+\n",
      "| id|               name|status|         city|sales|      data|\n",
      "+---+-------------------+------+-------------+-----+----------+\n",
      "|  1|   Carminda Pestana| Ativo|  Santa Maria|   23|2020-08-11|\n",
      "|  2|    Deolinda Vilela| Ativo|Novo Hamburgo|   34|2020-03-05|\n",
      "|  3|   Emídio Dornelles| Ativo| Porto Alegre|   34|2020-02-05|\n",
      "|  4|Felisbela Dornelles| Ativo| Porto Alegre|   36|2020-02-05|\n",
      "|  5|     Graça Ornellas| Ativo| Porto Alegre|   12|2020-02-05|\n",
      "|  6|   Matilde Rebouças| Ativo| Porto Alegre|   22|2019-01-05|\n",
      "|  7|    Noêmia   Orriça| Ativo|  Santa Maria|   45|2019-10-05|\n",
      "|  8|      Roque Vásquez| Ativo| Porto Alegre|   65|2020-03-05|\n",
      "|  9|      Uriel Queiroz| Ativo| Porto Alegre|   54|2018-05-05|\n",
      "| 10|   Viviana Sequeira| Ativo| Porto Alegre|    0|2020-09-05|\n",
      "+---+-------------------+------+-------------+-----+----------+\n",
      "\n"
     ]
    }
   ],
   "source": [
    "despachantes.createOrReplaceTempView(\"despachantes_view_1\")\n",
    "spark.sql(\"SELECT * FROM despachantes_view_1;\").show()"
   ]
  },
  {
   "cell_type": "code",
   "execution_count": 24,
   "metadata": {},
   "outputs": [
    {
     "name": "stdout",
     "output_type": "stream",
     "text": [
      "+---+-------------------+------+-------------+-----+----------+\n",
      "| id|               name|status|         city|sales|      data|\n",
      "+---+-------------------+------+-------------+-----+----------+\n",
      "|  1|   Carminda Pestana| Ativo|  Santa Maria|   23|2020-08-11|\n",
      "|  2|    Deolinda Vilela| Ativo|Novo Hamburgo|   34|2020-03-05|\n",
      "|  3|   Emídio Dornelles| Ativo| Porto Alegre|   34|2020-02-05|\n",
      "|  4|Felisbela Dornelles| Ativo| Porto Alegre|   36|2020-02-05|\n",
      "|  5|     Graça Ornellas| Ativo| Porto Alegre|   12|2020-02-05|\n",
      "|  6|   Matilde Rebouças| Ativo| Porto Alegre|   22|2019-01-05|\n",
      "|  7|    Noêmia   Orriça| Ativo|  Santa Maria|   45|2019-10-05|\n",
      "|  8|      Roque Vásquez| Ativo| Porto Alegre|   65|2020-03-05|\n",
      "|  9|      Uriel Queiroz| Ativo| Porto Alegre|   54|2018-05-05|\n",
      "| 10|   Viviana Sequeira| Ativo| Porto Alegre|    0|2020-09-05|\n",
      "+---+-------------------+------+-------------+-----+----------+\n",
      "\n"
     ]
    }
   ],
   "source": [
    "despachantes.createOrReplaceGlobalTempView(\"despachantes_view_2\")\n",
    "spark.sql(\"SELECT * FROM global_temp.despachantes_view_2\").show()"
   ]
  },
  {
   "cell_type": "code",
   "execution_count": 26,
   "metadata": {},
   "outputs": [
    {
     "name": "stdout",
     "output_type": "stream",
     "text": [
      "+---+-------------------+------+-------------+-----+----------+\n",
      "| id|               name|status|         city|sales|      data|\n",
      "+---+-------------------+------+-------------+-----+----------+\n",
      "|  1|   Carminda Pestana| Ativo|  Santa Maria|   23|2020-08-11|\n",
      "|  2|    Deolinda Vilela| Ativo|Novo Hamburgo|   34|2020-03-05|\n",
      "|  3|   Emídio Dornelles| Ativo| Porto Alegre|   34|2020-02-05|\n",
      "|  4|Felisbela Dornelles| Ativo| Porto Alegre|   36|2020-02-05|\n",
      "|  5|     Graça Ornellas| Ativo| Porto Alegre|   12|2020-02-05|\n",
      "|  6|   Matilde Rebouças| Ativo| Porto Alegre|   22|2019-01-05|\n",
      "|  7|    Noêmia   Orriça| Ativo|  Santa Maria|   45|2019-10-05|\n",
      "|  8|      Roque Vásquez| Ativo| Porto Alegre|   65|2020-03-05|\n",
      "|  9|      Uriel Queiroz| Ativo| Porto Alegre|   54|2018-05-05|\n",
      "| 10|   Viviana Sequeira| Ativo| Porto Alegre|    0|2020-09-05|\n",
      "+---+-------------------+------+-------------+-----+----------+\n",
      "\n"
     ]
    }
   ],
   "source": [
    "spark.sql(\n",
    "    \"CREATE OR REPLACE TEMP VIEW desp_view AS SELECT * FROM despachantes;\",\n",
    ")\n",
    "\n",
    "spark.sql(\"SELECT * FROM desp_view\").show()"
   ]
  },
  {
   "cell_type": "code",
   "execution_count": 27,
   "metadata": {},
   "outputs": [
    {
     "name": "stdout",
     "output_type": "stream",
     "text": [
      "+---+-------------------+------+-------------+-----+----------+\n",
      "| id|               name|status|         city|sales|      data|\n",
      "+---+-------------------+------+-------------+-----+----------+\n",
      "|  1|   Carminda Pestana| Ativo|  Santa Maria|   23|2020-08-11|\n",
      "|  2|    Deolinda Vilela| Ativo|Novo Hamburgo|   34|2020-03-05|\n",
      "|  3|   Emídio Dornelles| Ativo| Porto Alegre|   34|2020-02-05|\n",
      "|  4|Felisbela Dornelles| Ativo| Porto Alegre|   36|2020-02-05|\n",
      "|  5|     Graça Ornellas| Ativo| Porto Alegre|   12|2020-02-05|\n",
      "|  6|   Matilde Rebouças| Ativo| Porto Alegre|   22|2019-01-05|\n",
      "|  7|    Noêmia   Orriça| Ativo|  Santa Maria|   45|2019-10-05|\n",
      "|  8|      Roque Vásquez| Ativo| Porto Alegre|   65|2020-03-05|\n",
      "|  9|      Uriel Queiroz| Ativo| Porto Alegre|   54|2018-05-05|\n",
      "| 10|   Viviana Sequeira| Ativo| Porto Alegre|    0|2020-09-05|\n",
      "+---+-------------------+------+-------------+-----+----------+\n",
      "\n"
     ]
    }
   ],
   "source": [
    "spark.sql(\n",
    "    \"CREATE OR REPLACE GLOBAL TEMP VIEW desp_view AS SELECT * FROM despachantes;\",\n",
    ")\n",
    "\n",
    "spark.sql(\"SELECT * FROM global_temp.desp_view;\").show()"
   ]
  },
  {
   "cell_type": "markdown",
   "metadata": {},
   "source": [
    "# SQL x DataFrames"
   ]
  },
  {
   "cell_type": "code",
   "execution_count": 28,
   "metadata": {},
   "outputs": [
    {
     "name": "stdout",
     "output_type": "stream",
     "text": [
      "+-------------+-----------+\n",
      "|         city|total_sales|\n",
      "+-------------+-----------+\n",
      "| Porto Alegre|      223.0|\n",
      "|  Santa Maria|       68.0|\n",
      "|Novo Hamburgo|       34.0|\n",
      "+-------------+-----------+\n",
      "\n"
     ]
    }
   ],
   "source": [
    "spark.sql(\n",
    "    \"SELECT city, SUM(sales) AS total_sales FROM despachantes GROUP BY city \"\n",
    "    \"ORDER BY total_sales DESC\"\n",
    ").show()"
   ]
  },
  {
   "cell_type": "code",
   "execution_count": 30,
   "metadata": {},
   "outputs": [
    {
     "name": "stdout",
     "output_type": "stream",
     "text": [
      "+-------------+-----------+\n",
      "|         city|total_sales|\n",
      "+-------------+-----------+\n",
      "| Porto Alegre|      223.0|\n",
      "|  Santa Maria|       68.0|\n",
      "|Novo Hamburgo|       34.0|\n",
      "+-------------+-----------+\n",
      "\n"
     ]
    }
   ],
   "source": [
    "despachantes.groupBy(\"city\").agg(func.sum(\"sales\").alias(\"total_sales\")).orderBy(\n",
    "    func.col(\"total_sales\").desc()\n",
    ").show()"
   ]
  },
  {
   "cell_type": "markdown",
   "metadata": {},
   "source": [
    "# Joins"
   ]
  },
  {
   "cell_type": "code",
   "execution_count": 32,
   "metadata": {},
   "outputs": [
    {
     "name": "stdout",
     "output_type": "stream",
     "text": [
      "StructType([StructField('id', IntegerType(), True), StructField('datarec', DateType(), True), StructField('iddesp', IntegerType(), True)])\n",
      "+---+----------+------+\n",
      "| id|   datarec|iddesp|\n",
      "+---+----------+------+\n",
      "|  1|2020-09-12|     2|\n",
      "|  2|2020-09-11|     2|\n",
      "|  3|2020-10-05|     4|\n",
      "|  4|2020-10-02|     5|\n",
      "|  5|2020-12-06|     5|\n",
      "|  6|2020-01-09|     5|\n",
      "|  7|2020-01-05|     9|\n",
      "+---+----------+------+\n",
      "\n"
     ]
    }
   ],
   "source": [
    "rec_schema = \"id INT, datarec DATE, iddesp INT\"\n",
    "rec = spark.read.csv(\n",
    "    str(path.parent / \"reclamacoes.csv\"), header=False, schema=rec_schema\n",
    ")\n",
    "print(rec.schema)\n",
    "rec.show()"
   ]
  },
  {
   "cell_type": "code",
   "execution_count": 33,
   "metadata": {},
   "outputs": [],
   "source": [
    "rec.write.saveAsTable(\"rec\")"
   ]
  },
  {
   "cell_type": "code",
   "execution_count": 35,
   "metadata": {},
   "outputs": [
    {
     "name": "stdout",
     "output_type": "stream",
     "text": [
      "+---+----------+------+\n",
      "| id|   datarec|iddesp|\n",
      "+---+----------+------+\n",
      "|  1|2020-09-12|     2|\n",
      "|  2|2020-09-11|     2|\n",
      "|  3|2020-10-05|     4|\n",
      "|  4|2020-10-02|     5|\n",
      "|  5|2020-12-06|     5|\n",
      "|  6|2020-01-09|     5|\n",
      "|  7|2020-01-05|     9|\n",
      "+---+----------+------+\n",
      "\n"
     ]
    }
   ],
   "source": [
    "spark.sql(\"SELECT * FROM rec;\").show()"
   ]
  },
  {
   "cell_type": "markdown",
   "metadata": {},
   "source": [
    "### JOIN SQL"
   ]
  },
  {
   "cell_type": "code",
   "execution_count": 36,
   "metadata": {},
   "outputs": [
    {
     "name": "stdout",
     "output_type": "stream",
     "text": [
      "+---+----------+------+-------------------+\n",
      "| id|   datarec|iddesp|               name|\n",
      "+---+----------+------+-------------------+\n",
      "|  1|2020-09-12|     2|    Deolinda Vilela|\n",
      "|  2|2020-09-11|     2|    Deolinda Vilela|\n",
      "|  3|2020-10-05|     4|Felisbela Dornelles|\n",
      "|  4|2020-10-02|     5|     Graça Ornellas|\n",
      "|  5|2020-12-06|     5|     Graça Ornellas|\n",
      "|  6|2020-01-09|     5|     Graça Ornellas|\n",
      "|  7|2020-01-05|     9|      Uriel Queiroz|\n",
      "+---+----------+------+-------------------+\n",
      "\n"
     ]
    }
   ],
   "source": [
    "spark.sql(\n",
    "    \"SELECT rec.*, despachantes.name FROM despachantes INNER JOIN rec ON\"\n",
    "    \"(despachantes.id = rec.iddesp);\"\n",
    ").show()"
   ]
  },
  {
   "cell_type": "markdown",
   "metadata": {},
   "source": [
    "### Spark join"
   ]
  },
  {
   "cell_type": "code",
   "execution_count": 44,
   "metadata": {},
   "outputs": [],
   "source": [
    "rec = rec.withColumnRenamed(\"id\", \"idrec\")"
   ]
  },
  {
   "cell_type": "code",
   "execution_count": 47,
   "metadata": {},
   "outputs": [
    {
     "name": "stdout",
     "output_type": "stream",
     "text": [
      "+-----+----------+------+-------------------+\n",
      "|idrec|   datarec|iddesp|               name|\n",
      "+-----+----------+------+-------------------+\n",
      "|    2|2020-09-11|     2|    Deolinda Vilela|\n",
      "|    1|2020-09-12|     2|    Deolinda Vilela|\n",
      "|    3|2020-10-05|     4|Felisbela Dornelles|\n",
      "|    6|2020-01-09|     5|     Graça Ornellas|\n",
      "|    5|2020-12-06|     5|     Graça Ornellas|\n",
      "|    4|2020-10-02|     5|     Graça Ornellas|\n",
      "|    7|2020-01-05|     9|      Uriel Queiroz|\n",
      "+-----+----------+------+-------------------+\n",
      "\n"
     ]
    }
   ],
   "source": [
    "despachantes.join(rec, despachantes.id == rec.iddesp, \"inner\").select(\n",
    "    \"idrec\", \"datarec\", \"iddesp\", \"name\"\n",
    ").show()"
   ]
  },
  {
   "cell_type": "markdown",
   "metadata": {},
   "source": [
    "spark-sql is live a sql shell, it uses Hive to emulate a database"
   ]
  }
 ],
 "metadata": {
  "kernelspec": {
   "display_name": "Python 3",
   "language": "python",
   "name": "python3"
  },
  "language_info": {
   "codemirror_mode": {
    "name": "ipython",
    "version": 3
   },
   "file_extension": ".py",
   "mimetype": "text/x-python",
   "name": "python",
   "nbconvert_exporter": "python",
   "pygments_lexer": "ipython3",
   "version": "3.10.12"
  }
 },
 "nbformat": 4,
 "nbformat_minor": 2
}
