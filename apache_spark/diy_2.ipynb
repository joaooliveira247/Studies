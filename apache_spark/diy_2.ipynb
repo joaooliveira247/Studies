{
 "cells": [
  {
   "cell_type": "code",
   "execution_count": 1,
   "metadata": {},
   "outputs": [
    {
     "name": "stderr",
     "output_type": "stream",
     "text": [
      "24/04/03 13:58:54 WARN Utils: Your hostname, IdeaPad-Gaming-3-15IHU6 resolves to a loopback address: 127.0.1.1; using 192.168.1.5 instead (on interface wlp0s20f3)\n",
      "24/04/03 13:58:54 WARN Utils: Set SPARK_LOCAL_IP if you need to bind to another address\n",
      "Setting default log level to \"WARN\".\n",
      "To adjust logging level use sc.setLogLevel(newLevel). For SparkR, use setLogLevel(newLevel).\n",
      "24/04/03 13:58:54 WARN NativeCodeLoader: Unable to load native-hadoop library for your platform... using builtin-java classes where applicable\n"
     ]
    }
   ],
   "source": [
    "from pyspark.sql import SparkSession, DataFrame\n",
    "from pyspark.sql import functions as func\n",
    "from pathlib import Path\n",
    "from collections import defaultdict\n",
    "\n",
    "spark = (\n",
    "    SparkSession.builder.master(\"local\").appName(\"Do It Youself - One\").getOrCreate()\n",
    ")\n",
    "\n",
    "path = Path().home() / \"Documents/PySparkCurso/download/Atividades\""
   ]
  },
  {
   "cell_type": "code",
   "execution_count": 2,
   "metadata": {},
   "outputs": [
    {
     "name": "stderr",
     "output_type": "stream",
     "text": [
      "                                                                                \r"
     ]
    },
    {
     "data": {
      "text/plain": [
       "defaultdict(pyspark.sql.dataframe.DataFrame,\n",
       "            {'itensvendas': DataFrame[ProdutoID: bigint, VendasID: bigint, Quantidade: bigint, ValorUnitario: double, ValorTotal: double, Desconto: string, TotalComDesconto: double],\n",
       "             'vendas': DataFrame[VendasID: bigint, VendedorID: bigint, ClienteID: bigint, Data: string, Total: double],\n",
       "             'clientes': DataFrame[ClienteID: bigint, Cliente: string, Estado: string, Genero: string, Status: string],\n",
       "             'vendedores': DataFrame[VendedorID: bigint, Vendedor: string],\n",
       "             'produtos': DataFrame[ProdutoID: bigint, Produto: string, Preco: string]})"
      ]
     },
     "execution_count": 2,
     "metadata": {},
     "output_type": "execute_result"
    }
   ],
   "source": [
    "def gen_vars(path: Path, session: SparkSession) -> defaultdict[str, DataFrame]:\n",
    "    vars = defaultdict(\n",
    "        DataFrame,\n",
    "    )\n",
    "    for file in path.iterdir():\n",
    "        vars[file.name.split(\".\")[0].lower()] = spark.read.load(\n",
    "            str(file), header=True, format=\"parquet\", inferSchema=True\n",
    "        )\n",
    "    return vars\n",
    "\n",
    "\n",
    "vars = gen_vars(path, spark)\n",
    "vars"
   ]
  },
  {
   "cell_type": "code",
   "execution_count": 16,
   "metadata": {},
   "outputs": [
    {
     "data": {
      "text/plain": [
       "DataFrame[]"
      ]
     },
     "execution_count": 16,
     "metadata": {},
     "output_type": "execute_result"
    }
   ],
   "source": [
    "spark.sql(\"CREATE DATABASE vendasvarejo;\")"
   ]
  },
  {
   "cell_type": "code",
   "execution_count": 17,
   "metadata": {},
   "outputs": [
    {
     "name": "stdout",
     "output_type": "stream",
     "text": [
      "+------------+\n",
      "|   namespace|\n",
      "+------------+\n",
      "|     default|\n",
      "|vendasvarejo|\n",
      "+------------+\n",
      "\n"
     ]
    }
   ],
   "source": [
    "spark.sql(\"SHOW DATABASES;\").show()"
   ]
  },
  {
   "cell_type": "code",
   "execution_count": 18,
   "metadata": {},
   "outputs": [
    {
     "data": {
      "text/plain": [
       "DataFrame[]"
      ]
     },
     "execution_count": 18,
     "metadata": {},
     "output_type": "execute_result"
    }
   ],
   "source": [
    "spark.sql(\"USE vendasvarejo;\")"
   ]
  },
  {
   "cell_type": "code",
   "execution_count": 19,
   "metadata": {},
   "outputs": [
    {
     "data": {
      "text/plain": [
       "[None, None, None, None, None]"
      ]
     },
     "execution_count": 19,
     "metadata": {},
     "output_type": "execute_result"
    }
   ],
   "source": [
    "[df.write.saveAsTable(df_name) for df_name, df in vars.items()]"
   ]
  },
  {
   "cell_type": "code",
   "execution_count": 20,
   "metadata": {},
   "outputs": [
    {
     "name": "stdout",
     "output_type": "stream",
     "text": [
      "+------------+-----------+-----------+\n",
      "|   namespace|  tableName|isTemporary|\n",
      "+------------+-----------+-----------+\n",
      "|vendasvarejo|   clientes|      false|\n",
      "|vendasvarejo|itensvendas|      false|\n",
      "|vendasvarejo|   produtos|      false|\n",
      "|vendasvarejo|     vendas|      false|\n",
      "|vendasvarejo| vendedores|      false|\n",
      "+------------+-----------+-----------+\n",
      "\n"
     ]
    }
   ],
   "source": [
    "spark.sql(\"SHOW TABLES;\").show()"
   ]
  },
  {
   "cell_type": "code",
   "execution_count": 35,
   "metadata": {},
   "outputs": [
    {
     "name": "stdout",
     "output_type": "stream",
     "text": [
      "+---------+--------------------+------+------+--------+\n",
      "|ClienteID|             Cliente|Estado|Genero|  Status|\n",
      "+---------+--------------------+------+------+--------+\n",
      "|        1|Adelina Buenaventura|    RJ|     M|  Silver|\n",
      "|        2|        Adelino Gago|    RJ|     M|  Silver|\n",
      "|        3|     Adolfo Patrício|    PE|     M|  Silver|\n",
      "|        4|    Adriana Guedelha|    RO|     F|Platinum|\n",
      "|        5|       Adélio Lisboa|    SE|     M|  Silver|\n",
      "|        6|       Adérito Bahía|    MA|     M|  Silver|\n",
      "|        7|       Aida Dorneles|    RN|     F|  Silver|\n",
      "|        8|   Alarico Quinterno|    AC|     M|  Silver|\n",
      "|        9|    Alberto Cezimbra|    AM|     M|  Silver|\n",
      "|       10|    Alberto Monsanto|    RN|     M|    Gold|\n",
      "|       11|       Albino Canela|    AC|     M|  Silver|\n",
      "|       12|     Alceste Varanda|    RR|     F|  Silver|\n",
      "|       13|  Alcides Carvalhais|    RO|     M|  Silver|\n",
      "|       14|        Aldo Martins|    GO|     M|  Silver|\n",
      "|       15|   Alexandra Tabares|    MG|     F|  Silver|\n",
      "|       16|      Alfredo Cotrim|    SC|     M|  Silver|\n",
      "|       17|     Almeno Figueira|    SC|     M|  Silver|\n",
      "|       18|      Alvito Peralta|    AM|     M|  Silver|\n",
      "|       19|     Amadeu Martinho|    RN|     M|  Silver|\n",
      "|       20|      Amélia Estévez|    PE|     F|  Silver|\n",
      "+---------+--------------------+------+------+--------+\n",
      "only showing top 20 rows\n",
      "\n"
     ]
    }
   ],
   "source": [
    "spark.sql(\"SELECT * FROM clientes;\").show()"
   ]
  },
  {
   "cell_type": "markdown",
   "metadata": {},
   "source": [
    "Query that shows nome cliente, data venda, produtos, vendedor,valor do item"
   ]
  },
  {
   "cell_type": "code",
   "execution_count": 59,
   "metadata": {},
   "outputs": [
    {
     "name": "stdout",
     "output_type": "stream",
     "text": [
      "+-------------------+---------+----------------+--------+\n",
      "|            Cliente|     Data|        Vendedor|VendasID|\n",
      "+-------------------+---------+----------------+--------+\n",
      "|     Cosme Zambujal| 1/1/2019|    Armando Lago|       1|\n",
      "|  Gertrudes Hidalgo| 1/1/2020|   Iberê Lacerda|       2|\n",
      "|   Antão Corte-Real| 2/1/2020|Jéssica Castelão|       3|\n",
      "|   Antão Corte-Real| 2/1/2019|  Hélio Liberato|       4|\n",
      "|   Antão Corte-Real| 3/1/2018|  Hélio Liberato|       5|\n",
      "|   Antão Corte-Real| 4/1/2020|  Hélio Liberato|       6|\n",
      "|   Antão Corte-Real| 6/1/2019|  Hélio Liberato|       7|\n",
      "|  Gertrudes Infante| 6/1/2019|  Hélio Liberato|       8|\n",
      "|     Cosme Zambujal| 6/1/2020|Jéssica Castelão|       9|\n",
      "| Greice Lameirinhas| 6/1/2020|Capitolino Bahía|      10|\n",
      "|     Brígida Gusmão| 8/1/2019|Jéssica Castelão|      11|\n",
      "|     Brígida Gusmão| 9/1/2018|Jéssica Castelão|      12|\n",
      "|     Brígida Gusmão|10/1/2019|Jéssica Castelão|      13|\n",
      "|     Joaquim Mieiro|12/1/2020|   Daniel Pirajá|      14|\n",
      "|     Joaquim Mieiro|12/1/2018| Godo Capiperibe|      15|\n",
      "|    Gisela Candeias|13/1/2020|Jéssica Castelão|      16|\n",
      "|      Cidália Miera|13/1/2019|Capitolino Bahía|      17|\n",
      "|      Cidália Miera|14/1/2019|  Tobias Furtado|      18|\n",
      "|       Gisela Bahia|14/1/2019|  Tobias Furtado|      19|\n",
      "|Hermígio Villaverde|15/1/2018|    Simão Rivero|      20|\n",
      "+-------------------+---------+----------------+--------+\n",
      "only showing top 20 rows\n",
      "\n"
     ]
    }
   ],
   "source": [
    "spark.sql(\n",
    "    \"\"\"\n",
    "    CREATE OR REPLACE GLOBAL TEMP VIEW\n",
    "        vendas_clientes_vendedores AS\n",
    "    SELECT\n",
    "        clientes.Cliente, vendas.Data, vendedores.Vendedor, vendas.VendasID\n",
    "    FROM\n",
    "        vendas\n",
    "    INNER JOIN\n",
    "        clientes\n",
    "    ON\n",
    "        (vendas.ClienteID = clientes.ClienteID)\n",
    "    INNER JOIN\n",
    "        vendedores\n",
    "    ON\n",
    "        (vendas.VendedorID = vendedores.VendedorID);\n",
    "\"\"\"\n",
    ")\n",
    "\n",
    "spark.sql(\"SELECT * FROM global_temp.vendas_clientes_vendedores;\").show()"
   ]
  },
  {
   "cell_type": "code",
   "execution_count": 79,
   "metadata": {},
   "outputs": [
    {
     "name": "stdout",
     "output_type": "stream",
     "text": [
      "+--------+----------+--------------------+\n",
      "|VendasID|ValorTotal|             Produto|\n",
      "+--------+----------+--------------------+\n",
      "|     400|   18402.0|Bicicleta Altools...|\n",
      "|     385|   18402.0|Bicicleta Altools...|\n",
      "|     395|   13784.4|Bicicleta Trinc C...|\n",
      "|     367|   13018.6|Bicicleta Trinc C...|\n",
      "|     380|  14077.54|Bicicleta Altools...|\n",
      "|     346|   16561.8|Bicicleta Altools...|\n",
      "|     339|   16561.8|Bicicleta Altools...|\n",
      "|     397|    9201.0|Bicicleta Altools...|\n",
      "|     346|   15933.6|Bicicleta Aro 29 ...|\n",
      "|     264|   16561.8|Bicicleta Altools...|\n",
      "|     355|  11716.74|Bicicleta Trinc C...|\n",
      "|     376|    8280.9|Bicicleta Altools...|\n",
      "|     374|    9201.0|Bicicleta Altools...|\n",
      "|     397|    7524.2|Bicicleta Aro 29 ...|\n",
      "|     303|   16561.8|Bicicleta Altools...|\n",
      "|     358|   13018.6|Bicicleta Trinc C...|\n",
      "|     374|    7658.0|Bicicleta Trinc C...|\n",
      "|     336|    8510.0|Bicicleta Gts Adv...|\n",
      "|     399|   6771.78|Bicicleta Aro 29 ...|\n",
      "|     292|  13543.56|Bicicleta Aro 29 ...|\n",
      "+--------+----------+--------------------+\n",
      "only showing top 20 rows\n",
      "\n"
     ]
    }
   ],
   "source": [
    "spark.sql(\n",
    "    \"\"\"\n",
    "    CREATE OR REPLACE GLOBAL TEMP VIEW\n",
    "        vendas_itensvendas_produtos AS\n",
    "    SELECT\n",
    "        itensvendas.VendasID, itensvendas.ValorTotal, produtos.Produto\n",
    "    FROM\n",
    "        itensvendas\n",
    "    INNER JOIN\n",
    "        produtos\n",
    "    ON\n",
    "        (itensvendas.ProdutoID = produtos.ProdutoID);\n",
    "\"\"\"\n",
    ")\n",
    "\n",
    "spark.sql(\"SELECT * FROM global_temp.vendas_itensvendas_produtos;\").show()"
   ]
  },
  {
   "cell_type": "code",
   "execution_count": 90,
   "metadata": {},
   "outputs": [
    {
     "name": "stdout",
     "output_type": "stream",
     "text": [
      "+-----------------+--------+----------------+----------+--------------------+\n",
      "|          Cliente|    Data|        Vendedor|ValorTotal|             Produto|\n",
      "+-----------------+--------+----------------+----------+--------------------+\n",
      "|   Cosme Zambujal|1/1/2019|    Armando Lago|   7820.85|Bicicleta Altools...|\n",
      "|   Cosme Zambujal|1/1/2019|    Armando Lago|     97.75|Bermuda Predactor...|\n",
      "|   Cosme Zambujal|1/1/2019|    Armando Lago|     135.0|Camiseta Predacto...|\n",
      "|Gertrudes Hidalgo|1/1/2020|   Iberê Lacerda|     150.4|Luva De Ciclismo ...|\n",
      "| Antão Corte-Real|2/1/2020|Jéssica Castelão|     155.0|Capacete Gometws ...|\n",
      "| Antão Corte-Real|2/1/2020|Jéssica Castelão|    5932.0|Bicicleta Gometws...|\n",
      "| Antão Corte-Real|2/1/2019|  Hélio Liberato|   7820.85|Bicicleta Altools...|\n",
      "| Antão Corte-Real|2/1/2019|  Hélio Liberato|     97.75|Bermuda Predactor...|\n",
      "| Antão Corte-Real|2/1/2019|  Hélio Liberato|    5910.0|Bicicleta Gometws...|\n",
      "| Antão Corte-Real|3/1/2018|  Hélio Liberato|    2955.0|Bicicleta Gometws...|\n",
      "| Antão Corte-Real|3/1/2018|  Hélio Liberato|    7658.0|Bicicleta Trinc C...|\n",
      "| Antão Corte-Real|3/1/2018|  Hélio Liberato|    8852.0|Bicicleta Aro 29 ...|\n",
      "| Antão Corte-Real|3/1/2018|  Hélio Liberato|     121.5|Camiseta Predacto...|\n",
      "| Antão Corte-Real|3/1/2018|  Hélio Liberato|   6510.16|Bicicleta Gts Adv...|\n",
      "| Antão Corte-Real|4/1/2020|  Hélio Liberato|   18402.0|Bicicleta Altools...|\n",
      "| Antão Corte-Real|6/1/2019|  Hélio Liberato|    7524.2|Bicicleta Aro 29 ...|\n",
      "|Gertrudes Infante|6/1/2019|  Hélio Liberato|     376.0|Luva De Ciclismo ...|\n",
      "|Gertrudes Infante|6/1/2019|  Hélio Liberato|   3616.75|Bicicleta Gts Adv...|\n",
      "|Gertrudes Infante|6/1/2019|  Hélio Liberato|     108.0|Camiseta Predacto...|\n",
      "|Gertrudes Infante|6/1/2019|  Hélio Liberato|     115.0|Bermuda Predactor...|\n",
      "+-----------------+--------+----------------+----------+--------------------+\n",
      "only showing top 20 rows\n",
      "\n"
     ]
    }
   ],
   "source": [
    "spark.sql(\n",
    "    \"\"\"\n",
    "    SELECT\n",
    "        Cliente, Data, Vendedor, ValorTotal, Produto\n",
    "    FROM \n",
    "        global_temp.vendas_clientes_vendedores AS vcv\n",
    "    INNER JOIN\n",
    "        global_temp.vendas_itensvendas_produtos AS vip\n",
    "    ON\n",
    "        (vcv.VendasID = vip.VendasID);\n",
    "\"\"\"\n",
    ").show()"
   ]
  }
 ],
 "metadata": {
  "kernelspec": {
   "display_name": "Python 3",
   "language": "python",
   "name": "python3"
  },
  "language_info": {
   "codemirror_mode": {
    "name": "ipython",
    "version": 3
   },
   "file_extension": ".py",
   "mimetype": "text/x-python",
   "name": "python",
   "nbconvert_exporter": "python",
   "pygments_lexer": "ipython3",
   "version": "3.10.12"
  }
 },
 "nbformat": 4,
 "nbformat_minor": 2
}
