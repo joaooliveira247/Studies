{
 "cells": [
  {
   "cell_type": "code",
   "execution_count": 2,
   "metadata": {},
   "outputs": [],
   "source": [
    "from pathlib import Path\n",
    "from pyspark.sql import SparkSession, DataFrame\n",
    "from pyspark.ml.feature import RFormula\n",
    "from pyspark.ml.classification import NaiveBayes\n",
    "from pyspark.ml.evaluation import MulticlassClassificationEvaluator\n",
    "\n",
    "\n",
    "BASE_DATA_DIR = Path().home() / \"Documents/PySparkCurso/download\"\n",
    "\n",
    "spark: SparkSession = (\n",
    "    SparkSession.builder.master(\"local\").appName(\"Ml with spark\").getOrCreate()\n",
    ")"
   ]
  },
  {
   "cell_type": "code",
   "execution_count": 3,
   "metadata": {},
   "outputs": [
    {
     "name": "stdout",
     "output_type": "stream",
     "text": [
      "+-----------+----------+-----------+----------+-----------+\n",
      "|sepallength|sepalwidth|petallength|petalwidth|      class|\n",
      "+-----------+----------+-----------+----------+-----------+\n",
      "|        5.1|       3.5|        1.4|       0.2|Iris-setosa|\n",
      "|        4.9|       3.0|        1.4|       0.2|Iris-setosa|\n",
      "|        4.7|       3.2|        1.3|       0.2|Iris-setosa|\n",
      "|        4.6|       3.1|        1.5|       0.2|Iris-setosa|\n",
      "|        5.0|       3.6|        1.4|       0.2|Iris-setosa|\n",
      "+-----------+----------+-----------+----------+-----------+\n",
      "only showing top 5 rows\n",
      "\n"
     ]
    }
   ],
   "source": [
    "iris: DataFrame = spark.read.csv(\n",
    "    str(BASE_DATA_DIR / \"iris.csv\"), inferSchema=True, header=True\n",
    ")\n",
    "iris.show(5)"
   ]
  },
  {
   "cell_type": "code",
   "execution_count": 4,
   "metadata": {},
   "outputs": [
    {
     "name": "stdout",
     "output_type": "stream",
     "text": [
      "+-----------------+-----+\n",
      "|         features|label|\n",
      "+-----------------+-----+\n",
      "|[5.1,3.5,1.4,0.2]|  0.0|\n",
      "|[4.9,3.0,1.4,0.2]|  0.0|\n",
      "|[4.7,3.2,1.3,0.2]|  0.0|\n",
      "|[4.6,3.1,1.5,0.2]|  0.0|\n",
      "|[5.0,3.6,1.4,0.2]|  0.0|\n",
      "+-----------------+-----+\n",
      "only showing top 5 rows\n",
      "\n"
     ]
    }
   ],
   "source": [
    "formula = RFormula(\n",
    "    formula=\"class ~ .\",\n",
    "    featuresCol=\"features\",\n",
    "    labelCol=\"label\",\n",
    "    handleInvalid=\"skip\",\n",
    ")\n",
    "iris_transf = formula.fit(iris).transform(iris).select(\"features\", \"label\")\n",
    "iris_transf.show(5)"
   ]
  },
  {
   "cell_type": "code",
   "execution_count": 5,
   "metadata": {},
   "outputs": [
    {
     "name": "stdout",
     "output_type": "stream",
     "text": [
      "+-----------------+-----+--------------------+--------------------+----------+\n",
      "|         features|label|       rawPrediction|         probability|prediction|\n",
      "+-----------------+-----+--------------------+--------------------+----------+\n",
      "|[4.3,3.0,1.1,0.1]|  0.0|[-9.9459586310684...|[0.72755589946077...|       0.0|\n",
      "|[4.5,2.3,1.3,0.3]|  0.0|[-10.438288584419...|[0.54430055052198...|       0.0|\n",
      "|[4.6,3.4,1.4,0.3]|  0.0|[-11.896293816194...|[0.68699461089321...|       0.0|\n",
      "|[4.8,3.0,1.4,0.3]|  0.0|[-11.604866045444...|[0.64230264375293...|       0.0|\n",
      "|[4.8,3.4,1.9,0.2]|  0.0|[-12.639936254414...|[0.64275970286444...|       0.0|\n",
      "|[4.9,2.5,4.5,1.7]|  2.0|[-22.173459720037...|[0.01852666087314...|       2.0|\n",
      "|[4.9,3.1,1.5,0.1]|  0.0|[-11.253184110024...|[0.70317421554128...|       0.0|\n",
      "|[4.9,3.1,1.5,0.1]|  0.0|[-11.253184110024...|[0.70317421554128...|       0.0|\n",
      "|[5.0,2.0,3.5,1.0]|  1.0|[-17.241407622542...|[0.07406362363633...|       2.0|\n",
      "|[5.0,3.2,1.2,0.2]|  0.0|[-11.217428355864...|[0.73715634679901...|       0.0|\n",
      "|[5.0,3.4,1.5,0.2]|  0.0|[-12.012313808247...|[0.71641826588880...|       0.0|\n",
      "|[5.0,3.5,1.6,0.6]|  0.0|[-13.761874806540...|[0.59104962162334...|       0.0|\n",
      "|[5.1,2.5,3.0,1.1]|  1.0|[-17.254650309001...|[0.12366785532246...|       2.0|\n",
      "|[5.1,3.5,1.4,0.2]|  0.0|[-11.999647032345...|[0.74676659284760...|       0.0|\n",
      "|[5.1,3.5,1.4,0.3]|  0.0|[-12.361751170123...|[0.72027321188766...|       0.0|\n",
      "|[5.1,3.7,1.5,0.4]|  0.0|[-13.133547644247...|[0.70168138794844...|       0.0|\n",
      "|[5.1,3.8,1.6,0.2]|  0.0|[-12.710483815873...|[0.75243906010332...|       0.0|\n",
      "|[5.2,4.1,1.5,0.1]|  0.0|[-12.552808680522...|[0.82065744603628...|       0.0|\n",
      "|[5.4,3.4,1.5,0.4]|  0.0|[-13.022049655615...|[0.67588477459981...|       0.0|\n",
      "|[5.4,3.4,1.7,0.2]|  0.0|[-12.683034496096...|[0.70196488979806...|       0.0|\n",
      "+-----------------+-----+--------------------+--------------------+----------+\n",
      "only showing top 20 rows\n",
      "\n"
     ]
    }
   ],
   "source": [
    "iris_traine, iris_test = iris_transf.randomSplit([0.7, 0.3])\n",
    "nb = NaiveBayes(labelCol=\"label\", featuresCol=\"features\")\n",
    "model = nb.fit(iris_traine)\n",
    "prev = model.transform(iris_test)\n",
    "prev.show()"
   ]
  },
  {
   "cell_type": "code",
   "execution_count": 6,
   "metadata": {},
   "outputs": [
    {
     "name": "stdout",
     "output_type": "stream",
     "text": [
      "0.6226415094339622\n"
     ]
    }
   ],
   "source": [
    "aval = MulticlassClassificationEvaluator(\n",
    "    predictionCol=\"prediction\", labelCol=\"label\", metricName=\"accuracy\"\n",
    ")\n",
    "\n",
    "result = aval.evaluate(prev)\n",
    "print(result)"
   ]
  }
 ],
 "metadata": {
  "kernelspec": {
   "display_name": "Python 3",
   "language": "python",
   "name": "python3"
  },
  "language_info": {
   "codemirror_mode": {
    "name": "ipython",
    "version": 3
   },
   "file_extension": ".py",
   "mimetype": "text/x-python",
   "name": "python",
   "nbconvert_exporter": "python",
   "pygments_lexer": "ipython3",
   "version": "3.10.12"
  }
 },
 "nbformat": 4,
 "nbformat_minor": 2
}
