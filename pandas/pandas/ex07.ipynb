{
 "cells": [
  {
   "attachments": {},
   "cell_type": "markdown",
   "metadata": {},
   "source": [
    "# PO7: Operações aritméticas com computação vetorizada"
   ]
  },
  {
   "cell_type": "code",
   "execution_count": 4,
   "metadata": {},
   "outputs": [
    {
     "name": "stdout",
     "output_type": "stream",
     "text": [
      "S1: \n",
      "0    2\n",
      "1    4\n",
      "2    6\n",
      "dtype: int64\n",
      "S2: \n",
      "0    1\n",
      "1    3\n",
      "2    5\n",
      "dtype: int64\n",
      "----------\n",
      "S1 * 2\n",
      "0     4\n",
      "1     8\n",
      "2    12\n",
      "dtype: int64\n",
      "----------\n",
      "S1 + S2\n",
      "0     3\n",
      "1     7\n",
      "2    11\n",
      "dtype: int64\n",
      "----------\n",
      "Raiz quadrada dos elementos de s1\n",
      "0    1.414214\n",
      "1    2.000000\n",
      "2    2.449490\n",
      "dtype: float64\n"
     ]
    }
   ],
   "source": [
    "import pandas as pd\n",
    "import numpy as np\n",
    "\n",
    "s1 = pd.Series([2, 4, 6])\n",
    "s2 = pd.Series([1, 3, 5])\n",
    "\n",
    "print(f\"S1: \\n{s1}\\nS2: \\n{s2}\")\n",
    "print(\"-\"*10)\n",
    "print(f\"S1 * 2\\n{s1 * 2}\")\n",
    "print(\"-\"*10)\n",
    "print(f\"S1 + S2\\n{s1 + s2}\")\n",
    "print(\"-\"*10)\n",
    "print(f\"Raiz quadrada dos elementos de s1\\n{np.sqrt(s1)}\")\n"
   ]
  }
 ],
 "metadata": {
  "kernelspec": {
   "display_name": "Python 3",
   "language": "python",
   "name": "python3"
  },
  "language_info": {
   "codemirror_mode": {
    "name": "ipython",
    "version": 3
   },
   "file_extension": ".py",
   "mimetype": "text/x-python",
   "name": "python",
   "nbconvert_exporter": "python",
   "pygments_lexer": "ipython3",
   "version": "3.10.8"
  },
  "orig_nbformat": 4,
  "vscode": {
   "interpreter": {
    "hash": "e7370f93d1d0cde622a1f8e1c04877d8463912d04d973331ad4851f04de6915a"
   }
  }
 },
 "nbformat": 4,
 "nbformat_minor": 2
}
