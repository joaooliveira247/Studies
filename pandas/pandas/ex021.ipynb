{
 "cells": [
  {
   "attachments": {},
   "cell_type": "markdown",
   "metadata": {},
   "source": [
    "# P21: Quais os países que também têm verde, amarelo, azul e branco entre as cores de sua bandeira nacional?"
   ]
  },
  {
   "cell_type": "code",
   "execution_count": 6,
   "metadata": {},
   "outputs": [
    {
     "name": "stdout",
     "output_type": "stream",
     "text": [
      "----------\n",
      "----------\n",
      "Países com verde, amarelo, azul e branco: \n",
      "17                       Belize\n",
      "19                      Bermuda\n",
      "23                       Brazil\n",
      "24         British-Virgin-Isles\n",
      "26                     Bulgaria\n",
      "33               Cayman-Islands\n",
      "34     Central-African-Republic\n",
      "48                     Dominica\n",
      "56           Falklands-Malvinas\n",
      "57                         Fiji\n",
      "71                         Guam\n",
      "78                    Hong-Kong\n",
      "116                  Montserrat\n",
      "135                     Parguay\n",
      "139                    Portugal\n",
      "142                     Romania\n",
      "151             Soloman-Islands\n",
      "158                   St-Helena\n",
      "161                  St-Vincent\n",
      "176         Turks-Cocos-Islands\n",
      "182             US-Virgin-Isles\n",
      "187                   Venezuela\n",
      "Name: name, dtype: object\n"
     ]
    }
   ],
   "source": [
    "import pandas as pd\n",
    "\n",
    "flags = pd.read_csv(\"./csv/flags.csv\")\n",
    "\n",
    "# print(f\"head():\\n{flags.head(n=5)}\")\n",
    "print(\"-\"*10)\n",
    "\n",
    "# print(f\"tail():\\n{flags.tail(n=5)}\")\n",
    "print(\"-\"*10)\n",
    "\n",
    "sum = flags[\"green\"] + flags[\"gold\"] + flags[\"blue\"] + flags[\"white\"]\n",
    "\n",
    "has_all = (sum == 4)\n",
    "\n",
    "print(\n",
    "    f\"Países com verde, amarelo, azul e branco: \\n\"\n",
    "    f\"{flags[has_all.values]['name']}\"\n",
    "    )"
   ]
  }
 ],
 "metadata": {
  "kernelspec": {
   "display_name": "Python 3",
   "language": "python",
   "name": "python3"
  },
  "language_info": {
   "codemirror_mode": {
    "name": "ipython",
    "version": 3
   },
   "file_extension": ".py",
   "mimetype": "text/x-python",
   "name": "python",
   "nbconvert_exporter": "python",
   "pygments_lexer": "ipython3",
   "version": "3.10.8 (main, Oct 19 2022, 08:03:53) [GCC 10.2.1 20210110]"
  },
  "orig_nbformat": 4,
  "vscode": {
   "interpreter": {
    "hash": "e7370f93d1d0cde622a1f8e1c04877d8463912d04d973331ad4851f04de6915a"
   }
  }
 },
 "nbformat": 4,
 "nbformat_minor": 2
}
