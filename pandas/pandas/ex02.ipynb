{
 "cells": [
  {
   "attachments": {},
   "cell_type": "markdown",
   "metadata": {},
   "source": [
    "# PO2: Propriedade básicas das Series"
   ]
  },
  {
   "cell_type": "code",
   "execution_count": 1,
   "metadata": {},
   "outputs": [
    {
     "name": "stdout",
     "output_type": "stream",
     "text": [
      "matriculas\n",
      "M02      Bob\n",
      "M05    Dayse\n",
      "M13     Bill\n",
      "M14     Cris\n",
      "M19     Jime\n",
      "Name: alunos, dtype: object\n",
      "--------------------\n",
      "Números de elementos: 5\n",
      "Vetor de dados: ['Bob' 'Dayse' 'Bill' 'Cris' 'Jime']\n",
      "Vetor de rotulos: Index(['M02', 'M05', 'M13', 'M14', 'M19'], dtype='object', name='matriculas')\n",
      "tipo (type): <class 'pandas.core.series.Series'>\n",
      "dtype da Series: object\n",
      "dtype do vetor de rótulos: object\n"
     ]
    }
   ],
   "source": [
    "import pandas as pd\n",
    "\n",
    "alunos = pd.Series(\n",
    "    {\n",
    "        \"M02\": \"Bob\", \"M05\": \"Dayse\", \"M13\": \"Bill\", \"M14\": \"Cris\", \"M19\": \"Jime\"\n",
    "        }\n",
    ")\n",
    "\n",
    "alunos.name = \"alunos\"\n",
    "alunos.index.name = \"matriculas\"\n",
    "\n",
    "print(alunos)\n",
    "print(\"-\"*20)\n",
    "tamanho = alunos.size\n",
    "dados = alunos.values\n",
    "rotulos = alunos.index\n",
    "alunos_tipo = type(alunos)\n",
    "alunos_dtype = alunos.dtype\n",
    "alunos_idx_dtype = alunos.index.dtype\n",
    "\n",
    "print(\n",
    "    f\"Números de elementos: {tamanho}\\nVetor de dados: {dados}\\n\"\n",
    "    f\"Vetor de rotulos: {rotulos}\\ntipo (type): {alunos_tipo}\\n\"\n",
    "    f\"dtype da Series: {alunos_dtype}\\ndtype do vetor de rótulos: \"\n",
    "    f\"{alunos_idx_dtype}\"\n",
    ")\n"
   ]
  }
 ],
 "metadata": {
  "kernelspec": {
   "display_name": "Python 3",
   "language": "python",
   "name": "python3"
  },
  "language_info": {
   "codemirror_mode": {
    "name": "ipython",
    "version": 3
   },
   "file_extension": ".py",
   "mimetype": "text/x-python",
   "name": "python",
   "nbconvert_exporter": "python",
   "pygments_lexer": "ipython3",
   "version": "3.10.8 (main, Oct 19 2022, 08:03:53) [GCC 10.2.1 20210110]"
  },
  "orig_nbformat": 4,
  "vscode": {
   "interpreter": {
    "hash": "e7370f93d1d0cde622a1f8e1c04877d8463912d04d973331ad4851f04de6915a"
   }
  }
 },
 "nbformat": 4,
 "nbformat_minor": 2
}
