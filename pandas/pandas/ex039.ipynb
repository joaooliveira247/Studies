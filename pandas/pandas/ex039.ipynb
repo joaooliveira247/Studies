{
 "cells": [
  {
   "attachments": {},
   "cell_type": "markdown",
   "metadata": {},
   "source": [
    "# P39: Concatenação de DataFrames"
   ]
  },
  {
   "cell_type": "code",
   "execution_count": 1,
   "metadata": {},
   "outputs": [
    {
     "name": "stdout",
     "output_type": "stream",
     "text": [
      "  loja  dia  valor\n",
      "0    A  sex   7500\n",
      "1    A  sab   9500\n",
      "2    A  dom   8200\n",
      "3    B  sex   5100\n",
      "4    B  sab   8250\n",
      "5    B  dom   9900\n",
      "6    B  sex   5100\n",
      "7    B  sab   8250\n",
      "8    B  dom   9900\n"
     ]
    }
   ],
   "source": [
    "import pandas as pd\n",
    "\n",
    "lojaA = pd.DataFrame(\n",
    "    {\n",
    "        \"loja\": [\"A\", \"A\", \"A\"],\n",
    "        \"dia\": [\"sex\", \"sab\", \"dom\"],\n",
    "        \"valor\": [7500, 9500, 8200],\n",
    "    }\n",
    ")\n",
    "lojaB = pd.DataFrame(\n",
    "    {\n",
    "        \"loja\": [\"B\", \"B\", \"B\"],\n",
    "        \"dia\": [\"sex\", \"sab\", \"dom\"],\n",
    "        \"valor\": [5100, 8250, 9900],\n",
    "    }\n",
    ")\n",
    "lojaC = pd.DataFrame(\n",
    "    {\"loja\": [\"C\", \"C\"], \"dia\": [\"sab\", \"dom\"], \"valor\": [7500, 11800]}\n",
    ")\n",
    "\n",
    "lojaABC = pd.concat([lojaA, lojaB, lojaB], ignore_index=True)\n",
    "\n",
    "print(lojaABC)"
   ]
  }
 ],
 "metadata": {
  "kernelspec": {
   "display_name": "Python 3",
   "language": "python",
   "name": "python3"
  },
  "language_info": {
   "codemirror_mode": {
    "name": "ipython",
    "version": 3
   },
   "file_extension": ".py",
   "mimetype": "text/x-python",
   "name": "python",
   "nbconvert_exporter": "python",
   "pygments_lexer": "ipython3",
   "version": "3.10.8"
  },
  "orig_nbformat": 4,
  "vscode": {
   "interpreter": {
    "hash": "e7370f93d1d0cde622a1f8e1c04877d8463912d04d973331ad4851f04de6915a"
   }
  }
 },
 "nbformat": 4,
 "nbformat_minor": 2
}
