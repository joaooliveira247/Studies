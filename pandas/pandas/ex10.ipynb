{
 "cells": [
  {
   "attachments": {},
   "cell_type": "markdown",
   "metadata": {},
   "source": [
    "# P10: Índexação hierárquica"
   ]
  },
  {
   "cell_type": "code",
   "execution_count": 1,
   "metadata": {},
   "outputs": [
    {
     "name": "stdout",
     "output_type": "stream",
     "text": [
      "América  AR     Peso\n",
      "         BR     Real\n",
      "Europa   FR     Euro\n",
      "         IT     Euro\n",
      "         UK    Libra\n",
      "dtype: object\n",
      "----------\n",
      "AR    Peso\n",
      "BR    Real\n",
      "dtype: object\n",
      "----------\n",
      "Europa    Euro\n",
      "dtype: object\n",
      "----------\n",
      "Euro\n"
     ]
    }
   ],
   "source": [
    "import pandas as pd\n",
    "\n",
    "moedas = [\"Peso\", \"Real\", \"Euro\", \"Euro\", \"Libra\"]\n",
    "paises = [\n",
    "    ['América','América','Europa','Europa','Europa'],\n",
    "    ['AR','BR','FR','IT','UK']\n",
    "]\n",
    "\n",
    "paises = pd.Series(moedas, index=paises)\n",
    "\n",
    "print(paises)\n",
    "print(\"-\"*10)\n",
    "print(paises[\"América\"])\n",
    "print(\"-\"*10)\n",
    "print(paises[:, \"IT\"])\n",
    "print(\"-\"*10)\n",
    "print(paises[\"Europa\", \"IT\"])\n"
   ]
  }
 ],
 "metadata": {
  "kernelspec": {
   "display_name": "Python 3",
   "language": "python",
   "name": "python3"
  },
  "language_info": {
   "codemirror_mode": {
    "name": "ipython",
    "version": 3
   },
   "file_extension": ".py",
   "mimetype": "text/x-python",
   "name": "python",
   "nbconvert_exporter": "python",
   "pygments_lexer": "ipython3",
   "version": "3.10.8 (main, Oct 19 2022, 08:03:53) [GCC 10.2.1 20210110]"
  },
  "orig_nbformat": 4,
  "vscode": {
   "interpreter": {
    "hash": "e7370f93d1d0cde622a1f8e1c04877d8463912d04d973331ad4851f04de6915a"
   }
  }
 },
 "nbformat": 4,
 "nbformat_minor": 2
}
