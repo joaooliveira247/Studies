{
 "cells": [
  {
   "attachments": {},
   "cell_type": "markdown",
   "metadata": {},
   "source": [
    "# P09: Índices datetime aka Série Temporal"
   ]
  },
  {
   "cell_type": "code",
   "execution_count": 1,
   "metadata": {},
   "outputs": [
    {
     "name": "stdout",
     "output_type": "stream",
     "text": [
      "2019-02-10    31\n",
      "2019-02-11    35\n",
      "2019-02-12    34\n",
      "2019-02-13    28\n",
      "2019-02-14    27\n",
      "2019-02-15    27\n",
      "dtype: int64\n"
     ]
    }
   ],
   "source": [
    "import pandas as pd\n",
    "\n",
    "dias = [\n",
    "    '10/02/2019', '11/02/2019', '12/02/2019', '13/02/2019', '14/02/2019',\n",
    "    '15/02/2019'\n",
    "]\n",
    "\n",
    "temp_max = [31, 35, 34, 28, 27, 27]\n",
    "serie_temporal = pd.Series(\n",
    "    temp_max, index=dias\n",
    ")\n",
    "serie_temporal.index = pd.to_datetime(serie_temporal.index, format=\"%d/%m/%Y\")\n",
    "\n",
    "print(serie_temporal)"
   ]
  }
 ],
 "metadata": {
  "kernelspec": {
   "display_name": "Python 3",
   "language": "python",
   "name": "python3"
  },
  "language_info": {
   "codemirror_mode": {
    "name": "ipython",
    "version": 3
   },
   "file_extension": ".py",
   "mimetype": "text/x-python",
   "name": "python",
   "nbconvert_exporter": "python",
   "pygments_lexer": "ipython3",
   "version": "3.10.8"
  },
  "orig_nbformat": 4,
  "vscode": {
   "interpreter": {
    "hash": "e7370f93d1d0cde622a1f8e1c04877d8463912d04d973331ad4851f04de6915a"
   }
  }
 },
 "nbformat": 4,
 "nbformat_minor": 2
}
