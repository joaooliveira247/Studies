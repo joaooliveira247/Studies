{
 "cells": [
  {
   "attachments": {},
   "cell_type": "markdown",
   "metadata": {},
   "source": [
    "# P16: Imporrtação de CSV sem cabeçalho e com ';' como separador,"
   ]
  },
  {
   "cell_type": "code",
   "execution_count": 1,
   "metadata": {},
   "outputs": [
    {
     "name": "stdout",
     "output_type": "stream",
     "text": [
      "  matricula  nota 1  nota 2\n",
      "0  M0012017     9.8     9.5\n",
      "1  M0022017     5.3     4.1\n",
      "2  M0032017     2.5     8.0\n",
      "3  M0042017     7.5     7.5\n"
     ]
    }
   ],
   "source": [
    "import pandas as pd\n",
    "\n",
    "notas = pd.read_csv(\n",
    "    \"./csv/notas.csv\", sep=\";\", names=[\"matricula\", \"nota 1\", \"nota 2\"]\n",
    ")\n",
    "\n",
    "print(notas)"
   ]
  }
 ],
 "metadata": {
  "kernelspec": {
   "display_name": "Python 3",
   "language": "python",
   "name": "python3"
  },
  "language_info": {
   "codemirror_mode": {
    "name": "ipython",
    "version": 3
   },
   "file_extension": ".py",
   "mimetype": "text/x-python",
   "name": "python",
   "nbconvert_exporter": "python",
   "pygments_lexer": "ipython3",
   "version": "3.10.8"
  },
  "orig_nbformat": 4,
  "vscode": {
   "interpreter": {
    "hash": "e7370f93d1d0cde622a1f8e1c04877d8463912d04d973331ad4851f04de6915a"
   }
  }
 },
 "nbformat": 4,
 "nbformat_minor": 2
}
