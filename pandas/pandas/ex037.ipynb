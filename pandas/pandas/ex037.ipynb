{
 "cells": [
  {
   "attachments": {},
   "cell_type": "markdown",
   "metadata": {},
   "source": [
    "# II. Cores e suas frequências nas bandeiras"
   ]
  },
  {
   "cell_type": "code",
   "execution_count": 1,
   "metadata": {},
   "outputs": [
    {
     "name": "stdout",
     "output_type": "stream",
     "text": [
      "   red  green  blue  gold  white  black  orange\n",
      "1  153     91    99    91    146     52      26\n",
      "0   41    103    95   103     48    142     168\n"
     ]
    }
   ],
   "source": [
    "import pandas as pd\n",
    "\n",
    "flags = pd.read_csv(\"./csv/flags.csv\")\n",
    "\n",
    "df_cores = pd.DataFrame()\n",
    "\n",
    "for c in flags.columns:\n",
    "    if c in ['red','green','blue','gold','white','black','orange']:\n",
    "        df_cores[c]=flags[c].value_counts()\n",
    "\n",
    "print(df_cores)"
   ]
  }
 ],
 "metadata": {
  "kernelspec": {
   "display_name": "Python 3",
   "language": "python",
   "name": "python3"
  },
  "language_info": {
   "codemirror_mode": {
    "name": "ipython",
    "version": 3
   },
   "file_extension": ".py",
   "mimetype": "text/x-python",
   "name": "python",
   "nbconvert_exporter": "python",
   "pygments_lexer": "ipython3",
   "version": "3.10.8"
  },
  "orig_nbformat": 4,
  "vscode": {
   "interpreter": {
    "hash": "e7370f93d1d0cde622a1f8e1c04877d8463912d04d973331ad4851f04de6915a"
   }
  }
 },
 "nbformat": 4,
 "nbformat_minor": 2
}
