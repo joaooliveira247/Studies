{
 "cells": [
  {
   "attachments": {},
   "cell_type": "markdown",
   "metadata": {},
   "source": [
    "# P17: Importação de arquivo com série temporal"
   ]
  },
  {
   "cell_type": "code",
   "execution_count": 3,
   "metadata": {},
   "outputs": [
    {
     "name": "stdout",
     "output_type": "stream",
     "text": [
      "            gols\n",
      "dia             \n",
      "2019-06-05     1\n",
      "2019-06-09     0\n",
      "2019-06-16     5\n",
      "2019-06-19     2\n",
      "2019-06-23     1\n",
      "2019-06-27     3\n",
      "2019-06-30     0\n"
     ]
    }
   ],
   "source": [
    "import pandas as pd\n",
    "from pandas import DataFrame\n",
    "\n",
    "serie_gol: DataFrame = pd.read_csv(\"./csv/gols.txt\", sep=\" \", index_col=0)\n",
    "# squeeze are deprecated see more in documentation.\n",
    "\n",
    "serie_gol.index = pd.to_datetime(serie_gol.index, format=\"%d/%m/%Y\")\n",
    "\n",
    "print(serie_gol)"
   ]
  }
 ],
 "metadata": {
  "kernelspec": {
   "display_name": "Python 3",
   "language": "python",
   "name": "python3"
  },
  "language_info": {
   "codemirror_mode": {
    "name": "ipython",
    "version": 3
   },
   "file_extension": ".py",
   "mimetype": "text/x-python",
   "name": "python",
   "nbconvert_exporter": "python",
   "pygments_lexer": "ipython3",
   "version": "3.10.8"
  },
  "orig_nbformat": 4,
  "vscode": {
   "interpreter": {
    "hash": "e7370f93d1d0cde622a1f8e1c04877d8463912d04d973331ad4851f04de6915a"
   }
  }
 },
 "nbformat": 4,
 "nbformat_minor": 2
}
