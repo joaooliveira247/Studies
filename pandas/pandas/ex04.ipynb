{
 "cells": [
  {
   "attachments": {},
   "cell_type": "markdown",
   "metadata": {},
   "source": [
    "# PO4: Busca em Series"
   ]
  },
  {
   "cell_type": "code",
   "execution_count": 4,
   "metadata": {},
   "outputs": [
    {
     "name": "stdout",
     "output_type": "stream",
     "text": [
      "Existe o rótulo 'M13' ? -> True\n",
      "Existe o rotulo 'M99' ? -> False\n"
     ]
    }
   ],
   "source": [
    "import pandas as pd\n",
    "\n",
    "alunos = pd.Series(\n",
    "    {\n",
    "    \"M02\": \"Bob\", \"M05\": \"Dayse\", \"M13\": \"Bill\", \"M14\": \"Cris\", \"M19\": \"Jime\"\n",
    "    }\n",
    ")\n",
    "\n",
    "tem_m13 = \"M13\" in alunos\n",
    "tem_m99 = \"M99\" in alunos\n",
    "\n",
    "print(\n",
    "    f\"Existe o rótulo 'M13' ? -> {tem_m13}\\nExiste o rotulo 'M99' ? -> \"\n",
    "    f\"{tem_m99}\"\n",
    ")"
   ]
  },
  {
   "attachments": {},
   "cell_type": "markdown",
   "metadata": {},
   "source": [
    "- Search em uma Series"
   ]
  },
  {
   "cell_type": "code",
   "execution_count": 5,
   "metadata": {},
   "outputs": [
    {
     "name": "stdout",
     "output_type": "stream",
     "text": [
      "--------------------\n",
      "Existe Bob ? -> M02     True\n",
      "M05    False\n",
      "M13    False\n",
      "M14    False\n",
      "M19    False\n",
      "dtype: bool\n"
     ]
    }
   ],
   "source": [
    "print(\"-\"*20)\n",
    "tem_bob = alunos.isin([\"Bob\"])\n",
    "print(f\"Existe Bob ? -> {tem_bob}\")"
   ]
  }
 ],
 "metadata": {
  "kernelspec": {
   "display_name": "Python 3",
   "language": "python",
   "name": "python3"
  },
  "language_info": {
   "codemirror_mode": {
    "name": "ipython",
    "version": 3
   },
   "file_extension": ".py",
   "mimetype": "text/x-python",
   "name": "python",
   "nbconvert_exporter": "python",
   "pygments_lexer": "ipython3",
   "version": "3.10.8"
  },
  "orig_nbformat": 4,
  "vscode": {
   "interpreter": {
    "hash": "e7370f93d1d0cde622a1f8e1c04877d8463912d04d973331ad4851f04de6915a"
   }
  }
 },
 "nbformat": 4,
 "nbformat_minor": 2
}
