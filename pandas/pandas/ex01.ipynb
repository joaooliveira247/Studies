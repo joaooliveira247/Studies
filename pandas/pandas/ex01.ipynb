{
 "cells": [
  {
   "attachments": {},
   "cell_type": "markdown",
   "metadata": {},
   "source": [
    "# PO1: Hello Series"
   ]
  },
  {
   "cell_type": "code",
   "execution_count": 1,
   "metadata": {},
   "outputs": [
    {
     "name": "stdout",
     "output_type": "stream",
     "text": [
      "0    7.6\n",
      "1    5.0\n",
      "2    8.5\n",
      "3    9.5\n",
      "4    6.4\n",
      "dtype: float64\n",
      "--------------------\n",
      "M02      Bob\n",
      "M05    Dayse\n",
      "M13     Bill\n",
      "M14     Cris\n",
      "M19     Jimi\n",
      "dtype: object\n"
     ]
    }
   ],
   "source": [
    "import pandas as pd\n",
    "\n",
    "notas = pd.Series(\n",
    "    [7.6, 5.0, 8.5, 9.5, 6.4]\n",
    ")\n",
    "\n",
    "lista_matriculas = [\"M02\", \"M05\", \"M13\", \"M14\", \"M19\"]\n",
    "\n",
    "lista_nomes = [\"Bob\", \"Dayse\", \"Bill\", \"Cris\", \"Jimi\"]\n",
    "\n",
    "alunos = pd.Series(\n",
    "    lista_nomes, index=lista_matriculas\n",
    ")\n",
    "\n",
    "print(notas)\n",
    "print(\"-\"*20)\n",
    "print(alunos)"
   ]
  },
  {
   "attachments": {},
   "cell_type": "markdown",
   "metadata": {},
   "source": [
    "- Criando Series com dicionarios\n"
   ]
  },
  {
   "cell_type": "code",
   "execution_count": 2,
   "metadata": {},
   "outputs": [
    {
     "name": "stdout",
     "output_type": "stream",
     "text": [
      "M02      Bob\n",
      "M05    Dayse\n",
      "M13     Bill\n",
      "M14     Cris\n",
      "M19     Jime\n",
      "dtype: object\n"
     ]
    }
   ],
   "source": [
    "import pandas as pd\n",
    "\n",
    "dic_alunos = {\n",
    "    \"M02\": \"Bob\", \"M05\": \"Dayse\", \"M13\": \"Bill\", \"M14\": \"Cris\", \"M19\": \"Jime\"\n",
    "}\n",
    "\n",
    "alunos = pd.Series(\n",
    "    dic_alunos\n",
    ")\n",
    "\n",
    "print(alunos)\n"
   ]
  }
 ],
 "metadata": {
  "kernelspec": {
   "display_name": "Python 3",
   "language": "python",
   "name": "python3"
  },
  "language_info": {
   "codemirror_mode": {
    "name": "ipython",
    "version": 3
   },
   "file_extension": ".py",
   "mimetype": "text/x-python",
   "name": "python",
   "nbconvert_exporter": "python",
   "pygments_lexer": "ipython3",
   "version": "3.10.8 (main, Oct 19 2022, 08:03:53) [GCC 10.2.1 20210110]"
  },
  "orig_nbformat": 4,
  "vscode": {
   "interpreter": {
    "hash": "e7370f93d1d0cde622a1f8e1c04877d8463912d04d973331ad4851f04de6915a"
   }
  }
 },
 "nbformat": 4,
 "nbformat_minor": 2
}
