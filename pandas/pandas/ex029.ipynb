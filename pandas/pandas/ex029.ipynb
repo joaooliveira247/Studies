{
 "cells": [
  {
   "attachments": {},
   "cell_type": "markdown",
   "metadata": {},
   "source": [
    "# P29: Agregação com o método 'group_by'"
   ]
  },
  {
   "cell_type": "code",
   "execution_count": 2,
   "metadata": {},
   "outputs": [
    {
     "name": "stdout",
     "output_type": "stream",
     "text": [
      "<pandas.core.groupby.generic.SeriesGroupBy object at 0x7f953b02ad10>\n",
      "Quantidadee de clientes, por bairro:\n",
      "--------------------------\n",
      "bairro\n",
      "Anchieta    1\n",
      "Belverde    2\n",
      "Savassi     2\n",
      "Name: valor, dtype: int64Valor total das vendas, por bairro:\n",
      "--------------------------\n",
      "bairro\n",
      "Anchieta    250.0\n",
      "Belverde    185.0\n",
      "Savassi     105.0\n",
      "Name: valor, dtype: float64\n",
      "--------------------------\n",
      "Valor médio das vendas, por bairro:\n",
      "bairro\n",
      "Anchieta    250.0\n",
      "Belverde     92.5\n",
      "Savassi      52.5\n",
      "Name: valor, dtype: float64\n"
     ]
    }
   ],
   "source": [
    "import pandas as pd\n",
    "\n",
    "dados = {\n",
    "    \"sexo\": [\"F\", \"M\", \"F\", \"F\", \"F\", \"M\"],\n",
    "    \"bairro\": [\"Belverde\", \"Belverde\", \"Savassi\", \"Anchieta\", None, \"Savassi\"],\n",
    "    \"valor\": [150.00, 35.00, 80.00, 250.00, 9.90, 25.00],\n",
    "    \"cartao\": [\"Master\", \"Visa\", \"Visa\", \"Amex\", \"Elo\", \"Master\"],\n",
    "}\n",
    "\n",
    "id_clientes = [1 , 2, 3, 4, 5, 6]\n",
    "\n",
    "vendas = pd.DataFrame(dados, index=id_clientes)\n",
    "vendas.index.name = \"Client ID\"\n",
    "\n",
    "# Gera uma variavel 'grouped' onde a cahve é bairro e a medida 'valor'\n",
    "grupo_valor_bairro = vendas['valor'].groupby(vendas['bairro'])\n",
    "\n",
    "\n",
    "print(\n",
    "    f\"Quantidadee de clientes, por bairro:\\n{'-'*26}\\n{grupo_valor_bairro.count()}\"\n",
    "    f\"Valor total das vendas, por bairro:\\n{'-'*26}\\n{grupo_valor_bairro.sum()}\"\n",
    "    f\"\\n{'-'*26}\\nValor médio das vendas, por bairro:\\n{grupo_valor_bairro.mean()}\"\n",
    ")"
   ]
  }
 ],
 "metadata": {
  "kernelspec": {
   "display_name": "Python 3",
   "language": "python",
   "name": "python3"
  },
  "language_info": {
   "codemirror_mode": {
    "name": "ipython",
    "version": 3
   },
   "file_extension": ".py",
   "mimetype": "text/x-python",
   "name": "python",
   "nbconvert_exporter": "python",
   "pygments_lexer": "ipython3",
   "version": "3.10.8 (main, Oct 19 2022, 08:03:53) [GCC 10.2.1 20210110]"
  },
  "orig_nbformat": 4,
  "vscode": {
   "interpreter": {
    "hash": "e7370f93d1d0cde622a1f8e1c04877d8463912d04d973331ad4851f04de6915a"
   }
  }
 },
 "nbformat": 4,
 "nbformat_minor": 2
}
