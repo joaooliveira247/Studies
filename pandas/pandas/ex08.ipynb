{
 "cells": [
  {
   "attachments": {},
   "cell_type": "markdown",
   "metadata": {},
   "source": [
    "# PO8: O valor NaN"
   ]
  },
  {
   "cell_type": "code",
   "execution_count": 1,
   "metadata": {},
   "outputs": [
    {
     "name": "stdout",
     "output_type": "stream",
     "text": [
      "Soma:\n",
      "AR    NaN\n",
      "BR    2.0\n",
      "FR    1.0\n",
      "IT    1.0\n",
      "UK    1.0\n",
      "dtype: float64\n",
      "----------\n",
      "isnull(soma): \n",
      "AR     True\n",
      "BR    False\n",
      "FR    False\n",
      "IT    False\n",
      "UK    False\n",
      "dtype: bool\n"
     ]
    }
   ],
   "source": [
    "import pandas as pd\n",
    "\n",
    "verde = pd.Series(\n",
    "    {'BR':1, 'FR': 0, 'IT':1, 'UK': 0}\n",
    ")\n",
    "\n",
    "azul = pd.Series(\n",
    "    {'AR':1, 'BR':1, 'FR': 1, 'IT':0, 'UK': 1}\n",
    ")\n",
    "\n",
    "print(f\"Soma:\\n{verde + azul}\")\n",
    "print(\"-\"*10)\n",
    "print(f\"isnull(soma): \\n{pd.isnull(verde + azul)}\")\n"
   ]
  }
 ],
 "metadata": {
  "kernelspec": {
   "display_name": "Python 3",
   "language": "python",
   "name": "python3"
  },
  "language_info": {
   "codemirror_mode": {
    "name": "ipython",
    "version": 3
   },
   "file_extension": ".py",
   "mimetype": "text/x-python",
   "name": "python",
   "nbconvert_exporter": "python",
   "pygments_lexer": "ipython3",
   "version": "3.10.8"
  },
  "orig_nbformat": 4,
  "vscode": {
   "interpreter": {
    "hash": "e7370f93d1d0cde622a1f8e1c04877d8463912d04d973331ad4851f04de6915a"
   }
  }
 },
 "nbformat": 4,
 "nbformat_minor": 2
}
