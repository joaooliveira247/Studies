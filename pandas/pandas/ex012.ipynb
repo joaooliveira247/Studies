{
 "cells": [
  {
   "attachments": {},
   "cell_type": "markdown",
   "metadata": {},
   "source": [
    "# P12: Propriedade básicas dos DataFrames"
   ]
  },
  {
   "cell_type": "code",
   "execution_count": 1,
   "metadata": {},
   "outputs": [
    {
     "name": "stdout",
     "output_type": "stream",
     "text": [
      "----------\n",
      "número de linhas: 5\n",
      "número de coluna: 4\n",
      "indices: Index(['AR', 'BR', 'FR', 'IT', 'UK'], dtype='object')\n",
      "colunas: Index(['nome', 'continente', 'extensao', 'corVerde'], dtype='object')\n",
      "type: <class 'pandas.core.frame.DataFrame'>\n",
      "dtypes: nome          object\n",
      "continente    object\n",
      "extensao       int64\n",
      "corVerde       int64\n",
      "dtype: object\n",
      "index dtypes: object\n"
     ]
    }
   ],
   "source": [
    "import pandas as pd\n",
    "\n",
    "dados = {\n",
    "    \"nome\": [\n",
    "        \"Argentina\", \"Brasil\", \"França\", \"Itália\", \"Reino Unido\"\n",
    "        ],\n",
    "    \"continente\": [\n",
    "        \"América\", \"América\", \"Europa\", \"Europa\", \"Europa\"\n",
    "    ],\n",
    "    \"extensao\": [2780, 8511, 644, 301, 244],\n",
    "    \"corVerde\": [0, 1, 0, 1, 0]\n",
    "}\n",
    "\n",
    "siglas = [\"AR\", \"BR\", \"FR\", \"IT\", \"UK\"]\n",
    "\n",
    "paises = pd.DataFrame(dados, index=siglas)\n",
    "print(\"-\"*10)\n",
    "print(\n",
    "    f\"número de linhas: {paises.shape[0]}\\nnúmero de coluna: {paises.shape[1]}\"\n",
    "    f\"\\nindices: {paises.index}\\ncolunas: {paises.columns}\\ntype: \"\n",
    "    f\"{type(paises)}\\ndtypes: {paises.dtypes}\\nindex dtypes: {paises.index.dtype}\"\n",
    ")"
   ]
  }
 ],
 "metadata": {
  "kernelspec": {
   "display_name": "Python 3",
   "language": "python",
   "name": "python3"
  },
  "language_info": {
   "codemirror_mode": {
    "name": "ipython",
    "version": 3
   },
   "file_extension": ".py",
   "mimetype": "text/x-python",
   "name": "python",
   "nbconvert_exporter": "python",
   "pygments_lexer": "ipython3",
   "version": "3.10.8"
  },
  "orig_nbformat": 4,
  "vscode": {
   "interpreter": {
    "hash": "e7370f93d1d0cde622a1f8e1c04877d8463912d04d973331ad4851f04de6915a"
   }
  }
 },
 "nbformat": 4,
 "nbformat_minor": 2
}
