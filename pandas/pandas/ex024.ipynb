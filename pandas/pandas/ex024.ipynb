{
 "cells": [
  {
   "attachments": {},
   "cell_type": "markdown",
   "metadata": {},
   "source": [
    "# Estatísticas básicas: medidas de variabilidade\n",
    "\n",
    "Serão apresentadas três medidas deste tipo: amplitude, variância e desvio\n",
    "padrão.\n",
    "\n",
    "- Amplitude:\n",
    "\n",
    "    - É uma medida rápida da variabilidade. Ela consiste na diferença entre o mais alto e o mais baixo valor de um determinado conjunto de dados.\n",
    "\n",
    "- Desvio:\n",
    "\n",
    "    - consiste na distância de um valor arbitrário ao valor médio de um conjunto de dados.\n",
    "\n",
    "- Variância: \n",
    "\n",
    "    - é uma medida esperta, que não apenas leva esse fato em consideração, como faz isso utilizando todos os scores de desvio. Mais especificamente, ela realiza a soma dos quadrados dos desvios e divide o resultado por N-1, que corresponde ao número total de scores menos 1\n",
    "\n"
   ]
  },
  {
   "cell_type": "code",
   "execution_count": 2,
   "metadata": {},
   "outputs": [
    {
     "name": "stdout",
     "output_type": "stream",
     "text": [
      "Juiz A\n",
      "-------------\n",
      "Amplitude: 3\n",
      "Variancia: 1.476190476190476\n",
      "Desvio Padrão: 1.2149857925879117\n",
      "-------------\n",
      "Juiz B\n",
      "-------------\n",
      "Amplitude: 5\n",
      "Variancia: 4.476190476190476\n",
      "Desvio Padrão: 2.1157009420498154\n"
     ]
    }
   ],
   "source": [
    "import pandas as pd\n",
    "\n",
    "dados = {\n",
    "    \"jogador\": [\n",
    "        \"Marcelo\",\n",
    "        \"Pedro\",\n",
    "        \"Marcelo\",\n",
    "        \"Adriano\",\n",
    "        \"Mauro\",\n",
    "        \"Pedro\",\n",
    "        \"Marcelo\",\n",
    "    ],\n",
    "    \"infracao\": [\n",
    "        \"FALTA VIOLENTA\",\n",
    "        \"RECLAMACAO\",\n",
    "        \"FALTA COMUM\",\n",
    "        \"RECLAMACAO\",\n",
    "        \"FALTA COMUM\",\n",
    "        \"FALTA VIOLENTA\",\n",
    "        \"RECLAMACAO\",\n",
    "    ],\n",
    "    \"juiz_A\": [4, 1, 3, 2, 4, 4, 2],\n",
    "    \"juiz_B\": [2, 1, 4, 1, 1, 5, 6],\n",
    "}\n",
    "\n",
    "\n",
    "df = pd.DataFrame(dados)\n",
    "\n",
    "print(\n",
    "    f\"Juiz A\\n{'-'*13}\\nAmplitude: {df['juiz_A'].max() - df['juiz_A'].min()}\\n\"\n",
    "    f\"Variancia: {df['juiz_A'].var()}\\nDesvio Padrão: {df['juiz_A'].std()}\"\n",
    ")\n",
    "\n",
    "print(\"-\"*13)\n",
    "\n",
    "print(\n",
    "    f\"Juiz B\\n{'-'*13}\\nAmplitude: {df['juiz_B'].max() - df['juiz_B'].min()}\\n\"\n",
    "    f\"Variancia: {df['juiz_B'].var()}\\nDesvio Padrão: {df['juiz_B'].std()}\"\n",
    ")\n",
    "\n"
   ]
  }
 ],
 "metadata": {
  "kernelspec": {
   "display_name": "Python 3",
   "language": "python",
   "name": "python3"
  },
  "language_info": {
   "codemirror_mode": {
    "name": "ipython",
    "version": 3
   },
   "file_extension": ".py",
   "mimetype": "text/x-python",
   "name": "python",
   "nbconvert_exporter": "python",
   "pygments_lexer": "ipython3",
   "version": "3.10.8"
  },
  "orig_nbformat": 4,
  "vscode": {
   "interpreter": {
    "hash": "e7370f93d1d0cde622a1f8e1c04877d8463912d04d973331ad4851f04de6915a"
   }
  }
 },
 "nbformat": 4,
 "nbformat_minor": 2
}
