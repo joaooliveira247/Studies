{
 "cells": [
  {
   "attachments": {},
   "cell_type": "markdown",
   "metadata": {},
   "source": [
    "# PO3: Indexação booleana"
   ]
  },
  {
   "cell_type": "code",
   "execution_count": 1,
   "metadata": {},
   "outputs": [
    {
     "name": "stdout",
     "output_type": "stream",
     "text": [
      "Relação de alunos aprovados: \n",
      "-------------------------\n",
      "M02     Bob\n",
      "M13    Bill\n",
      "M14    Cris\n",
      "dtype: object\n"
     ]
    }
   ],
   "source": [
    "import pandas as pd\n",
    "\n",
    "notas = pd.Series(\n",
    "    [7.6, 5.0, 8.5, 9.5, 6.4]\n",
    ")\n",
    "alunos = pd.Series(\n",
    "    {\n",
    "    \"M02\": \"Bob\", \"M05\": \"Dayse\", \"M13\": \"Bill\", \"M14\": \"Cris\", \"M19\": \"Jime\"\n",
    "    }\n",
    ")\n",
    "\n",
    "idx_aprovados = notas[notas >= 7].index\n",
    "\n",
    "print(\n",
    "    f\"Relação de alunos aprovados: \\n-------------------------\\n\"\n",
    "    f\"{alunos[idx_aprovados]}\"\n",
    ")"
   ]
  }
 ],
 "metadata": {
  "kernelspec": {
   "display_name": "Python 3",
   "language": "python",
   "name": "python3"
  },
  "language_info": {
   "codemirror_mode": {
    "name": "ipython",
    "version": 3
   },
   "file_extension": ".py",
   "mimetype": "text/x-python",
   "name": "python",
   "nbconvert_exporter": "python",
   "pygments_lexer": "ipython3",
   "version": "3.10.8"
  },
  "orig_nbformat": 4,
  "vscode": {
   "interpreter": {
    "hash": "e7370f93d1d0cde622a1f8e1c04877d8463912d04d973331ad4851f04de6915a"
   }
  }
 },
 "nbformat": 4,
 "nbformat_minor": 2
}
