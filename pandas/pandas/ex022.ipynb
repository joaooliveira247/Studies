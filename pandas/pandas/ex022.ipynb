{
 "cells": [
  {
   "attachments": {},
   "cell_type": "markdown",
   "metadata": {},
   "source": [
    "# P22: Tipo de atributos"
   ]
  },
  {
   "cell_type": "code",
   "execution_count": 5,
   "metadata": {},
   "outputs": [
    {
     "name": "stdout",
     "output_type": "stream",
     "text": [
      "atributos e seus dtypes: \n",
      "-----------------------\n",
      "renda           float64\n",
      "empregos          int64\n",
      "sexo             object\n",
      "escolaridade     object\n",
      "dtype: object\n"
     ]
    }
   ],
   "source": [
    "import pandas as pd\n",
    "\n",
    "dados = {\n",
    "    \"renda\": [6.46, 1.50, 0.00, 2.57, 9.90, 6.22],\n",
    "    \"empregos\": [1, 1, 0, 1, 2, 3],\n",
    "    \"sexo\": [\"F\", \"M\", \"F\", \"M\", \"M\", \"F\"],\n",
    "    \"escolaridade\": [\"pós-graduação\", \"fundamental\", \"médio\", \"médio\",\n",
    "                        \"superior\",\"médio\"]\n",
    "        }\n",
    "\n",
    "pme = pd.DataFrame(dados)\n",
    "\n",
    "print(f\"atributos e seus dtypes: \\n{'-'*23}\\n{pme.dtypes}\")\n"
   ]
  }
 ],
 "metadata": {
  "kernelspec": {
   "display_name": "Python 3",
   "language": "python",
   "name": "python3"
  },
  "language_info": {
   "codemirror_mode": {
    "name": "ipython",
    "version": 3
   },
   "file_extension": ".py",
   "mimetype": "text/x-python",
   "name": "python",
   "nbconvert_exporter": "python",
   "pygments_lexer": "ipython3",
   "version": "3.10.8 (main, Oct 19 2022, 08:03:53) [GCC 10.2.1 20210110]"
  },
  "orig_nbformat": 4,
  "vscode": {
   "interpreter": {
    "hash": "e7370f93d1d0cde622a1f8e1c04877d8463912d04d973331ad4851f04de6915a"
   }
  }
 },
 "nbformat": 4,
 "nbformat_minor": 2
}
