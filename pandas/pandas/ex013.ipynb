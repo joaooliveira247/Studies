{
 "cells": [
  {
   "cell_type": "code",
   "execution_count": 5,
   "metadata": {},
   "outputs": [
    {
     "name": "stdout",
     "output_type": "stream",
     "text": [
      "has BR ? -> True\n",
      "has US ? -> False\n",
      "has green color ? -> True\n",
      "has blue ? -> False\n",
      "has Brazil ? -> AR    False\n",
      "BR     True\n",
      "FR    False\n",
      "IT    False\n",
      "UK    False\n",
      "Name: nome, dtype: bool\n"
     ]
    }
   ],
   "source": [
    "import pandas as pd\n",
    "\n",
    "dados = {\n",
    "    'nome': [\n",
    "        'Argentina', 'Brasil', 'França', 'Itália', 'Reino Unido'\n",
    "        ],\n",
    "    'continente': [\n",
    "        'América', 'América', 'Europa', 'Europa', 'Europa'\n",
    "        ],\n",
    "    'extensao': [2780, 8511, 644, 301, 244],\n",
    "    'corVerde': [0, 1, 0, 1, 0]\n",
    "}\n",
    "\n",
    "siglas = ['AR', 'BR', 'FR', 'IT', 'UK']\n",
    "\n",
    "paises = pd.DataFrame(dados, index=siglas)\n",
    "\n",
    "print(\n",
    "    f\"has BR ? -> {'BR' in paises.index}\\nhas US ? -> {'US' in paises.index}\\n\"\n",
    "    f\"has green color ? -> {'corVerde' in paises.columns}\\nhas blue ? -> \"\n",
    "    f\"{'corAzul' in paises.index}\\nhas Brazil ? -> {paises['nome'].isin(['Brasil'])}\"\n",
    "    )"
   ]
  },
  {
   "attachments": {},
   "cell_type": "markdown",
   "metadata": {},
   "source": [
    "# P13: Busca em DataFrames"
   ]
  }
 ],
 "metadata": {
  "kernelspec": {
   "display_name": "Python 3",
   "language": "python",
   "name": "python3"
  },
  "language_info": {
   "codemirror_mode": {
    "name": "ipython",
    "version": 3
   },
   "file_extension": ".py",
   "mimetype": "text/x-python",
   "name": "python",
   "nbconvert_exporter": "python",
   "pygments_lexer": "ipython3",
   "version": "3.10.8 (main, Oct 19 2022, 08:03:53) [GCC 10.2.1 20210110]"
  },
  "orig_nbformat": 4,
  "vscode": {
   "interpreter": {
    "hash": "e7370f93d1d0cde622a1f8e1c04877d8463912d04d973331ad4851f04de6915a"
   }
  }
 },
 "nbformat": 4,
 "nbformat_minor": 2
}
