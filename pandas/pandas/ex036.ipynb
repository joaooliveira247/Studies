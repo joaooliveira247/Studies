{
 "cells": [
  {
   "attachments": {},
   "cell_type": "markdown",
   "metadata": {},
   "source": [
    "# P36: Estudando a base de dados flags"
   ]
  },
  {
   "attachments": {},
   "cell_type": "markdown",
   "metadata": {},
   "source": [
    "## I - Propriedades básicas de cada atributo"
   ]
  },
  {
   "cell_type": "code",
   "execution_count": 3,
   "metadata": {},
   "outputs": [
    {
     "name": "stdout",
     "output_type": "stream",
     "text": [
      "0         Afghanistan\n",
      "1             Albania\n",
      "2             Algeria\n",
      "3      American-Samoa\n",
      "4             Andorra\n",
      "            ...      \n",
      "189     Western-Samoa\n",
      "190        Yugoslavia\n",
      "191             Zaire\n",
      "192            Zambia\n",
      "193          Zimbabwe\n",
      "Name: name, Length: 194, dtype: object\n"
     ]
    }
   ],
   "source": [
    "import pandas as pd\n",
    "\n",
    "\n",
    "flags = pd.read_csv(\"./csv/flags.csv\")\n",
    "\n",
    "i = 0\n",
    "\n",
    "for c in flags.columns:\n",
    "    i += 1\n",
    "    att = flags[c]\n",
    "    \n",
    "    att_dtype = att.dtype\n",
    "    att_tam_dom = att.unique().size\n",
    "    att_has_null = any(att.isnull())\n",
    "if att_tam_dom < 8:\n",
    "    print(\n",
    "        \"(\" + str(i) + \") atributo:\",\n",
    "        c,\n",
    "        \"\\t\",\n",
    "        \"dtype:\",\n",
    "        att_dtype,\n",
    "        \"\\t\",\n",
    "        \"nulos: \",\n",
    "        att_has_null,\n",
    "        \"\\n\",\n",
    "        \"domínio:\",\n",
    "        att.unique(),\n",
    "    )\n",
    "else:\n",
    "    if att_dtype == \"object\":\n",
    "        print(\n",
    "            \"(\" + str(i) + \") atributo:\",\n",
    "            c,\n",
    "            \"\\t\",\n",
    "            \"dtype:\",\n",
    "            att_dtype,\n",
    "            \"\\t\",\n",
    "            \"nulos: \",\n",
    "            att_has_null,\n",
    "            \"\\n\",\n",
    "            \"domínio (primeiros elementos):\",\n",
    "            att.unique()[0:8],\n",
    "        )\n",
    "    else:\n",
    "        print(\n",
    "            \"(\" + str(i) + \") atributo:\",\n",
    "            c,\n",
    "            \"\\t\",\n",
    "            \"dtype:\",\n",
    "            att_dtype,\n",
    "            \"\\t\",\n",
    "            \"nulos: \",\n",
    "            att_has_null,\n",
    "            \"\\n\",\n",
    "            \"min: \",\n",
    "            att.min(),\n",
    "            \"\\t\",\n",
    "            \"max: \",\n",
    "            att.max(),\n",
    "            \"\\t\",\n",
    "            \"média: \",\n",
    "            round(att.mean(), 2),\n",
    "            \"\\t\",\n",
    "            \"d.p.: \",\n",
    "            round(att.std(), 2),\n",
    "        )\n",
    "\n",
    "    "
   ]
  }
 ],
 "metadata": {
  "kernelspec": {
   "display_name": "Python 3",
   "language": "python",
   "name": "python3"
  },
  "language_info": {
   "codemirror_mode": {
    "name": "ipython",
    "version": 3
   },
   "file_extension": ".py",
   "mimetype": "text/x-python",
   "name": "python",
   "nbconvert_exporter": "python",
   "pygments_lexer": "ipython3",
   "version": "3.10.8"
  },
  "orig_nbformat": 4,
  "vscode": {
   "interpreter": {
    "hash": "e7370f93d1d0cde622a1f8e1c04877d8463912d04d973331ad4851f04de6915a"
   }
  }
 },
 "nbformat": 4,
 "nbformat_minor": 2
}
