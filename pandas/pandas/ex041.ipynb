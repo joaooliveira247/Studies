{
 "cells": [
  {
   "attachments": {},
   "cell_type": "markdown",
   "metadata": {},
   "source": [
    "# P41: Operações de conjunto"
   ]
  },
  {
   "cell_type": "code",
   "execution_count": 1,
   "metadata": {},
   "outputs": [
    {
     "name": "stdout",
     "output_type": "stream",
     "text": [
      "--------------------------\n",
      "Alunos Distindos:\n",
      "                  email\n",
      "0        rakesh@xyz.com\n",
      "1    ecg@acmecorpus.com\n",
      "2           ana@xyz.com\n",
      "3  jonas@acmecorpus.com\n",
      "4        rakesh@xyz.com\n",
      "--------------------------\n",
      "Alunos que cursuram SQL e Python:\n",
      "            email\n",
      "0  rakesh@xyz.com\n",
      "--------------------------\n",
      "Alunos que cursaram apenas SQL:\n",
      "                email\n",
      "1  ecg@acmecorpus.com\n",
      "--------------------------\n",
      "Alunos que cursaram apenas Python:\n",
      "                  email\n",
      "0           ana@xyz.com\n",
      "1  jonas@acmecorpus.com\n"
     ]
    }
   ],
   "source": [
    "import pandas as pd\n",
    "\n",
    "df_sql = pd.DataFrame({\"email\": [\"rakesh@xyz.com\", \"ecg@acmecorpus.com\"]})\n",
    "df_python = pd.DataFrame(\n",
    "    {\"email\": [\"ana@xyz.com\", \"jonas@acmecorpus.com\", \"rakesh@xyz.com\"]}\n",
    ")\n",
    "\n",
    "# União\n",
    "alunos = pd.concat([df_sql, df_python], ignore_index=True)\n",
    "alunos.drop_duplicates()\n",
    "\n",
    "# Interseção \"Ambos\"\n",
    "sql_n_python = df_sql.merge(df_python)\n",
    "\n",
    "# Diferença \n",
    "only_sql = df_sql[df_sql.email.isin(df_python.email) == False]\n",
    "only_py = df_python[df_python.email.isin(df_sql.email) == False]\n",
    "\n",
    "print(\n",
    "    f\"{'-'*26}\\nAlunos Distindos:\\n{alunos}\\n{'-'*26}\\nAlunos que cursuram SQL\"\n",
    "    f\" e Python:\\n{sql_n_python}\\n{'-'*26}\\nAlunos que cursaram apenas SQL:\\n\"\n",
    "    f\"{only_sql}\\n{'-'*26}\\nAlunos que cursaram apenas Python:\\n{only_py}\"\n",
    ")"
   ]
  }
 ],
 "metadata": {
  "kernelspec": {
   "display_name": "Python 3",
   "language": "python",
   "name": "python3"
  },
  "language_info": {
   "codemirror_mode": {
    "name": "ipython",
    "version": 3
   },
   "file_extension": ".py",
   "mimetype": "text/x-python",
   "name": "python",
   "nbconvert_exporter": "python",
   "pygments_lexer": "ipython3",
   "version": "3.10.8"
  },
  "orig_nbformat": 4,
  "vscode": {
   "interpreter": {
    "hash": "e7370f93d1d0cde622a1f8e1c04877d8463912d04d973331ad4851f04de6915a"
   }
  }
 },
 "nbformat": 4,
 "nbformat_minor": 2
}
