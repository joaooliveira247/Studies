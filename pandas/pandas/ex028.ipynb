{
 "cells": [
  {
   "attachments": {},
   "cell_type": "markdown",
   "metadata": {},
   "source": [
    "# P28: Métodos unique() e value_counts()"
   ]
  },
  {
   "cell_type": "code",
   "execution_count": 5,
   "metadata": {},
   "outputs": [
    {
     "name": "stdout",
     "output_type": "stream",
     "text": [
      "Domínio dos atributos categóricos\n",
      "--------------------------\n",
      "Sexo: ['F' 'M']\n",
      "Bairro:['Belverde' 'Savassi' 'Anchieta' None]\n",
      "Cartão: ['Master' 'Visa' 'Amex' 'Elo']\n",
      "\n",
      "Tabela de frequência\n",
      "--------------------------\n",
      "Sexo: F    4\n",
      "M    2\n",
      "Name: sexo, dtype: int64\n",
      "Bairro: Belverde    2\n",
      "Savassi     2\n",
      "Anchieta    1\n",
      "Name: bairro, dtype: int64\n",
      " Cartão: Master    2\n",
      "Visa      2\n",
      "Amex      1\n",
      "Elo       1\n",
      "Name: cartao, dtype: int64\n"
     ]
    }
   ],
   "source": [
    "import pandas as pd\n",
    "\n",
    "dados = {\n",
    "    \"sexo\": [\"F\", \"M\", \"F\", \"F\", \"F\", \"M\"],\n",
    "    \"bairro\": [\"Belverde\", \"Belverde\", \"Savassi\", \"Anchieta\", None, \"Savassi\"],\n",
    "    \"valor\": [150.00, 35.00, 80.00, 250.00, 9.90, 25.00],\n",
    "    \"cartao\": [\"Master\", \"Visa\", \"Visa\", \"Amex\", \"Elo\", \"Master\"],\n",
    "}\n",
    "\n",
    "id_clientes = [1, 2, 3, 4, 5, 6]\n",
    "\n",
    "vendas = pd.DataFrame(dados, index=id_clientes)\n",
    "vendas.index.name = \"Client ID\"\n",
    "\n",
    "print(\n",
    "    f\"Domínio dos atributos categóricos\\n{'-'*26}\\nSexo: \"\n",
    "    f\"{vendas['sexo'].unique()}\\nBairro:{vendas['bairro'].unique()}\\n\"\n",
    "    f\"Cartão: {vendas['cartao'].unique()}\\n\"\n",
    ")\n",
    "# Frequencia dos valores de cada coluna\n",
    "print(\n",
    "    f\"Tabela de frequência\\n{'-'*26}\\nSexo: {vendas['sexo'].value_counts()}\\n\"\n",
    "    f\"Bairro: {vendas['bairro'].value_counts()}\\n Cartão: \"\n",
    "    f\"{vendas['cartao'].value_counts()}\"\n",
    ")"
   ]
  }
 ],
 "metadata": {
  "kernelspec": {
   "display_name": "Python 3",
   "language": "python",
   "name": "python3"
  },
  "language_info": {
   "codemirror_mode": {
    "name": "ipython",
    "version": 3
   },
   "file_extension": ".py",
   "mimetype": "text/x-python",
   "name": "python",
   "nbconvert_exporter": "python",
   "pygments_lexer": "ipython3",
   "version": "3.10.8 (main, Oct 19 2022, 08:03:53) [GCC 10.2.1 20210110]"
  },
  "orig_nbformat": 4,
  "vscode": {
   "interpreter": {
    "hash": "e7370f93d1d0cde622a1f8e1c04877d8463912d04d973331ad4851f04de6915a"
   }
  }
 },
 "nbformat": 4,
 "nbformat_minor": 2
}
