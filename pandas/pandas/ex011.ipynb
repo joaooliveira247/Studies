{
 "cells": [
  {
   "attachments": {},
   "cell_type": "markdown",
   "metadata": {},
   "source": [
    "# P11: Hello DataFrame"
   ]
  },
  {
   "cell_type": "code",
   "execution_count": 1,
   "metadata": {},
   "outputs": [
    {
     "name": "stdout",
     "output_type": "stream",
     "text": [
      "           nome continente  extensao  CorVerde\n",
      "AR    Argentina    América      2780         0\n",
      "BR       Brasil    América      8511         1\n",
      "FR       França     Europa       644         0\n",
      "IT       Itália     Europa       301         1\n",
      "UK  Reino Unido     Europa       244         0\n"
     ]
    }
   ],
   "source": [
    "import pandas as pd\n",
    "\n",
    "dados = {\n",
    "    \"nome\": [\n",
    "        \"Argentina\", \"Brasil\", \"França\", \"Itália\", \"Reino Unido\"\n",
    "    ],\n",
    "    \"continente\": [\n",
    "        \"América\", \"América\", \"Europa\", \"Europa\", \"Europa\"\n",
    "    ],\n",
    "    \"extensao\": [\n",
    "        2780, 8511, 644, 301, 244\n",
    "    ],\n",
    "    \"CorVerde\": [0, 1, 0, 1, 0]\n",
    "}\n",
    "\n",
    "siglas = [\n",
    "    \"AR\", \"BR\", \"FR\", \"IT\", \"UK\"\n",
    "]\n",
    "\n",
    "paises = pd.DataFrame(dados, index=siglas)\n",
    "\n",
    "print(paises)"
   ]
  }
 ],
 "metadata": {
  "kernelspec": {
   "display_name": "Python 3",
   "language": "python",
   "name": "python3"
  },
  "language_info": {
   "codemirror_mode": {
    "name": "ipython",
    "version": 3
   },
   "file_extension": ".py",
   "mimetype": "text/x-python",
   "name": "python",
   "nbconvert_exporter": "python",
   "pygments_lexer": "ipython3",
   "version": "3.10.8"
  },
  "orig_nbformat": 4,
  "vscode": {
   "interpreter": {
    "hash": "e7370f93d1d0cde622a1f8e1c04877d8463912d04d973331ad4851f04de6915a"
   }
  }
 },
 "nbformat": 4,
 "nbformat_minor": 2
}
