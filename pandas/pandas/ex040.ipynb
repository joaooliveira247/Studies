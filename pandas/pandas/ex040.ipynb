{
 "cells": [
  {
   "attachments": {},
   "cell_type": "markdown",
   "metadata": {},
   "source": [
    "# P40: Concatenação de DataFrames Incompatíveis"
   ]
  },
  {
   "cell_type": "code",
   "execution_count": 1,
   "metadata": {},
   "outputs": [
    {
     "name": "stdout",
     "output_type": "stream",
     "text": [
      "     carro     animal\n",
      "0  Hyundai        NaN\n",
      "1  Ranault        NaN\n",
      "2     Fiat        NaN\n",
      "3      NaN   Capivata\n",
      "4      NaN  Bem-te-vi\n"
     ]
    }
   ],
   "source": [
    "import pandas as pd\n",
    "\n",
    "d1 = pd.DataFrame(\n",
    "    {\"carro\": [\"Hyundai\", \"Ranault\", \"Fiat\"]}\n",
    ")\n",
    "d2 = pd.DataFrame(\n",
    "    {\"animal\": [\"Capivata\", \"Bem-te-vi\"]}\n",
    ")\n",
    "\n",
    "d3 = pd.concat([d1, d2], ignore_index=True, sort=False)\n",
    "\n",
    "print(d3)"
   ]
  }
 ],
 "metadata": {
  "kernelspec": {
   "display_name": "Python 3",
   "language": "python",
   "name": "python3"
  },
  "language_info": {
   "codemirror_mode": {
    "name": "ipython",
    "version": 3
   },
   "file_extension": ".py",
   "mimetype": "text/x-python",
   "name": "python",
   "nbconvert_exporter": "python",
   "pygments_lexer": "ipython3",
   "version": "3.10.8"
  },
  "orig_nbformat": 4,
  "vscode": {
   "interpreter": {
    "hash": "e7370f93d1d0cde622a1f8e1c04877d8463912d04d973331ad4851f04de6915a"
   }
  }
 },
 "nbformat": 4,
 "nbformat_minor": 2
}
