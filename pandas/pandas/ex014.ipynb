{
 "cells": [
  {
   "attachments": {},
   "cell_type": "markdown",
   "metadata": {},
   "source": [
    "# P14: Modificação de DataFrame"
   ]
  },
  {
   "cell_type": "code",
   "execution_count": 1,
   "metadata": {},
   "outputs": [
    {
     "name": "stdout",
     "output_type": "stream",
     "text": [
      "DataFrame após as alterações:\n",
      "      nome continente  extensao  corVerde\n",
      "BR  Brasil    América      8512         1\n",
      "FR  França     Europa       644         0\n",
      "IT  Itália     Europa       301         1\n",
      "JP   Japão       Ásia       372         0\n"
     ]
    }
   ],
   "source": [
    "import pandas as pd\n",
    "\n",
    "dados = {\n",
    "    \"nome\": [\"Argentina\", \"Brasil\", \"França\", \"Itália\", \"Reino Unido\"],\n",
    "    \"continente\": [\"América\", \"América\", \"Europa\", \"Europa\", \"Europa\"],\n",
    "    \"extensao\": [2780, 8511, 644, 301, 244],\n",
    "    \"corVerde\": [0, 1, 0, 1, 0],\n",
    "}\n",
    "siglas = [\"AR\", \"BR\", \"FR\", \"IT\", \"UK\"]\n",
    "\n",
    "paises = pd.DataFrame(dados, index=siglas)\n",
    "\n",
    "# Insert\n",
    "paises.loc[\"JP\"] = {\n",
    "    \"nome\": \"Japão\",\n",
    "    \"continente\": \"Ásia\",\n",
    "    \"extensao\": 372,\n",
    "    \"corVerde\": 0\n",
    "}\n",
    "\n",
    "# update\n",
    "paises.at[\"BR\", \"extensao\"] = 8512\n",
    "\n",
    "# remove\n",
    "\n",
    "paises = paises.drop([\"AR\", \"UK\"])\n",
    "\n",
    "print(f\"DataFrame após as alterações:\\n{paises}\")"
   ]
  }
 ],
 "metadata": {
  "kernelspec": {
   "display_name": "Python 3",
   "language": "python",
   "name": "python3"
  },
  "language_info": {
   "codemirror_mode": {
    "name": "ipython",
    "version": 3
   },
   "file_extension": ".py",
   "mimetype": "text/x-python",
   "name": "python",
   "nbconvert_exporter": "python",
   "pygments_lexer": "ipython3",
   "version": "3.10.8"
  },
  "orig_nbformat": 4,
  "vscode": {
   "interpreter": {
    "hash": "e7370f93d1d0cde622a1f8e1c04877d8463912d04d973331ad4851f04de6915a"
   }
  }
 },
 "nbformat": 4,
 "nbformat_minor": 2
}
