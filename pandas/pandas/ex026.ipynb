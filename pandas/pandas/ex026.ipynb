{
 "cells": [
  {
   "attachments": {},
   "cell_type": "markdown",
   "metadata": {},
   "source": [
    "# P26: Estatísticas sobre colounas e linhas de um DataFrame"
   ]
  },
  {
   "cell_type": "code",
   "execution_count": 6,
   "metadata": {},
   "outputs": [
    {
     "name": "stdout",
     "output_type": "stream",
     "text": [
      "Notas finais:\n",
      "--------------------------\n",
      "     A1   A2   A3   A4\n",
      "P1  9.8  5.3  5.5  7.0\n",
      "P2  7.2  4.0  8.1  7.5\n",
      "P3  8.0  3.5  7.2  6.5\n",
      "--------------------------\n",
      "Média de cada aluno:\n",
      "--------------------------\n",
      "A1    8.333333\n",
      "A2    4.266667\n",
      "A3    6.933333\n",
      "A4    7.000000\n",
      "dtype: float64\n",
      "--------------------------\n",
      "Maior nota de cada aluno:\n",
      "--------------------------\n",
      "A1    9.8\n",
      "A2    5.3\n",
      "A3    8.1\n",
      "A4    7.5\n",
      "dtype: float64\n",
      "--------------------------\n",
      "Média de cada prova:\n",
      "--------------------------\n",
      "P1    6.9\n",
      "P2    6.7\n",
      "P3    6.3\n",
      "dtype: float64\n",
      "--------------------------\n",
      "Maior nota de cada prova:\n",
      "--------------------------\n",
      "P1    9.8\n",
      "P2    8.1\n",
      "P3    8.0\n",
      "dtype: float64\n"
     ]
    }
   ],
   "source": [
    "import pandas as pd\n",
    "\n",
    "notas = pd.DataFrame(\n",
    "    {\n",
    "        \"A1\": [9.8, 7.2, 8.0],\n",
    "        \"A2\": [5.3, 4.0, 3.5],\n",
    "        \"A3\": [5.5, 8.1, 7.2],\n",
    "        \"A4\": [7.0, 7.5, 6.5],\n",
    "    },\n",
    "    index=[\"P1\", \"P2\", \"P3\"],\n",
    ")\n",
    "\n",
    "print(\n",
    "    f\"Notas finais:\\n{'-'*26}\\n{notas}\\n{'-'*26}\\nMédia de cada aluno:\\n\"\n",
    "    f\"{'-'*26}\\n{notas.mean()}\\n{'-'*26}\\nMaior nota de cada aluno:\\n{'-'*26}\"\n",
    "    f\"\\n{notas.max()}\\n{'-'*26}\\nMédia de cada prova:\\n{'-'*26}\\n\"\n",
    "    f\"{notas.mean(axis=1)}\\n{'-'*26}\\nMaior nota de cada prova:\\n{'-'*26}\\n\"\n",
    "    f\"{notas.max(axis=1)}\"\n",
    "    )"
   ]
  }
 ],
 "metadata": {
  "kernelspec": {
   "display_name": "Python 3",
   "language": "python",
   "name": "python3"
  },
  "language_info": {
   "codemirror_mode": {
    "name": "ipython",
    "version": 3
   },
   "file_extension": ".py",
   "mimetype": "text/x-python",
   "name": "python",
   "nbconvert_exporter": "python",
   "pygments_lexer": "ipython3",
   "version": "3.10.8"
  },
  "orig_nbformat": 4,
  "vscode": {
   "interpreter": {
    "hash": "e7370f93d1d0cde622a1f8e1c04877d8463912d04d973331ad4851f04de6915a"
   }
  }
 },
 "nbformat": 4,
 "nbformat_minor": 2
}
