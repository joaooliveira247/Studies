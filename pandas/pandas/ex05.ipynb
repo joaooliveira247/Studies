{
 "cells": [
  {
   "attachments": {},
   "cell_type": "markdown",
   "metadata": {},
   "source": [
    "# PO5: Inserindo, Alterando e Removendo elementos de uma Series."
   ]
  },
  {
   "cell_type": "code",
   "execution_count": 3,
   "metadata": {},
   "outputs": [
    {
     "name": "stdout",
     "output_type": "stream",
     "text": [
      "Series Original: \n",
      "M02      Bob\n",
      "M05    Dayse\n",
      "M13     Bill\n",
      "M14     Cris\n",
      "M19     Jime\n",
      "dtype: object\n",
      "--------------------------------------------------------------------------------\n",
      "Series após alterações: \n",
      "M05     Dayse\n",
      "M13     Billy\n",
      "M14    Cristy\n",
      "M19     Jimmy\n",
      "M55    Rakesh\n",
      "dtype: object\n"
     ]
    }
   ],
   "source": [
    "import pandas as pd\n",
    "\n",
    "alunos = pd.Series(\n",
    "    {\n",
    "        \"M02\": \"Bob\", \"M05\": \"Dayse\", \"M13\": \"Bill\", \"M14\": \"Cris\", \"M19\": \"Jime\"\n",
    "        }\n",
    ")\n",
    "\n",
    "print(f\"Series Original: \\n{alunos}\")\n",
    "\n",
    "# Insere uma aluno\n",
    "alunos[\"M55\"] = \"Rakesh\"\n",
    "\n",
    "# Altera os valores de alunos\n",
    "alunos[\"M13\"] = \"Billy\"\n",
    "alunos[[\"M14\", \"M19\"]] = [\"Cristy\", \"Jimmy\"]\n",
    "\n",
    "# remove um aluno\n",
    "alunos = alunos.drop(\"M02\")\n",
    "\n",
    "print(\"----\"*20)\n",
    "print(f\"Series após alterações: \\n{alunos}\")\n"
   ]
  }
 ],
 "metadata": {
  "kernelspec": {
   "display_name": "Python 3",
   "language": "python",
   "name": "python3"
  },
  "language_info": {
   "codemirror_mode": {
    "name": "ipython",
    "version": 3
   },
   "file_extension": ".py",
   "mimetype": "text/x-python",
   "name": "python",
   "nbconvert_exporter": "python",
   "pygments_lexer": "ipython3",
   "version": "3.10.8 (main, Oct 19 2022, 08:03:53) [GCC 10.2.1 20210110]"
  },
  "orig_nbformat": 4,
  "vscode": {
   "interpreter": {
    "hash": "e7370f93d1d0cde622a1f8e1c04877d8463912d04d973331ad4851f04de6915a"
   }
  }
 },
 "nbformat": 4,
 "nbformat_minor": 2
}
