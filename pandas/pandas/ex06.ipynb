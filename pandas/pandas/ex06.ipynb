{
 "cells": [
  {
   "attachments": {},
   "cell_type": "markdown",
   "metadata": {},
   "source": [
    "# P06: Iteração"
   ]
  },
  {
   "cell_type": "code",
   "execution_count": 2,
   "metadata": {},
   "outputs": [
    {
     "name": "stdout",
     "output_type": "stream",
     "text": [
      "Bob\n",
      "Dayse\n",
      "Bill\n",
      "Cris\n",
      "Jime\n",
      "----------\n",
      "M02\n",
      "M05\n",
      "M13\n",
      "M14\n",
      "M19\n"
     ]
    }
   ],
   "source": [
    "import pandas as pd\n",
    "\n",
    "alunos = pd.Series(\n",
    "    {\n",
    "        \"M02\": \"Bob\", \"M05\": \"Dayse\", \"M13\": \"Bill\", \"M14\": \"Cris\", \"M19\": \"Jime\"\n",
    "    }\n",
    ")\n",
    "\n",
    "for aluno in alunos:\n",
    "    print(aluno)\n",
    "\n",
    "print(\"-\"*10)\n",
    "\n",
    "for idx in alunos.index:\n",
    "    print(idx)"
   ]
  }
 ],
 "metadata": {
  "kernelspec": {
   "display_name": "Python 3",
   "language": "python",
   "name": "python3"
  },
  "language_info": {
   "codemirror_mode": {
    "name": "ipython",
    "version": 3
   },
   "file_extension": ".py",
   "mimetype": "text/x-python",
   "name": "python",
   "nbconvert_exporter": "python",
   "pygments_lexer": "ipython3",
   "version": "3.10.8"
  },
  "orig_nbformat": 4,
  "vscode": {
   "interpreter": {
    "hash": "e7370f93d1d0cde622a1f8e1c04877d8463912d04d973331ad4851f04de6915a"
   }
  }
 },
 "nbformat": 4,
 "nbformat_minor": 2
}
