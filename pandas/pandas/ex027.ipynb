{
 "cells": [
  {
   "attachments": {},
   "cell_type": "markdown",
   "metadata": {},
   "source": [
    "# P27: Métodos sort_values() e rank()"
   ]
  },
  {
   "cell_type": "code",
   "execution_count": 3,
   "metadata": {},
   "outputs": [
    {
     "name": "stdout",
     "output_type": "stream",
     "text": [
      "Posição de cada nadador (por raia):\n",
      "raia\n",
      "3    1.0\n",
      "4    2.0\n",
      "6    3.0\n",
      "2    4.0\n",
      "5    5.0\n",
      "7    6.0\n",
      "8    6.0\n",
      "1    8.0\n",
      "Name: tempo, dtype: float64\n"
     ]
    }
   ],
   "source": [
    "import pandas as pd\n",
    "\n",
    "dados = {\n",
    "    \"nadador\": [\n",
    "        \"Simonas Bilis\",\n",
    "        \"Benjamin Proud\",\n",
    "        \"Anthony Ervin\",\n",
    "        \"Florent Manaudou\",\n",
    "        \"Andriy Hovorov\",\n",
    "        \"Nathan Adrian\",\n",
    "        \"Bruno Fratus\",\n",
    "        \"Brad Tandy\",\n",
    "    ],\n",
    "    \"nacionalidade\": [\n",
    "        \"Lituânia\",\n",
    "        \"Grã-Bretanha\",\n",
    "        \"Estados Unidos\",\n",
    "        \"França\",\n",
    "        \"Ucrânia\",\n",
    "        \"Estados Unidos\",\n",
    "        \"Brasil\",\n",
    "        \"África do Sul\",\n",
    "    ],\n",
    "    \"tempo\": [22.08, 21.68, 21.40, 21.41, 21.74, 21.49, 21.79, 21.79],\n",
    "}\n",
    "\n",
    "raias = list(range(1, 9))\n",
    "\n",
    "provas50m = pd.DataFrame(dados, index=raias)\n",
    "provas50m.index.name = \"raia\"\n",
    "\n",
    "# order by cresc time\n",
    "provas50m = provas50m.sort_values(by=\"tempo\")\n",
    "# print(f\"Resultado final ordenado por tempo: \\n{provas50m}\")\n",
    "\n",
    "# gen rank\n",
    "resultado_por_raia = provas50m['tempo'].rank(method=\"min\")\n",
    "# print(\n",
    "    # f\"Posição de cada nadador (por raia):\\n{resultado_por_raia}\"\n",
    "# )\n",
    "\n",
    "\n",
    "\n"
   ]
  }
 ],
 "metadata": {
  "kernelspec": {
   "display_name": "Python 3",
   "language": "python",
   "name": "python3"
  },
  "language_info": {
   "codemirror_mode": {
    "name": "ipython",
    "version": 3
   },
   "file_extension": ".py",
   "mimetype": "text/x-python",
   "name": "python",
   "nbconvert_exporter": "python",
   "pygments_lexer": "ipython3",
   "version": "3.10.8"
  },
  "orig_nbformat": 4,
  "vscode": {
   "interpreter": {
    "hash": "e7370f93d1d0cde622a1f8e1c04877d8463912d04d973331ad4851f04de6915a"
   }
  }
 },
 "nbformat": 4,
 "nbformat_minor": 2
}
