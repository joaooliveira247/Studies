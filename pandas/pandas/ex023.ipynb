{
 "cells": [
  {
   "attachments": {},
   "cell_type": "markdown",
   "metadata": {},
   "source": [
    "# Estatística Básica\n",
    "\n",
    "## Medidas de tendência central\n",
    "\n",
    "Uma medida de tendência central é aquela capaz de representar o que é\n",
    "médio ou típico do conjunto de dados.\n",
    "\n",
    "Serão abordadas: Média, mediana e moda\n",
    "\n",
    "## Tipos de atributos\n",
    "\n",
    "![tipos de atributo](./images/tipos_atributos.png)\n",
    "\n",
    "### Numérico\n",
    "\n",
    "- Um atributo\n",
    "que pode armazenar uma ampla gama de valores numéricos sobre os quais\n",
    "podemos executar operações como soma, subtração, obtenção de valor\n",
    "médio etc.\n",
    "\n",
    "    - Contínuo:\n",
    "\n",
    "        - os contínuos servem para representar esse outro universo em que as os valores podem ser quebrados como “a velocidade média dos carros de fórmula um durante o GP do Brasil” ou “o K/D de um jogador durante uma partida de rainbow six siege”.\n",
    "\n",
    "    - Discreto:\n",
    "\n",
    "        - Os discretos representam valores inteiros, como “a quantidade de vezes que eu alunos que fecharam uma prova” ou “quantos passos eu gasto pra chegar no IMD”, são valores aos quais não faz sentido ter um valor quebrado/fração.\n",
    "\n",
    "### Categórico\n",
    "\n",
    "- Devido ao fato de esses valores serem categorias, sexo é chamado de atributo categórico, cujos níveis (levels) ou categorias são {\"F\", \"M\"}.\n",
    "\n",
    "    - Nominal: \n",
    "\n",
    "        - Onde a ordem não importa.\n",
    "\n",
    "    - Ordinal: \n",
    "\n",
    "        - Onde a ordem importa, bom usar um Enum para isso.\n",
    "\n"
   ]
  },
  {
   "attachments": {},
   "cell_type": "markdown",
   "metadata": {},
   "source": [
    "# P23: Estatísticas básicas: medidas de tendência central"
   ]
  },
  {
   "cell_type": "code",
   "execution_count": 1,
   "metadata": {},
   "outputs": [
    {
     "name": "stdout",
     "output_type": "stream",
     "text": [
      "Média: 2.857142857142857\n",
      "Mediana: 3.0\n",
      "Moda: [4]\n"
     ]
    }
   ],
   "source": [
    "import pandas as pd\n",
    "\n",
    "dados = {\n",
    "    \"jogador\": [\n",
    "        \"Marcelo\",\n",
    "        \"Pedro\",\n",
    "        \"Marcelo\",\n",
    "        \"Adriano\",\n",
    "        \"Mauro\",\n",
    "        \"Pedro\",\n",
    "        \"Marcelo\",\n",
    "    ],\n",
    "    \"infracao\": [\n",
    "        \"FALTA VIOLENTA\",\n",
    "        \"RECLAMACAO\",\n",
    "        \"FALTA COMUM\",\n",
    "        \"RECLAMACAO\",\n",
    "        \"FALTA COMUM\",\n",
    "        \"FALTA VIOLENTA\",\n",
    "        \"RECLAMACAO\",\n",
    "    ],\n",
    "    \"punicao\": [4, 1, 3, 2, 4, 4, 2],\n",
    "}\n",
    "\n",
    "df = pd.DataFrame(dados)\n",
    "\n",
    "print(\n",
    "    f\"Média: {df['punicao'].mean()}\\nMediana: {df['punicao'].median()}\\nModa: \"\n",
    "    f\"{df['punicao'].mode().values}\"\n",
    "    )"
   ]
  }
 ],
 "metadata": {
  "kernelspec": {
   "display_name": "Python 3",
   "language": "python",
   "name": "python3"
  },
  "language_info": {
   "codemirror_mode": {
    "name": "ipython",
    "version": 3
   },
   "file_extension": ".py",
   "mimetype": "text/x-python",
   "name": "python",
   "nbconvert_exporter": "python",
   "pygments_lexer": "ipython3",
   "version": "3.10.8"
  },
  "orig_nbformat": 4,
  "vscode": {
   "interpreter": {
    "hash": "e7370f93d1d0cde622a1f8e1c04877d8463912d04d973331ad4851f04de6915a"
   }
  }
 },
 "nbformat": 4,
 "nbformat_minor": 2
}
