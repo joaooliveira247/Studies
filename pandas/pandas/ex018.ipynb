{
 "cells": [
  {
   "attachments": {},
   "cell_type": "markdown",
   "metadata": {},
   "source": [
    "\n",
    "# P18: Impotação de planilha Excel"
   ]
  },
  {
   "cell_type": "code",
   "execution_count": 2,
   "metadata": {},
   "outputs": [
    {
     "name": "stdout",
     "output_type": "stream",
     "text": [
      "            capital   região  população\n",
      "0   Belém            Sudeste    1446042\n",
      "1   Belo Horizonte   Sudeste    2513451\n",
      "2   Boa Vista          Norte     326419\n",
      "3   Curitiba             Sul    1893977\n",
      "4   Florianópolis        Sul     477798\n",
      "5   Macapá             Norte     465495\n",
      "6   Manaus             Norte    2094391\n",
      "7   Palmas             Norte     279856\n",
      "8   Porto Alegre         Sul    1481019\n",
      "9   Porto Velho        Norte     511219\n",
      "10  Rio Branco         Norte     377057\n",
      "11  São Paulo        Sudeste   12038175\n",
      "12  Rio de Janeiro   Sudeste    6498837\n",
      "13  Vitória          Sudeste     359555\n"
     ]
    }
   ],
   "source": [
    "import pandas as pd\n",
    "\n",
    "capitais = pd.read_excel(\"./csv/capitais.xlsx\")\n",
    "print(capitais)"
   ]
  }
 ],
 "metadata": {
  "kernelspec": {
   "display_name": "Python 3",
   "language": "python",
   "name": "python3"
  },
  "language_info": {
   "codemirror_mode": {
    "name": "ipython",
    "version": 3
   },
   "file_extension": ".py",
   "mimetype": "text/x-python",
   "name": "python",
   "nbconvert_exporter": "python",
   "pygments_lexer": "ipython3",
   "version": "3.10.8 (main, Oct 19 2022, 08:03:53) [GCC 10.2.1 20210110]"
  },
  "orig_nbformat": 4,
  "vscode": {
   "interpreter": {
    "hash": "e7370f93d1d0cde622a1f8e1c04877d8463912d04d973331ad4851f04de6915a"
   }
  }
 },
 "nbformat": 4,
 "nbformat_minor": 2
}
